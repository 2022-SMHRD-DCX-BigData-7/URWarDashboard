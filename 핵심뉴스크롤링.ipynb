{
 "cells": [
  {
   "cell_type": "code",
   "execution_count": 5,
   "id": "727e2975",
   "metadata": {},
   "outputs": [],
   "source": [
    "# selenium 라이브러리 로딩\n",
    "\n",
    "import pandas as pd\n",
    "import time\n",
    "\n",
    "# 브라우저\n",
    "from selenium import webdriver as wb\n",
    "\n",
    "# 구분자\n",
    "from selenium.webdriver.common.by import By\n",
    "\n",
    "# 키보드\n",
    "from selenium.webdriver.common.keys import Keys\n",
    "\n",
    "# 파일 시스템을 위한 라이브러리(파일, 폴더를 생성/삭제 하는 역할)\n",
    "import os\n",
    "\n",
    "# url값을 파일로 저장해주는 라이브러리\n",
    "from urllib.request import urlretrieve\n",
    "\n",
    "from selenium.webdriver.common.action_chains import ActionChains\n",
    "from selenium.webdriver.support.ui import WebDriverWait\n",
    "from selenium.webdriver.support import expected_conditions as EC"
   ]
  },
  {
   "cell_type": "code",
   "execution_count": 39,
   "id": "885a3f50",
   "metadata": {},
   "outputs": [],
   "source": [
    "url=\"https://www.bigkinds.or.kr/v2/news/search.do\"\n",
    "driver=wb.Chrome()\n",
    "driver.get(url)"
   ]
  },
  {
   "cell_type": "code",
   "execution_count": 4,
   "id": "a77ac91f",
   "metadata": {},
   "outputs": [
    {
     "ename": "NoSuchWindowException",
     "evalue": "Message: no such window: target window already closed\nfrom unknown error: web view not found\n  (Session info: chrome=115.0.5790.110)\nStacktrace:\nBacktrace:\n\tGetHandleVerifier [0x0055A813+48355]\n\t(No symbol) [0x004EC4B1]\n\t(No symbol) [0x003F5358]\n\t(No symbol) [0x003DD293]\n\t(No symbol) [0x0043E37B]\n\t(No symbol) [0x0044C473]\n\t(No symbol) [0x0043A536]\n\t(No symbol) [0x004182DC]\n\t(No symbol) [0x004193DD]\n\tGetHandleVerifier [0x007BAABD+2539405]\n\tGetHandleVerifier [0x007FA78F+2800735]\n\tGetHandleVerifier [0x007F456C+2775612]\n\tGetHandleVerifier [0x005E51E0+616112]\n\t(No symbol) [0x004F5F8C]\n\t(No symbol) [0x004F2328]\n\t(No symbol) [0x004F240B]\n\t(No symbol) [0x004E4FF7]\n\tBaseThreadInitThunk [0x75F27D59+25]\n\tRtlInitializeExceptionChain [0x7782B79B+107]\n\tRtlClearBits [0x7782B71F+191]\n",
     "output_type": "error",
     "traceback": [
      "\u001b[1;31m---------------------------------------------------------------------------\u001b[0m",
      "\u001b[1;31mNoSuchWindowException\u001b[0m                     Traceback (most recent call last)",
      "Cell \u001b[1;32mIn[4], line 2\u001b[0m\n\u001b[0;32m      1\u001b[0m \u001b[38;5;66;03m# 1. 기사타이틀 데이터 수집\u001b[39;00m\n\u001b[1;32m----> 2\u001b[0m title\u001b[38;5;241m=\u001b[39m\u001b[43mdriver\u001b[49m\u001b[38;5;241;43m.\u001b[39;49m\u001b[43mfind_elements\u001b[49m\u001b[43m(\u001b[49m\u001b[43mBy\u001b[49m\u001b[38;5;241;43m.\u001b[39;49m\u001b[43mCSS_SELECTOR\u001b[49m\u001b[43m,\u001b[49m\u001b[43m \u001b[49m\u001b[38;5;124;43m\"\u001b[39;49m\u001b[38;5;124;43mstrong>span.title-elipsis\u001b[39;49m\u001b[38;5;124;43m\"\u001b[39;49m\u001b[43m)\u001b[49m\n\u001b[0;32m      3\u001b[0m \u001b[38;5;28mlen\u001b[39m(title)\n",
      "File \u001b[1;32m~\\anaconda3\\lib\\site-packages\\selenium\\webdriver\\remote\\webdriver.py:770\u001b[0m, in \u001b[0;36mWebDriver.find_elements\u001b[1;34m(self, by, value)\u001b[0m\n\u001b[0;32m    766\u001b[0m     value \u001b[38;5;241m=\u001b[39m \u001b[38;5;124mf\u001b[39m\u001b[38;5;124m'\u001b[39m\u001b[38;5;124m[name=\u001b[39m\u001b[38;5;124m\"\u001b[39m\u001b[38;5;132;01m{\u001b[39;00mvalue\u001b[38;5;132;01m}\u001b[39;00m\u001b[38;5;124m\"\u001b[39m\u001b[38;5;124m]\u001b[39m\u001b[38;5;124m'\u001b[39m\n\u001b[0;32m    768\u001b[0m \u001b[38;5;66;03m# Return empty list if driver returns null\u001b[39;00m\n\u001b[0;32m    769\u001b[0m \u001b[38;5;66;03m# See https://github.com/SeleniumHQ/selenium/issues/4555\u001b[39;00m\n\u001b[1;32m--> 770\u001b[0m \u001b[38;5;28;01mreturn\u001b[39;00m \u001b[38;5;28;43mself\u001b[39;49m\u001b[38;5;241;43m.\u001b[39;49m\u001b[43mexecute\u001b[49m\u001b[43m(\u001b[49m\u001b[43mCommand\u001b[49m\u001b[38;5;241;43m.\u001b[39;49m\u001b[43mFIND_ELEMENTS\u001b[49m\u001b[43m,\u001b[49m\u001b[43m \u001b[49m\u001b[43m{\u001b[49m\u001b[38;5;124;43m\"\u001b[39;49m\u001b[38;5;124;43musing\u001b[39;49m\u001b[38;5;124;43m\"\u001b[39;49m\u001b[43m:\u001b[49m\u001b[43m \u001b[49m\u001b[43mby\u001b[49m\u001b[43m,\u001b[49m\u001b[43m \u001b[49m\u001b[38;5;124;43m\"\u001b[39;49m\u001b[38;5;124;43mvalue\u001b[39;49m\u001b[38;5;124;43m\"\u001b[39;49m\u001b[43m:\u001b[49m\u001b[43m \u001b[49m\u001b[43mvalue\u001b[49m\u001b[43m}\u001b[49m\u001b[43m)\u001b[49m[\u001b[38;5;124m\"\u001b[39m\u001b[38;5;124mvalue\u001b[39m\u001b[38;5;124m\"\u001b[39m] \u001b[38;5;129;01mor\u001b[39;00m []\n",
      "File \u001b[1;32m~\\anaconda3\\lib\\site-packages\\selenium\\webdriver\\remote\\webdriver.py:346\u001b[0m, in \u001b[0;36mWebDriver.execute\u001b[1;34m(self, driver_command, params)\u001b[0m\n\u001b[0;32m    344\u001b[0m response \u001b[38;5;241m=\u001b[39m \u001b[38;5;28mself\u001b[39m\u001b[38;5;241m.\u001b[39mcommand_executor\u001b[38;5;241m.\u001b[39mexecute(driver_command, params)\n\u001b[0;32m    345\u001b[0m \u001b[38;5;28;01mif\u001b[39;00m response:\n\u001b[1;32m--> 346\u001b[0m     \u001b[38;5;28;43mself\u001b[39;49m\u001b[38;5;241;43m.\u001b[39;49m\u001b[43merror_handler\u001b[49m\u001b[38;5;241;43m.\u001b[39;49m\u001b[43mcheck_response\u001b[49m\u001b[43m(\u001b[49m\u001b[43mresponse\u001b[49m\u001b[43m)\u001b[49m\n\u001b[0;32m    347\u001b[0m     response[\u001b[38;5;124m\"\u001b[39m\u001b[38;5;124mvalue\u001b[39m\u001b[38;5;124m\"\u001b[39m] \u001b[38;5;241m=\u001b[39m \u001b[38;5;28mself\u001b[39m\u001b[38;5;241m.\u001b[39m_unwrap_value(response\u001b[38;5;241m.\u001b[39mget(\u001b[38;5;124m\"\u001b[39m\u001b[38;5;124mvalue\u001b[39m\u001b[38;5;124m\"\u001b[39m, \u001b[38;5;28;01mNone\u001b[39;00m))\n\u001b[0;32m    348\u001b[0m     \u001b[38;5;28;01mreturn\u001b[39;00m response\n",
      "File \u001b[1;32m~\\anaconda3\\lib\\site-packages\\selenium\\webdriver\\remote\\errorhandler.py:245\u001b[0m, in \u001b[0;36mErrorHandler.check_response\u001b[1;34m(self, response)\u001b[0m\n\u001b[0;32m    243\u001b[0m         alert_text \u001b[38;5;241m=\u001b[39m value[\u001b[38;5;124m\"\u001b[39m\u001b[38;5;124malert\u001b[39m\u001b[38;5;124m\"\u001b[39m]\u001b[38;5;241m.\u001b[39mget(\u001b[38;5;124m\"\u001b[39m\u001b[38;5;124mtext\u001b[39m\u001b[38;5;124m\"\u001b[39m)\n\u001b[0;32m    244\u001b[0m     \u001b[38;5;28;01mraise\u001b[39;00m exception_class(message, screen, stacktrace, alert_text)  \u001b[38;5;66;03m# type: ignore[call-arg]  # mypy is not smart enough here\u001b[39;00m\n\u001b[1;32m--> 245\u001b[0m \u001b[38;5;28;01mraise\u001b[39;00m exception_class(message, screen, stacktrace)\n",
      "\u001b[1;31mNoSuchWindowException\u001b[0m: Message: no such window: target window already closed\nfrom unknown error: web view not found\n  (Session info: chrome=115.0.5790.110)\nStacktrace:\nBacktrace:\n\tGetHandleVerifier [0x0055A813+48355]\n\t(No symbol) [0x004EC4B1]\n\t(No symbol) [0x003F5358]\n\t(No symbol) [0x003DD293]\n\t(No symbol) [0x0043E37B]\n\t(No symbol) [0x0044C473]\n\t(No symbol) [0x0043A536]\n\t(No symbol) [0x004182DC]\n\t(No symbol) [0x004193DD]\n\tGetHandleVerifier [0x007BAABD+2539405]\n\tGetHandleVerifier [0x007FA78F+2800735]\n\tGetHandleVerifier [0x007F456C+2775612]\n\tGetHandleVerifier [0x005E51E0+616112]\n\t(No symbol) [0x004F5F8C]\n\t(No symbol) [0x004F2328]\n\t(No symbol) [0x004F240B]\n\t(No symbol) [0x004E4FF7]\n\tBaseThreadInitThunk [0x75F27D59+25]\n\tRtlInitializeExceptionChain [0x7782B79B+107]\n\tRtlClearBits [0x7782B71F+191]\n"
     ]
    }
   ],
   "source": [
    "# 1. 기사타이틀 데이터 수집\n",
    "title=driver.find_elements(By.CSS_SELECTOR, \"strong>span.title-elipsis\")\n",
    "len(title)"
   ]
  },
  {
   "cell_type": "code",
   "execution_count": 19,
   "id": "1b915334",
   "metadata": {},
   "outputs": [
    {
     "data": {
      "text/plain": [
       "'北 전승절 축전 보낸 푸틴…美 \"러 장관 방북, 안보에 해롭다\"'"
      ]
     },
     "execution_count": 19,
     "metadata": {},
     "output_type": "execute_result"
    }
   ],
   "source": [
    "title[0].text"
   ]
  },
  {
   "cell_type": "code",
   "execution_count": 24,
   "id": "84e29be3",
   "metadata": {
    "scrolled": true
   },
   "outputs": [],
   "source": [
    "# 다음 버튼\n",
    "btn = driver.find_element(By.CLASS_NAME, 'page-next.page-link')"
   ]
  },
  {
   "cell_type": "code",
   "execution_count": 25,
   "id": "a9f99ea4",
   "metadata": {},
   "outputs": [],
   "source": [
    "btn.click()"
   ]
  },
  {
   "cell_type": "code",
   "execution_count": 18,
   "id": "ef786574",
   "metadata": {},
   "outputs": [
    {
     "data": {
      "text/plain": [
       "10"
      ]
     },
     "execution_count": 18,
     "metadata": {},
     "output_type": "execute_result"
    }
   ],
   "source": [
    "# 2. 기사 날짜 수집\n",
    "news_date=driver.find_elements(By.CSS_SELECTOR,\"div.info>p.name:first-of-type\")\n",
    "len(news_date)"
   ]
  },
  {
   "cell_type": "code",
   "execution_count": 19,
   "id": "70ad6816",
   "metadata": {},
   "outputs": [
    {
     "data": {
      "text/plain": [
       "'2023/07/20'"
      ]
     },
     "execution_count": 19,
     "metadata": {},
     "output_type": "execute_result"
    }
   ],
   "source": [
    "news_date[0].text"
   ]
  },
  {
   "cell_type": "code",
   "execution_count": 24,
   "id": "0a272ff5",
   "metadata": {},
   "outputs": [
    {
     "data": {
      "text/plain": [
       "10"
      ]
     },
     "execution_count": 24,
     "metadata": {},
     "output_type": "execute_result"
    }
   ],
   "source": [
    "# 3. 언론사\n",
    "provider=driver.find_elements(By.CSS_SELECTOR,\"div>a.provider\")\n",
    "len(provider)"
   ]
  },
  {
   "cell_type": "code",
   "execution_count": 26,
   "id": "50393ac3",
   "metadata": {},
   "outputs": [
    {
     "data": {
      "text/plain": [
       "'KBS'"
      ]
     },
     "execution_count": 26,
     "metadata": {},
     "output_type": "execute_result"
    }
   ],
   "source": [
    "provider[0].text"
   ]
  },
  {
   "cell_type": "code",
   "execution_count": 33,
   "id": "d7a73c89",
   "metadata": {},
   "outputs": [
    {
     "data": {
      "text/plain": [
       "10"
      ]
     },
     "execution_count": 33,
     "metadata": {},
     "output_type": "execute_result"
    }
   ],
   "source": [
    "# 4. 태그\n",
    "keyword=driver.find_elements(By.CSS_SELECTOR,\"div.info>div>span.bullet-keyword\")\n",
    "len(keyword)"
   ]
  },
  {
   "cell_type": "code",
   "execution_count": 34,
   "id": "77a27b25",
   "metadata": {},
   "outputs": [
    {
     "data": {
      "text/plain": [
       "'지역>대전 | 지역>부산 | 지역>경남'"
      ]
     },
     "execution_count": 34,
     "metadata": {},
     "output_type": "execute_result"
    }
   ],
   "source": [
    "keyword[0].text"
   ]
  },
  {
   "cell_type": "code",
   "execution_count": 101,
   "id": "a2cb649c",
   "metadata": {},
   "outputs": [],
   "source": [
    "# 5. 기사 클릭\n",
    "article=driver.find_elements(By.CSS_SELECTOR,\"div.cont>a.news-detail\")\n",
    "article[1].click()\n"
   ]
  },
  {
   "cell_type": "code",
   "execution_count": 138,
   "id": "3c58427d",
   "metadata": {
    "scrolled": true
   },
   "outputs": [
    {
     "name": "stdout",
     "output_type": "stream",
     "text": [
      "/assets/v3/img/content/img-noImg.png\n"
     ]
    }
   ],
   "source": [
    "# 6. 사진\n",
    "pic=driver.find_elements(By.CSS_SELECTOR,\"div.thumb>a.thumb.news-detail\")\n",
    "print(pic[0].get_attribute(\"style\")[23:-3])\n"
   ]
  },
  {
   "cell_type": "code",
   "execution_count": 49,
   "id": "cb8a4505",
   "metadata": {},
   "outputs": [
    {
     "data": {
      "text/plain": [
       "'[KBS 부산]\\n부산시가 러시아·우크라이나 전쟁 장기화로 수·출입에 어려움을 겪는 부산지역 기업을 지원합니다.\\n\\n부산시는 50개 업체를 선정해 국제 운송비와 수출 마케팅비 등 한 기업에 최대 2백만 원을 지원합니다.\\n\\n또 수·출입 피해기업이 해외 마케팅 지원사업을 신청하면, 심사 항목에 가점을 주고, 맞춤형 상담도 제공합니다.'"
      ]
     },
     "execution_count": 49,
     "metadata": {},
     "output_type": "execute_result"
    }
   ],
   "source": [
    "# 기사 내용 크롤링\n",
    "content=driver.find_element(By.CSS_SELECTOR,\"div.news-view-body\")\n",
    "content.text"
   ]
  },
  {
   "cell_type": "code",
   "execution_count": 38,
   "id": "44a70413",
   "metadata": {},
   "outputs": [
    {
     "name": "stdout",
     "output_type": "stream",
     "text": [
      "'https://news.kbs.co.kr/news/view.do?ncd=7728236&amp;ref=DA'\n"
     ]
    }
   ],
   "source": [
    "# 7. 기사 링크\n",
    "link=driver.find_element(By.CSS_SELECTOR,\"div.item2>div>button.btn.btn-xsm\")\n",
    "print(link.get_attribute(\"onclick\")[41:])"
   ]
  },
  {
   "cell_type": "code",
   "execution_count": 52,
   "id": "4eed7fcb",
   "metadata": {},
   "outputs": [],
   "source": [
    "# 8. article 종료\n",
    "\n",
    "art_close=driver.find_element(By.XPATH,'//*[@id=\"news-detail-modal\"]/div/div/button')\n",
    "art_close.click()"
   ]
  },
  {
   "cell_type": "code",
   "execution_count": 7,
   "id": "4a460c30",
   "metadata": {},
   "outputs": [
    {
     "data": {
      "text/plain": [
       "{'제목': [], '날짜': [], '언론사': [], '태그': [], '사진': [], '기사': []}"
      ]
     },
     "execution_count": 7,
     "metadata": {},
     "output_type": "execute_result"
    }
   ],
   "source": [
    "news_dic={\"제목\":[],\n",
    "     \"날짜\":[],\n",
    "     \"언론사\":[],\n",
    "     \"태그\":[],\n",
    "     \"사진\":[],\n",
    "     \"기사\":[]}\n",
    "news_dic"
   ]
  },
  {
   "cell_type": "code",
   "execution_count": 48,
   "id": "2ea2b894",
   "metadata": {
    "scrolled": false
   },
   "outputs": [
    {
     "ename": "KeyboardInterrupt",
     "evalue": "",
     "output_type": "error",
     "traceback": [
      "\u001b[1;31m---------------------------------------------------------------------------\u001b[0m",
      "\u001b[1;31mKeyboardInterrupt\u001b[0m                         Traceback (most recent call last)",
      "Cell \u001b[1;32mIn[48], line 37\u001b[0m\n\u001b[0;32m     35\u001b[0m \u001b[38;5;28;01mexcept\u001b[39;00m:\n\u001b[0;32m     36\u001b[0m     news_dic[\u001b[38;5;124m\"\u001b[39m\u001b[38;5;124m기사\u001b[39m\u001b[38;5;124m\"\u001b[39m]\u001b[38;5;241m.\u001b[39mappend(\u001b[38;5;124m\"\u001b[39m\u001b[38;5;124m\"\u001b[39m)\n\u001b[1;32m---> 37\u001b[0m \u001b[43mtime\u001b[49m\u001b[38;5;241;43m.\u001b[39;49m\u001b[43msleep\u001b[49m\u001b[43m(\u001b[49m\u001b[38;5;241;43m2\u001b[39;49m\u001b[43m)\u001b[49m\n\u001b[0;32m     38\u001b[0m art_close\u001b[38;5;241m=\u001b[39mdriver\u001b[38;5;241m.\u001b[39mfind_element(By\u001b[38;5;241m.\u001b[39mXPATH,\u001b[38;5;124m'\u001b[39m\u001b[38;5;124m//*[@id=\u001b[39m\u001b[38;5;124m\"\u001b[39m\u001b[38;5;124mnews-detail-modal\u001b[39m\u001b[38;5;124m\"\u001b[39m\u001b[38;5;124m]/div/div/button\u001b[39m\u001b[38;5;124m'\u001b[39m)\n\u001b[0;32m     39\u001b[0m action \u001b[38;5;241m=\u001b[39m ActionChains(driver)\n",
      "\u001b[1;31mKeyboardInterrupt\u001b[0m: "
     ]
    }
   ],
   "source": [
    "for j in range(100):\n",
    "    for i in range(4):\n",
    "        try:\n",
    "            title=driver.find_elements(By.CSS_SELECTOR, \"strong>span.title-elipsis\")\n",
    "            news_dic[\"제목\"].append(title[i].text)\n",
    "        except:\n",
    "            news_dic[\"제목\"].append(\"\")\n",
    "        try:\n",
    "            news_date=driver.find_elements(By.CSS_SELECTOR,\"div.info>p.name:first-of-type\")\n",
    "            news_dic[\"날짜\"].append(news_date[i].text)\n",
    "        except:\n",
    "            news_dic[\"날짜\"].append(\"\")\n",
    "        try:\n",
    "            provider=driver.find_elements(By.CSS_SELECTOR,\"div>a.provider\")\n",
    "            news_dic[\"언론사\"].append(provider[i].text)\n",
    "        except:\n",
    "            news_dic[\"언론사\"].append(\"\")\n",
    "        try:\n",
    "            keyword=driver.find_elements(By.CSS_SELECTOR,\"div.info>div>span.bullet-keyword\")\n",
    "            news_dic[\"태그\"].append(keyword[i].text)\n",
    "        except:\n",
    "            news_dic[\"태그\"].append(\"\")\n",
    "        try:\n",
    "            pic=driver.find_elements(By.CSS_SELECTOR,\"div.thumb>a.thumb.news-detail\")\n",
    "            news_dic[\"사진\"].append(pic[i].get_attribute(\"style\")[23:-3])\n",
    "        except:\n",
    "            news_dic[\"사진\"].append(\"\")\n",
    "        time.sleep(1)\n",
    "        article=driver.find_elements(By.CSS_SELECTOR,\"span.title-elipsis\")\n",
    "        article[i].click()\n",
    "        time.sleep(0.5)\n",
    "        try:\n",
    "            content=driver.find_element(By.CSS_SELECTOR,\"div.news-view-body\")\n",
    "            news_dic[\"기사\"].append(content.text)\n",
    "        except:\n",
    "            news_dic[\"기사\"].append(\"\")\n",
    "        time.sleep(2)\n",
    "        art_close=driver.find_element(By.XPATH,'//*[@id=\"news-detail-modal\"]/div/div/button')\n",
    "        action = ActionChains(driver)\n",
    "        action.move_to_element(art_close).click().perform()\n",
    "        time.sleep(0.5)\n",
    "    btn = driver.find_element(By.CLASS_NAME, 'page-next.page-link')\n",
    "    btn.click()\n",
    "    time.sleep(2)"
   ]
  },
  {
   "cell_type": "code",
   "execution_count": 106,
   "id": "552ee675",
   "metadata": {
    "scrolled": false
   },
   "outputs": [
    {
     "data": {
      "text/plain": [
       "'올해 경제 성장률 전망치는 3% 그대로 유지\\n이주열 한국은행 총재가 24일 금융통화위원회를 주재하며 의사봉을 두드리고 있다./한국은행 제공\\n한국은행이 24일 금융통화위원회(이하 금통위)를 열어 연 1.25%인 기준금리를 동결했다. 코로나 사태 이후 1년 3개월 동안 연 0.5%로 유지해온 기준금리를 지난해 8월, 11월, 올해 1월까지 3 차례에 걸쳐 0.75%포인트를 인상한 뒤 이번엔 동결을 선택한 것이다.\\n\\n이날 한은은 올해 소비자 물가 상승률을 3.1%로 전망했다. 직전인 작년 11월 전망치(2%)에서 한꺼번에 1.1%포인트나 올렸다. 최근 나타난 급격한 물가 오름세를 반영한 것으로 보인다. 한은이 3% 이상의 물가 상승률을 전망한 건 2012년 이후 10년만이다.\\n\\n이날 금통위는 역대 한은 총재로는 처음 연임하며 8년간 재임해온 이주열 총재가 마지막으로 주재한 통화정책방향 금통위였다.\\n\\n◇사상 첫 3차례 연속 금리 인상은 피해\\n\\n한은이 기준금리 동결을 선택한 이유에 대해 급격한 금리 인상에 따른 시장의 충격을 막을 필요가 있었다는 평가가 나온다. 만약 이날도 기준금리를 올렸다면 한은 설립 이후 처음으로 3차례 연속 기준금리를 인상했다는 선례를 남기게 될 뻔 했다.\\n\\n한은은 코로나 사태 이후 0.5%로 유지하던 기준금리를 지난해 8월 0.75%로 올리고 바로 다음번 통화정책방향 금통위가 열린 10월에는 금리를 동결했다. 이후 11월에 1%로 올린 뒤, 그 다음 통화정책방향 금통위가 열린 지난달 1.25%로 올렸다. 기준금리를 결정하는 금통위는 연중 8차례(1·2·4·5·7·8·10·11월) 열린다.\\n\\n한은이 기준금리를 동결한 다른 이유로는 우크라이나 전쟁 발발 가능성으로 금융시장이 출렁이고 있는 시기라는 점을 감안했을 가능성이 거론된다. 이런 시기에 기준금리를 올리면 시장이 더 흔들릴 수 있다고 우려했다는 것이다.\\n\\n한은은 “미 연준의 기준금리 인상 속도에 대한 우려, 우크라이나 사태 등의 영향으로 주요국 국채 금리가 큰폭으로 상승하고 주가는 상당폭 하락하는 등 변동성이 확대됐다”며 “앞으로 세계경제와 국제 금융시장은 코로나 전개 상황, 글로벌 인플레이션 움직임, 주요국 통화정책 변화, 지정학적 리스크 등에 영향받을 것으로 보인다”고 했다.\\n\\n한은 안팎에서는 아직 제로(0) 금리인 미국이 오는 3월 기준금리를 올릴 것이 확실시되고 있지만 한은이 선제적으로 세 차례에 걸쳐 기준금리를 1.25%로 올려놨기 때문에 이달에 동결해도 큰 무리가 없다는 이야기가 나오고 있다. 한은 출신 금융권 인사는 “미리 금리를 올려놨기 때문에 3월 미국 연방준비제도의 결정을 확인하고 그에 따른 시장의 반응을 살핀 뒤 (다음 통화정책을 결정하는 금통위가 열리는) 4월에 추가적인 금리 인상 여부를 결정하는 게 자연스럽다”고 했다.\\n\\n대선을 2주도 남겨두지 않은 시점이라는 것도 고려했을 것이라는 이야기가 있다. 금융권 관계자들은 “대선 직전에 기준금리를 바꿔서 특정 집단이 수혜를 보거나 손해를 봤다는 오해를 금통위원들이 피하고 싶었을 것”이라고 말했다.\\n\\n◇이번엔 동결했지만 올해 2~3차례 이상 기준금리 올릴 듯\\n\\n이번에는 동결을 했지만 시장 전문가들은 올해 한은이 2~3차례 이상 기준금리를 올릴 가능성이 높다고 보고 있다. 미 연준이 공격적인 금리 인상을 예고한 데다, 국내에서도 뚜렷한 물가 상승세가 나타나고 있기 때문이다. 통계청에 따르면, 1월 소비자 물가지수는 3.6% 올라 4개월 연속 3%대 상승률을 기록했다. 소비자 물가가 4개월 연속 3%를 넘은 건 2012년 이후 10년만에 처음 나타난 현상이다.\\n\\n이에 따라 한은은 이날 경제전망을 수정하면서 물가 상승률 전망치를 대폭 끌어올렸다. 작년 11월 2%로 전망한 소비자 물가 상승률은 3.1%로 대폭 상향 조정했다. 이 총재가 지난달 14일 기자 간담회에서 “올해 물가 상승률은 작년 수준을 웃돌아 2%대 중후반이 될 것”이라고 했지만, 그보다 더 높게 전망치를 올린 것이다.\\n\\n한은은 “앞으로 소비자 물가 상승률은 11월 전망 경로보다 높아져 상당 기간 3%를 크게 상회할 것”이라며 “근원인플레이션율(식료품 및 에너지를 제외한 물가 상승률)도 금년중 2%대 중반 수준으로 높아질 것으로 보인다”고 했다.\\n\\n한은은 올해 경제 성장률을 3%로 내다보며 작년 11월 전망치(3%)를 그대로 유지했다. 한은은 “앞으로 국내 경제는 수출의 견실한 증가세가 이어지고 민간소비 회복 흐름이 점차 재개되면서 양호한 성장세를 지속할 것으로 보인다”며 “금년 중 성장률은 지난 11월 전망치인 3% 수준을 크게 벗어나지 않을 것으로 전망된다”고 했다.\\n\\n내년에는 경제 성장률이 2.5%, 물가 상승률이 2%가 될 것으로 한은은 내다봤다.'"
      ]
     },
     "execution_count": 106,
     "metadata": {},
     "output_type": "execute_result"
    }
   ],
   "source": [
    "news_dic[\"제목\"].pop()\n",
    "news_dic[\"날짜\"].pop()\n",
    "news_dic[\"언론사\"].pop()\n",
    "news_dic[\"태그\"].pop()\n",
    "news_dic[\"사진\"].pop()\n",
    "news_dic[\"기사\"].pop()"
   ]
  },
  {
   "cell_type": "code",
   "execution_count": 108,
   "id": "05054153",
   "metadata": {},
   "outputs": [
    {
     "name": "stdout",
     "output_type": "stream",
     "text": [
      "2999\n",
      "2999\n",
      "2999\n",
      "2999\n",
      "2999\n",
      "2999\n"
     ]
    }
   ],
   "source": [
    "print(len(news_dic[\"제목\"]))\n",
    "print(len(news_dic[\"날짜\"]))\n",
    "print(len(news_dic[\"언론사\"]))\n",
    "print(len(news_dic[\"태그\"]))\n",
    "print(len(news_dic[\"사진\"]))\n",
    "print(len(news_dic[\"기사\"]))"
   ]
  },
  {
   "cell_type": "code",
   "execution_count": 107,
   "id": "2684b851",
   "metadata": {
    "scrolled": true
   },
   "outputs": [
    {
     "data": {
      "text/html": [
       "<div>\n",
       "<style scoped>\n",
       "    .dataframe tbody tr th:only-of-type {\n",
       "        vertical-align: middle;\n",
       "    }\n",
       "\n",
       "    .dataframe tbody tr th {\n",
       "        vertical-align: top;\n",
       "    }\n",
       "\n",
       "    .dataframe thead th {\n",
       "        text-align: right;\n",
       "    }\n",
       "</style>\n",
       "<table border=\"1\" class=\"dataframe\">\n",
       "  <thead>\n",
       "    <tr style=\"text-align: right;\">\n",
       "      <th></th>\n",
       "      <th>제목</th>\n",
       "      <th>날짜</th>\n",
       "      <th>언론사</th>\n",
       "      <th>태그</th>\n",
       "      <th>사진</th>\n",
       "      <th>기사</th>\n",
       "    </tr>\n",
       "  </thead>\n",
       "  <tbody>\n",
       "    <tr>\n",
       "      <th>0</th>\n",
       "      <td>푸틴 만난 아프리카 정상들 “무상곡물 보다 우크라이나 전쟁 휴전 필요”</td>\n",
       "      <td>2023/07/31</td>\n",
       "      <td>문화일보</td>\n",
       "      <td>국제&gt;러시아 | 국제&gt;유럽_EU | 국제&gt;중동_아프리카</td>\n",
       "      <td>https://www.bigkinds.or.kr/resources/images/01...</td>\n",
       "      <td>러시아 상트페테르부르크에서 열린 러시아-아프리카 정상회의에서 28일(현지시간) 블라...</td>\n",
       "    </tr>\n",
       "    <tr>\n",
       "      <th>1</th>\n",
       "      <td>김정은, 러 국방과 통역만 배석 단독회담… 中보다 ‘서방과 정면대립’ 러와 급속 밀착</td>\n",
       "      <td>2023/07/31</td>\n",
       "      <td>동아일보</td>\n",
       "      <td>정치&gt;북한 | 국제&gt;러시아 | 정치&gt;외교</td>\n",
       "      <td>https://www.bigkinds.or.kr/resources/images/01...</td>\n",
       "      <td>金, 열병식때 쇼이구 옆자리에 中 리훙중은 다음날에야 만나 ‘北, 러와 본격 무기거...</td>\n",
       "    </tr>\n",
       "    <tr>\n",
       "      <th>2</th>\n",
       "      <td>바이든 “한일 화해, 근본적 변화”… 김정은, 열병식서 공동대응 과시 [뉴스 분석]</td>\n",
       "      <td>2023/07/31</td>\n",
       "      <td>서울신문</td>\n",
       "      <td>정치&gt;외교 | 정치&gt;북한 | 정치&gt;청와대</td>\n",
       "      <td>https://www.bigkinds.or.kr/resources/images/01...</td>\n",
       "      <td>더 뚜렷해지는 한미일 vs 북중러\\n윤석열 대통령과 조 바이든(왼쪽) 미국 대통령,...</td>\n",
       "    </tr>\n",
       "    <tr>\n",
       "      <th>3</th>\n",
       "      <td>[뉴스분석]‘외교해법 실종 한반도’… 한미일, 3자 정상회의 vs 북중러, 전승절 밀착</td>\n",
       "      <td>2023/07/30</td>\n",
       "      <td>서울신문</td>\n",
       "      <td>정치&gt;외교 | 정치&gt;북한 | 정치&gt;청와대</td>\n",
       "      <td>https://www.bigkinds.or.kr/resources/images/01...</td>\n",
       "      <td>한미일, 18일 캠프데이비드서… ‘정례화’ 가능성 북중러, 전승절 맞아 결속… 북,...</td>\n",
       "    </tr>\n",
       "    <tr>\n",
       "      <th>4</th>\n",
       "      <td>‘반격 공세’ 나선 우크라, 모스크바 중심부 드론 공격</td>\n",
       "      <td>2023/07/30</td>\n",
       "      <td>한겨레</td>\n",
       "      <td>국제&gt;러시아 | 국제&gt;아시아 | 국제&gt;유럽_EU</td>\n",
       "      <td>/assets/v3/img/content/img-noImg.png</td>\n",
       "      <td>최근 남부 전선에서 러시아의 방어선을 돌파하기 위한 본격 공세에 돌입한 우크라이나가...</td>\n",
       "    </tr>\n",
       "    <tr>\n",
       "      <th>...</th>\n",
       "      <td>...</td>\n",
       "      <td>...</td>\n",
       "      <td>...</td>\n",
       "      <td>...</td>\n",
       "      <td>...</td>\n",
       "      <td>...</td>\n",
       "    </tr>\n",
       "    <tr>\n",
       "      <th>2994</th>\n",
       "      <td>결국 전쟁이 시작됐다… 우크라 “러시아, 전면전 개시”</td>\n",
       "      <td>2022/02/24</td>\n",
       "      <td>국민일보</td>\n",
       "      <td>국제&gt;러시아 | 국제&gt;유럽_EU | 국제&gt;중남미</td>\n",
       "      <td>https://www.bigkinds.or.kr/resources/images/01...</td>\n",
       "      <td>우크라이나 대통령궁이 공개한 24일 새벽 수도 키예프의 모습. 키예프에는 이날 오전...</td>\n",
       "    </tr>\n",
       "    <tr>\n",
       "      <th>2995</th>\n",
       "      <td>한은, 기준금리 동결, 물가 상승률 전망은 2%에서 3.1%로</td>\n",
       "      <td>2022/02/24</td>\n",
       "      <td>조선일보</td>\n",
       "      <td>경제&gt;국제경제 | 경제&gt;외환 | 경제&gt;증권_증시</td>\n",
       "      <td>https://www.bigkinds.or.kr/resources/images/01...</td>\n",
       "      <td>올해 경제 성장률 전망치는 3% 그대로 유지\\n이주열 한국은행 총재가 24일 금융통...</td>\n",
       "    </tr>\n",
       "    <tr>\n",
       "      <th>2996</th>\n",
       "      <td>한은 기준금리 1.25% 동결…올해 물가상승률 전망치 3.1%로</td>\n",
       "      <td>2022/02/24</td>\n",
       "      <td>중앙일보</td>\n",
       "      <td>경제&gt;외환 | 경제&gt;국제경제 | 경제&gt;증권_증시</td>\n",
       "      <td>https://www.bigkinds.or.kr/resources/images/01...</td>\n",
       "      <td>이주열 한국은행 총재가 24일 오전 서울 중구 한국은행에서 열린 금융통화위원회 본회...</td>\n",
       "    </tr>\n",
       "    <tr>\n",
       "      <th>2997</th>\n",
       "      <td>EPL의 우크라이나 축구 국가대표 \"내 조국 아무도 빼앗을 수 없다\"</td>\n",
       "      <td>2022/02/24</td>\n",
       "      <td>한국일보</td>\n",
       "      <td>국제&gt;유럽_EU | 국제&gt;러시아 | 스포츠&gt;축구</td>\n",
       "      <td>https://www.bigkinds.or.kr/resources/images/01...</td>\n",
       "      <td>우크라이나 국가대표 올렉산드로 진첸코 선수SNS에 \"내 나라 국경 전체는 온전히 유...</td>\n",
       "    </tr>\n",
       "    <tr>\n",
       "      <th>2998</th>\n",
       "      <td>\"이제야 안심이 돼요\"…우크라 탈출 피난민의 눈물</td>\n",
       "      <td>2022/02/24</td>\n",
       "      <td>SBS</td>\n",
       "      <td>국제&gt;유럽_EU | 국제&gt;아시아 | 문화&gt;생활</td>\n",
       "      <td>https://www.bigkinds.or.kr/resources/images/08...</td>\n",
       "      <td>&lt;앵커&gt;\\n\\n\\n\\n우크라이나 사태가 대화를 통한 외교적 해법으로 해결될 기미가 ...</td>\n",
       "    </tr>\n",
       "  </tbody>\n",
       "</table>\n",
       "<p>2999 rows × 6 columns</p>\n",
       "</div>"
      ],
      "text/plain": [
       "                                                    제목          날짜   언론사  \\\n",
       "0              푸틴 만난 아프리카 정상들 “무상곡물 보다 우크라이나 전쟁 휴전 필요”  2023/07/31  문화일보   \n",
       "1      김정은, 러 국방과 통역만 배석 단독회담… 中보다 ‘서방과 정면대립’ 러와 급속 밀착  2023/07/31  동아일보   \n",
       "2       바이든 “한일 화해, 근본적 변화”… 김정은, 열병식서 공동대응 과시 [뉴스 분석]  2023/07/31  서울신문   \n",
       "3     [뉴스분석]‘외교해법 실종 한반도’… 한미일, 3자 정상회의 vs 북중러, 전승절 밀착  2023/07/30  서울신문   \n",
       "4                       ‘반격 공세’ 나선 우크라, 모스크바 중심부 드론 공격  2023/07/30   한겨레   \n",
       "...                                                ...         ...   ...   \n",
       "2994                    결국 전쟁이 시작됐다… 우크라 “러시아, 전면전 개시”  2022/02/24  국민일보   \n",
       "2995                한은, 기준금리 동결, 물가 상승률 전망은 2%에서 3.1%로  2022/02/24  조선일보   \n",
       "2996               한은 기준금리 1.25% 동결…올해 물가상승률 전망치 3.1%로  2022/02/24  중앙일보   \n",
       "2997            EPL의 우크라이나 축구 국가대표 \"내 조국 아무도 빼앗을 수 없다\"  2022/02/24  한국일보   \n",
       "2998                       \"이제야 안심이 돼요\"…우크라 탈출 피난민의 눈물  2022/02/24   SBS   \n",
       "\n",
       "                                  태그  \\\n",
       "0     국제>러시아 | 국제>유럽_EU | 국제>중동_아프리카   \n",
       "1             정치>북한 | 국제>러시아 | 정치>외교   \n",
       "2             정치>외교 | 정치>북한 | 정치>청와대   \n",
       "3             정치>외교 | 정치>북한 | 정치>청와대   \n",
       "4         국제>러시아 | 국제>아시아 | 국제>유럽_EU   \n",
       "...                              ...   \n",
       "2994      국제>러시아 | 국제>유럽_EU | 국제>중남미   \n",
       "2995      경제>국제경제 | 경제>외환 | 경제>증권_증시   \n",
       "2996      경제>외환 | 경제>국제경제 | 경제>증권_증시   \n",
       "2997      국제>유럽_EU | 국제>러시아 | 스포츠>축구   \n",
       "2998       국제>유럽_EU | 국제>아시아 | 문화>생활   \n",
       "\n",
       "                                                     사진  \\\n",
       "0     https://www.bigkinds.or.kr/resources/images/01...   \n",
       "1     https://www.bigkinds.or.kr/resources/images/01...   \n",
       "2     https://www.bigkinds.or.kr/resources/images/01...   \n",
       "3     https://www.bigkinds.or.kr/resources/images/01...   \n",
       "4                  /assets/v3/img/content/img-noImg.png   \n",
       "...                                                 ...   \n",
       "2994  https://www.bigkinds.or.kr/resources/images/01...   \n",
       "2995  https://www.bigkinds.or.kr/resources/images/01...   \n",
       "2996  https://www.bigkinds.or.kr/resources/images/01...   \n",
       "2997  https://www.bigkinds.or.kr/resources/images/01...   \n",
       "2998  https://www.bigkinds.or.kr/resources/images/08...   \n",
       "\n",
       "                                                     기사  \n",
       "0     러시아 상트페테르부르크에서 열린 러시아-아프리카 정상회의에서 28일(현지시간) 블라...  \n",
       "1     金, 열병식때 쇼이구 옆자리에 中 리훙중은 다음날에야 만나 ‘北, 러와 본격 무기거...  \n",
       "2     더 뚜렷해지는 한미일 vs 북중러\\n윤석열 대통령과 조 바이든(왼쪽) 미국 대통령,...  \n",
       "3     한미일, 18일 캠프데이비드서… ‘정례화’ 가능성 북중러, 전승절 맞아 결속… 북,...  \n",
       "4     최근 남부 전선에서 러시아의 방어선을 돌파하기 위한 본격 공세에 돌입한 우크라이나가...  \n",
       "...                                                 ...  \n",
       "2994  우크라이나 대통령궁이 공개한 24일 새벽 수도 키예프의 모습. 키예프에는 이날 오전...  \n",
       "2995  올해 경제 성장률 전망치는 3% 그대로 유지\\n이주열 한국은행 총재가 24일 금융통...  \n",
       "2996  이주열 한국은행 총재가 24일 오전 서울 중구 한국은행에서 열린 금융통화위원회 본회...  \n",
       "2997  우크라이나 국가대표 올렉산드로 진첸코 선수SNS에 \"내 나라 국경 전체는 온전히 유...  \n",
       "2998  <앵커>\\n\\n\\n\\n우크라이나 사태가 대화를 통한 외교적 해법으로 해결될 기미가 ...  \n",
       "\n",
       "[2999 rows x 6 columns]"
      ]
     },
     "execution_count": 107,
     "metadata": {},
     "output_type": "execute_result"
    }
   ],
   "source": [
    "df=pd.DataFrame(news_dic)\n",
    "df"
   ]
  },
  {
   "cell_type": "code",
   "execution_count": 109,
   "id": "1d5c8acb",
   "metadata": {},
   "outputs": [],
   "source": [
    "df.to_csv(r\"C:\\Users\\smart\\Desktop\\뉴스.csv\",encoding=\"utf-8-sig\")"
   ]
  }
 ],
 "metadata": {
  "kernelspec": {
   "display_name": "Python 3 (ipykernel)",
   "language": "python",
   "name": "python3"
  },
  "language_info": {
   "codemirror_mode": {
    "name": "ipython",
    "version": 3
   },
   "file_extension": ".py",
   "mimetype": "text/x-python",
   "name": "python",
   "nbconvert_exporter": "python",
   "pygments_lexer": "ipython3",
   "version": "3.10.9"
  }
 },
 "nbformat": 4,
 "nbformat_minor": 5
}
