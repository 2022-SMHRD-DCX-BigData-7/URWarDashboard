{
 "cells": [
  {
   "cell_type": "code",
   "execution_count": 1,
   "id": "727e2975",
   "metadata": {},
   "outputs": [],
   "source": [
    "# selenium 라이브러리 로딩\n",
    "\n",
    "import pandas as pd\n",
    "import time\n",
    "\n",
    "# 브라우저\n",
    "from selenium import webdriver as wb\n",
    "\n",
    "# 구분자\n",
    "from selenium.webdriver.common.by import By\n",
    "\n",
    "# 키보드\n",
    "from selenium.webdriver.common.keys import Keys\n",
    "\n",
    "# 파일 시스템을 위한 라이브러리(파일, 폴더를 생성/삭제 하는 역할)\n",
    "import os\n",
    "\n",
    "# url값을 파일로 저장해주는 라이브러리\n",
    "from urllib.request import urlretrieve"
   ]
  },
  {
   "cell_type": "code",
   "execution_count": 143,
   "id": "885a3f50",
   "metadata": {},
   "outputs": [],
   "source": [
    "url=\"https://www.bigkinds.or.kr/v2/news/search.do\"\n",
    "driver=wb.Chrome()\n",
    "driver.get(url)"
   ]
  },
  {
   "cell_type": "code",
   "execution_count": 64,
   "id": "a77ac91f",
   "metadata": {},
   "outputs": [
    {
     "data": {
      "text/plain": [
       "10"
      ]
     },
     "execution_count": 64,
     "metadata": {},
     "output_type": "execute_result"
    }
   ],
   "source": [
    "# 1. 기사타이틀 데이터 수집\n",
    "title=driver.find_elements(By.CSS_SELECTOR, \"span.title-elipsis\")\n",
    "len(title)"
   ]
  },
  {
   "cell_type": "code",
   "execution_count": 68,
   "id": "1b915334",
   "metadata": {},
   "outputs": [
    {
     "data": {
      "text/plain": [
       "'[특파원 리포트] 국익 위해 우크라 외면하라?'"
      ]
     },
     "execution_count": 68,
     "metadata": {},
     "output_type": "execute_result"
    }
   ],
   "source": [
    "title[0].text"
   ]
  },
  {
   "cell_type": "code",
   "execution_count": 155,
   "id": "84e29be3",
   "metadata": {
    "scrolled": true
   },
   "outputs": [],
   "source": [
    "# 다음 버튼\n",
    "btn=driver.find_element(By.XPATH,'//*[@id=\"news-results-tab\"]/div[7]/div[1]/div/div/div/div[4]/a')\n",
    "btn.click()"
   ]
  },
  {
   "cell_type": "code",
   "execution_count": 46,
   "id": "ef786574",
   "metadata": {},
   "outputs": [
    {
     "data": {
      "text/plain": [
       "10"
      ]
     },
     "execution_count": 46,
     "metadata": {},
     "output_type": "execute_result"
    }
   ],
   "source": [
    "# 2. 기사 날짜 수집\n",
    "news_date=driver.find_elements(By.CSS_SELECTOR,\"div.info>p.name:first-of-type\")\n",
    "len(news_date)"
   ]
  },
  {
   "cell_type": "code",
   "execution_count": 47,
   "id": "70ad6816",
   "metadata": {},
   "outputs": [
    {
     "data": {
      "text/plain": [
       "'2023/07/17'"
      ]
     },
     "execution_count": 47,
     "metadata": {},
     "output_type": "execute_result"
    }
   ],
   "source": [
    "news_date[0].text"
   ]
  },
  {
   "cell_type": "code",
   "execution_count": 50,
   "id": "0a272ff5",
   "metadata": {},
   "outputs": [
    {
     "data": {
      "text/plain": [
       "10"
      ]
     },
     "execution_count": 50,
     "metadata": {},
     "output_type": "execute_result"
    }
   ],
   "source": [
    "# 3. 언론사\n",
    "provider=driver.find_elements(By.CLASS_NAME,\"provider\")\n",
    "len(provider)"
   ]
  },
  {
   "cell_type": "code",
   "execution_count": 51,
   "id": "50393ac3",
   "metadata": {},
   "outputs": [
    {
     "data": {
      "text/plain": [
       "'조선일보'"
      ]
     },
     "execution_count": 51,
     "metadata": {},
     "output_type": "execute_result"
    }
   ],
   "source": [
    "provider[0].text"
   ]
  },
  {
   "cell_type": "code",
   "execution_count": 52,
   "id": "d7a73c89",
   "metadata": {},
   "outputs": [
    {
     "data": {
      "text/plain": [
       "10"
      ]
     },
     "execution_count": 52,
     "metadata": {},
     "output_type": "execute_result"
    }
   ],
   "source": [
    "# 4. 태그\n",
    "keyword=driver.find_elements(By.CLASS_NAME,\"bullet-keyword\")\n",
    "len(keyword)"
   ]
  },
  {
   "cell_type": "code",
   "execution_count": 53,
   "id": "77a27b25",
   "metadata": {},
   "outputs": [
    {
     "data": {
      "text/plain": [
       "'국제>유럽_EU | 국제>러시아 | 국제>일본'"
      ]
     },
     "execution_count": 53,
     "metadata": {},
     "output_type": "execute_result"
    }
   ],
   "source": [
    "keyword[0].text"
   ]
  },
  {
   "cell_type": "code",
   "execution_count": 95,
   "id": "a2cb649c",
   "metadata": {},
   "outputs": [
    {
     "name": "stdout",
     "output_type": "stream",
     "text": [
      "https://www.bigkinds.or.kr/assets/v3/img/icon/arrow-bl.png\n"
     ]
    }
   ],
   "source": [
    "# 5. 사진\n",
    "#article=driver.find_elements(By.CSS_SELECTOR,\"div.cont>a.news-detail\")\n",
    "#article[0].click()\n",
    "pic=driver.find_elements(By.TAG_NAME,\"img\")\n",
    "print(pic[0].get_attribute(\"src\"))"
   ]
  },
  {
   "cell_type": "code",
   "execution_count": 149,
   "id": "3c58427d",
   "metadata": {
    "scrolled": true
   },
   "outputs": [],
   "source": [
    "# 6. 기사내용\n",
    "# 기사제목 클릭\n",
    "#article=driver.find_elements(By.CSS_SELECTOR,\"div.cont>a.news-detail\")\n",
    "#article[0].click()\n"
   ]
  },
  {
   "cell_type": "code",
   "execution_count": 150,
   "id": "cb8a4505",
   "metadata": {},
   "outputs": [
    {
     "data": {
      "text/plain": [
       "'시리아 북동부의 하사카 난민 캠프의 천막집./신화연합뉴스\\n“천막 안의 열기 때문에 숨쉬기 힘든 오븐 속에 있는 것처럼 살고 있습니다.”\\n\\n시리아와 튀르키예 국경 난민캠프에서 사는 하미다 단두쉬(62)가 한낮 무더위를 피하는 방법은 딱 하나뿐이다. 딸, 손자와 함께 사는 텐트에 물을 뿌리며 열을 식히는 것이다.\\n\\n하미다는 “어제 손자가 경련을 일으켰고 숨쉬기 어려워 병원에 갔더니 텐트 안이 더워서 그런 것 같다고 하더라”며 “우리 같은 노인들이 이 날씨를 견디지 못하면 어린아이들은 어떻게 견딜 수 있겠느냐”고 말했다.\\n\\n알자지라는 하미다의 사례를 소개하며 폭염이 난민들의 삶을 더욱더 어렵게 하고 있다고 16일(현지시간) 전했다.\\n\\n하미다가 사는 시리아 북서부 난민 캠프에는 약 80명의 실향민 가족이 텐트에 의지해 열악한 생활을 하고 있다. 여름철 폭염이 덮치면서 이 지역의 기온은 42도까지 올라갔다. 가뭄으로 인한 산불도 자주 발생해 폭염의 강도를 더욱 높이고 있다.\\n\\n이런 상황에서 난민촌에는 마땅히 더위를 피할 방법이 없다. 선풍기를 비롯한 개별 냉방시설은 물론 집단 쉼터마저 찾을 수 없다. 텐트는 대부분 보온에 강한 나일론 천으로 만들어졌다. 정규군을 대신해 민병대 역할을 하는 화이트 헬멧(시리아시민방위대) 대원들이 할 수 있는 일이라고는 기본적인 필수 의료 제공과 수분 섭취를 늘리고 태양 아래 있는 것을 피하라고 조언하는 것 뿐이다.\\n\\n시리아 남부 이들리브 출신의 실향민 하제메 알 하지(30)는 “대부분 텐트에 냉각 수단이 없다”고 말했다. 또 다른 피난민 할레드 바라카트(42)는 “고온으로 인해 (할당받은) 물 탱크가 바닥나 많은 사람들이 공공 수영장을 찾고 있다”고 전했다.\\n\\n알자지라는 시리아 대응 조정 그룹을 인용해 시리아 북서부에 있는 811개 이상의 난민 캠프는 물 부족에 시달린다고 전했다. 지역 인도주의 단체들은 기부 단체의 물 지원은 감소하고 있는데 기온 상승으로 인해 주민들의 물 소비는 증가하고 있어 어려움을 겪고 있다.\\n\\n바라카트는 “러시아와 바샤르 알아사드 정권이 물러나고 우리가 고향으로 돌아가야만 이 고통이 끝날 것”이라고 말했다고 알자지라가 전했다.\\n\\n2011년 시리아에서 알아사드 정권에 대항하는 시위와 내전이 벌어지면서 수백만 명의 시리아인들이 고향을 잃거나 인근 튀르키예, 레바논, 요르단 등지로 떠났다.\\n\\n세계식량계획(WFP) 등 국제 구호단체와 인도주의 단체도 우크라이나 전쟁 등으로 전 세계적으로 구호 수요가 많아지면서 시리아 난민 지원 규모를 줄이고 있다. 알아사드 대통령이 중동 국제 무대에 복귀하면서 이웃 국가들에서 시리아 난민을 지원하는 데 부담스러워하는 기류도 감지되고 있다.\\n\\n박은하 기자 eunha999@kyunghyang.com'"
      ]
     },
     "execution_count": 150,
     "metadata": {},
     "output_type": "execute_result"
    }
   ],
   "source": [
    "# 기사 내용 크롤링\n",
    "content=driver.find_elements(By.CSS_SELECTOR,\"div.news-view-body\")\n",
    "content[0].text"
   ]
  },
  {
   "cell_type": "code",
   "execution_count": 151,
   "id": "44a70413",
   "metadata": {},
   "outputs": [
    {
     "name": "stdout",
     "output_type": "stream",
     "text": [
      "'https://www.khan.co.kr/world/mideast-africa/article/202307171626001'\n"
     ]
    }
   ],
   "source": [
    "# 7. 기사 링크\n",
    "link=driver.find_element(By.CSS_SELECTOR,\"div.item2>div>button.btn.btn-xsm\")\n",
    "print(link.get_attribute(\"onclick\")[41:])"
   ]
  },
  {
   "cell_type": "code",
   "execution_count": 153,
   "id": "4eed7fcb",
   "metadata": {},
   "outputs": [],
   "source": [
    "# 8. article 종료\n",
    "\n",
    "art_close=driver.find_element(By.XPATH,'//*[@id=\"news-detail-modal\"]/div/div/button')\n",
    "art_close.click()"
   ]
  },
  {
   "cell_type": "code",
   "execution_count": 146,
   "id": "7dc7d50d",
   "metadata": {},
   "outputs": [],
   "source": []
  },
  {
   "cell_type": "code",
   "execution_count": null,
   "id": "825d50be",
   "metadata": {},
   "outputs": [],
   "source": []
  },
  {
   "cell_type": "code",
   "execution_count": null,
   "id": "2ea2b894",
   "metadata": {},
   "outputs": [],
   "source": []
  },
  {
   "cell_type": "code",
   "execution_count": null,
   "id": "552ee675",
   "metadata": {},
   "outputs": [],
   "source": []
  },
  {
   "cell_type": "code",
   "execution_count": null,
   "id": "2684b851",
   "metadata": {},
   "outputs": [],
   "source": []
  },
  {
   "cell_type": "code",
   "execution_count": null,
   "id": "af985864",
   "metadata": {},
   "outputs": [],
   "source": []
  },
  {
   "cell_type": "code",
   "execution_count": null,
   "id": "84c9e5a0",
   "metadata": {},
   "outputs": [],
   "source": []
  },
  {
   "cell_type": "code",
   "execution_count": null,
   "id": "bbfa3a54",
   "metadata": {},
   "outputs": [],
   "source": []
  },
  {
   "cell_type": "code",
   "execution_count": null,
   "id": "8df6524b",
   "metadata": {},
   "outputs": [],
   "source": []
  },
  {
   "cell_type": "code",
   "execution_count": null,
   "id": "39e46ea8",
   "metadata": {},
   "outputs": [],
   "source": []
  },
  {
   "cell_type": "code",
   "execution_count": null,
   "id": "4992337f",
   "metadata": {},
   "outputs": [],
   "source": []
  },
  {
   "cell_type": "code",
   "execution_count": null,
   "id": "46faf86d",
   "metadata": {},
   "outputs": [],
   "source": []
  },
  {
   "cell_type": "code",
   "execution_count": null,
   "id": "5afaf42e",
   "metadata": {},
   "outputs": [],
   "source": []
  }
 ],
 "metadata": {
  "kernelspec": {
   "display_name": "Python 3 (ipykernel)",
   "language": "python",
   "name": "python3"
  },
  "language_info": {
   "codemirror_mode": {
    "name": "ipython",
    "version": 3
   },
   "file_extension": ".py",
   "mimetype": "text/x-python",
   "name": "python",
   "nbconvert_exporter": "python",
   "pygments_lexer": "ipython3",
   "version": "3.10.9"
  }
 },
 "nbformat": 4,
 "nbformat_minor": 5
}
