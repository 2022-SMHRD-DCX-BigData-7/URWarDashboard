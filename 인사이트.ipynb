{
 "cells": [
  {
   "cell_type": "code",
   "execution_count": 1,
   "id": "409ac72a",
   "metadata": {},
   "outputs": [],
   "source": [
    "import pandas as pd\n",
    "from datetime import datetime"
   ]
  },
  {
   "cell_type": "code",
   "execution_count": 2,
   "id": "1b505772",
   "metadata": {},
   "outputs": [
    {
     "data": {
      "text/html": [
       "<div>\n",
       "<style scoped>\n",
       "    .dataframe tbody tr th:only-of-type {\n",
       "        vertical-align: middle;\n",
       "    }\n",
       "\n",
       "    .dataframe tbody tr th {\n",
       "        vertical-align: top;\n",
       "    }\n",
       "\n",
       "    .dataframe thead th {\n",
       "        text-align: right;\n",
       "    }\n",
       "</style>\n",
       "<table border=\"1\" class=\"dataframe\">\n",
       "  <thead>\n",
       "    <tr style=\"text-align: right;\">\n",
       "      <th></th>\n",
       "      <th>country</th>\n",
       "      <th>un2023_02</th>\n",
       "      <th>un2022_03</th>\n",
       "      <th>population</th>\n",
       "      <th>gdp</th>\n",
       "    </tr>\n",
       "  </thead>\n",
       "  <tbody>\n",
       "    <tr>\n",
       "      <th>0</th>\n",
       "      <td>아프가니스탄</td>\n",
       "      <td>O</td>\n",
       "      <td>O</td>\n",
       "      <td>31575018</td>\n",
       "      <td>14.8</td>\n",
       "    </tr>\n",
       "  </tbody>\n",
       "</table>\n",
       "</div>"
      ],
      "text/plain": [
       "  country un2023_02 un2022_03  population   gdp\n",
       "0  아프가니스탄         O         O    31575018  14.8"
      ]
     },
     "execution_count": 2,
     "metadata": {},
     "output_type": "execute_result"
    }
   ],
   "source": [
    "# 뉴스\n",
    "df= pd.read_csv('./러우유엔.CSV',encoding='utf-8',parse_dates=True)\n",
    "df.head(1)"
   ]
  },
  {
   "cell_type": "code",
   "execution_count": 3,
   "id": "9d54112b",
   "metadata": {},
   "outputs": [
    {
     "data": {
      "text/plain": [
       "[{'country': '아프가니스탄', 'population': 31575018, 'un2022_03': 'O'},\n",
       " {'country': '알바니아', 'population': 2862427, 'un2022_03': 'O'},\n",
       " {'country': '안도라', 'population': 76177, 'un2022_03': 'O'},\n",
       " {'country': '아르헨티나', 'population': 45661935, 'un2022_03': 'O'},\n",
       " {'country': '호주', 'population': 25371700, 'un2022_03': 'O'},\n",
       " {'country': '오스트리아', 'population': 8859992, 'un2022_03': 'O'},\n",
       " {'country': '앤티가 바부다', 'population': 104084, 'un2022_03': 'O'},\n",
       " {'country': '바하마', 'population': 385340, 'un2022_03': 'O'},\n",
       " {'country': '바레인', 'population': 1543300, 'un2022_03': 'O'},\n",
       " {'country': '바베이도스', 'population': 287010, 'un2022_03': 'O'},\n",
       " {'country': '벨기에', 'population': 11467362, 'un2022_03': 'O'},\n",
       " {'country': '벨리즈', 'population': 398050, 'un2022_03': 'O'},\n",
       " {'country': '베냉', 'population': 11733059, 'un2022_03': 'O'},\n",
       " {'country': '부탄', 'population': 741672, 'un2022_03': 'O'},\n",
       " {'country': '보스니아', 'population': 3501774, 'un2022_03': 'O'},\n",
       " {'country': '보츠와나', 'population': 2338851, 'un2022_03': 'O'},\n",
       " {'country': '브라질', 'population': 215351000, 'un2022_03': 'O'},\n",
       " {'country': '브루나이', 'population': 421300, 'un2022_03': 'O'},\n",
       " {'country': '불가리아', 'population': 7000039, 'un2022_03': 'O'},\n",
       " {'country': '카보베르데', 'population': 550483, 'un2022_03': 'O'},\n",
       " {'country': '캄보디아', 'population': 16289270, 'un2022_03': 'O'},\n",
       " {'country': '캐나다', 'population': 36488800, 'un2022_03': 'O'},\n",
       " {'country': '차드', 'population': 15692969, 'un2022_03': 'O'},\n",
       " {'country': '칠레', 'population': 19107216, 'un2022_03': 'O'},\n",
       " {'country': '콜롬비아', 'population': 51049498, 'un2022_03': 'O'},\n",
       " {'country': '코모로', 'population': 873724, 'un2022_03': 'O'},\n",
       " {'country': '코스타리카', 'population': 5058007, 'un2022_03': 'O'},\n",
       " {'country': '코트디부아르', 'population': 25823071, 'un2022_03': 'O'},\n",
       " {'country': '크로아티아', 'population': 4105493, 'un2022_03': 'O'},\n",
       " {'country': '키프로스', 'population': 864200, 'un2022_03': 'O'},\n",
       " {'country': '체코', 'population': 10649800, 'un2022_03': 'O'},\n",
       " {'country': '콩고민주공화국', 'population': 95248000, 'un2022_03': 'O'},\n",
       " {'country': '덴마크', 'population': 5811413, 'un2022_03': 'O'},\n",
       " {'country': '지부티', 'population': 1078373, 'un2022_03': 'O'},\n",
       " {'country': '도미니카', 'population': 10358320, 'un2022_03': 'O'},\n",
       " {'country': '에콰도르', 'population': 17245100, 'un2022_03': 'O'},\n",
       " {'country': '이집트', 'population': 106151603, 'un2022_03': 'O'},\n",
       " {'country': '에스토니아', 'population': 1324820, 'un2022_03': 'O'},\n",
       " {'country': '피지', 'population': 884887, 'un2022_03': 'O'},\n",
       " {'country': '핀란드', 'population': 5518393, 'un2022_03': 'O'},\n",
       " {'country': '프랑스', 'population': 65582492, 'un2022_03': 'O'},\n",
       " {'country': '감비아', 'population': 2228075, 'un2022_03': 'O'},\n",
       " {'country': '조지아', 'population': 3723500, 'un2022_03': 'O'},\n",
       " {'country': '독일', 'population': 83883942, 'un2022_03': 'O'},\n",
       " {'country': '가나', 'population': 30280811, 'un2022_03': 'O'},\n",
       " {'country': '그리스', 'population': 10741165, 'un2022_03': 'O'},\n",
       " {'country': '과테말라', 'population': 17679735, 'un2022_03': 'O'},\n",
       " {'country': '가이아나', 'population': 786508, 'un2022_03': 'O'},\n",
       " {'country': '아이티', 'population': 11577779, 'un2022_03': 'O'},\n",
       " {'country': '온두라스', 'population': 9158345, 'un2022_03': 'O'},\n",
       " {'country': '헝가리', 'population': 9778371, 'un2022_03': 'O'},\n",
       " {'country': '아이슬란드', 'population': 358780, 'un2022_03': 'O'},\n",
       " {'country': '인도네시아', 'population': 279134505, 'un2022_03': 'O'},\n",
       " {'country': '이라크', 'population': 39127900, 'un2022_03': 'O'},\n",
       " {'country': '아일랜드', 'population': 4857000, 'un2022_03': 'O'},\n",
       " {'country': '이스라엘', 'population': 9033730, 'un2022_03': 'O'},\n",
       " {'country': '이탈리아', 'population': 59045521, 'un2022_03': 'O'},\n",
       " {'country': '자메이카', 'population': 2726667, 'un2022_03': 'O'},\n",
       " {'country': '일본', 'population': 125580000, 'un2022_03': 'O'},\n",
       " {'country': '요르단', 'population': 10422800, 'un2022_03': 'O'},\n",
       " {'country': '케냐', 'population': 47564296, 'un2022_03': 'O'},\n",
       " {'country': '키리바시', 'population': 120100, 'un2022_03': 'O'},\n",
       " {'country': '쿠웨이트', 'population': 4420110, 'un2022_03': 'O'},\n",
       " {'country': '라트비아', 'population': 1915100, 'un2022_03': 'O'},\n",
       " {'country': '레소토', 'population': 2007201, 'un2022_03': 'O'},\n",
       " {'country': '라이베리아', 'population': 4475353, 'un2022_03': 'O'},\n",
       " {'country': '리비아', 'population': 6569864, 'un2022_03': 'O'},\n",
       " {'country': '리히텐슈타인', 'population': 38380, 'un2022_03': 'O'},\n",
       " {'country': '리투아니아', 'population': 2790472, 'un2022_03': 'O'},\n",
       " {'country': '룩셈부르크', 'population': 613894, 'un2022_03': 'O'},\n",
       " {'country': '마다가스카르', 'population': 25263000, 'un2022_03': 'O'},\n",
       " {'country': '말라위', 'population': 17563749, 'un2022_03': 'O'},\n",
       " {'country': '말레이시아', 'population': 32738000, 'un2022_03': 'O'},\n",
       " {'country': '몰디브', 'population': 378114, 'un2022_03': 'O'},\n",
       " {'country': '몰타', 'population': 475701, 'un2022_03': 'O'},\n",
       " {'country': '마셜제도', 'population': 55500, 'un2022_03': 'O'},\n",
       " {'country': '모리타니', 'population': 4077347, 'un2022_03': 'O'},\n",
       " {'country': '모리셔스', 'population': 1265577, 'un2022_03': 'O'},\n",
       " {'country': '멕시코', 'population': 131564024, 'un2022_03': 'O'},\n",
       " {'country': '미크로네시아', 'population': 105300, 'un2022_03': 'O'},\n",
       " {'country': '모나코', 'population': 38300, 'un2022_03': 'O'},\n",
       " {'country': '몬테네그로', 'population': 622359, 'un2022_03': 'O'},\n",
       " {'country': '모로코', 'population': 35029100, 'un2022_03': 'O'},\n",
       " {'country': '미얀마', 'population': 55294979, 'un2022_03': 'O'},\n",
       " {'country': '나우루', 'population': 11000, 'un2022_03': 'O'},\n",
       " {'country': '네팔', 'population': 29609623, 'un2022_03': 'O'},\n",
       " {'country': '네덜란드', 'population': 17320400, 'un2022_03': 'O'},\n",
       " {'country': '뉴질랜드', 'population': 4966430, 'un2022_03': 'O'},\n",
       " {'country': '니제르', 'population': 22314743, 'un2022_03': 'O'},\n",
       " {'country': '나이지리아', 'population': 216741966, 'un2022_03': 'O'},\n",
       " {'country': '북마케도니아', 'population': 2075301, 'un2022_03': 'O'},\n",
       " {'country': '노르웨이', 'population': 5334762, 'un2022_03': 'O'},\n",
       " {'country': '오만', 'population': 4683872, 'un2022_03': 'O'},\n",
       " {'country': '팔라우', 'population': 17900, 'un2022_03': 'O'},\n",
       " {'country': '파나마', 'population': 4218808, 'un2022_03': 'O'},\n",
       " {'country': '파푸아뉴기니', 'population': 8558800, 'un2022_03': 'O'},\n",
       " {'country': '파라과이', 'population': 7152703, 'un2022_03': 'O'},\n",
       " {'country': '페루', 'population': 32495510, 'un2022_03': 'O'},\n",
       " {'country': '필리핀', 'population': 112503764, 'un2022_03': 'O'},\n",
       " {'country': '폴란드', 'population': 38413000, 'un2022_03': 'O'},\n",
       " {'country': '포르투갈', 'population': 10291027, 'un2022_03': 'O'},\n",
       " {'country': '카타르', 'population': 2772294, 'un2022_03': 'O'},\n",
       " {'country': '대한민국', 'population': 51430018, 'un2022_03': 'O'},\n",
       " {'country': '몰도바', 'population': 3547539, 'un2022_03': 'O'},\n",
       " {'country': '루마니아', 'population': 19523621, 'un2022_03': 'O'},\n",
       " {'country': '르완다', 'population': 12374397, 'un2022_03': 'O'},\n",
       " {'country': '세인트 키츠 네비스', 'population': 56345, 'un2022_03': 'O'},\n",
       " {'country': '세인트 루시아', 'population': 180454, 'un2022_03': 'O'},\n",
       " {'country': '세인트 빈센트 그레나딘', 'population': 110520, 'un2022_03': 'O'},\n",
       " {'country': '사모아', 'population': 200874, 'un2022_03': 'O'},\n",
       " {'country': '산마리노', 'population': 33422, 'un2022_03': 'O'},\n",
       " {'country': '상투메', 'population': 201784, 'un2022_03': 'O'},\n",
       " {'country': '사우디아라비아', 'population': 33413660, 'un2022_03': 'O'},\n",
       " {'country': '세르비아', 'population': 7001444, 'un2022_03': 'O'},\n",
       " {'country': '세이셸', 'population': 201784, 'un2022_03': 'O'},\n",
       " {'country': '시에라리온', 'population': 7901454, 'un2022_03': 'O'},\n",
       " {'country': '싱가포르', 'population': 5638700, 'un2022_03': 'O'},\n",
       " {'country': '슬로바키아', 'population': 5450421, 'un2022_03': 'O'},\n",
       " {'country': '슬로베니아', 'population': 2080908, 'un2022_03': 'O'},\n",
       " {'country': '솔로몬 제도', 'population': 680806, 'un2022_03': 'O'},\n",
       " {'country': '소말리아', 'population': 14742523, 'un2022_03': 'O'},\n",
       " {'country': '남수단', 'population': 12778250, 'un2022_03': 'O'},\n",
       " {'country': '스페인', 'population': 47394223, 'un2022_03': 'O'},\n",
       " {'country': '수리남', 'population': 573085, 'un2022_03': 'O'},\n",
       " {'country': '스웨덴', 'population': 10255102, 'un2022_03': 'O'},\n",
       " {'country': '스위스', 'population': 8542323, 'un2022_03': 'O'},\n",
       " {'country': '태국', 'population': 70073000, 'un2022_03': 'O'},\n",
       " {'country': '동티모르', 'population': 1131664, 'un2022_03': 'O'},\n",
       " {'country': '통가', 'population': 100300, 'un2022_03': 'O'},\n",
       " {'country': '트리니다드 토바고', 'population': 1359193, 'un2022_03': 'O'},\n",
       " {'country': '튀니지', 'population': 11551448, 'un2022_03': 'O'},\n",
       " {'country': '투발루', 'population': 10200, 'un2022_03': 'O'},\n",
       " {'country': '튀르키에', 'population': 85560273, 'un2022_03': 'O'},\n",
       " {'country': '우크라이나', 'population': 43609194, 'un2022_03': 'O'},\n",
       " {'country': '아랍에미리트', 'population': 9682088, 'un2022_03': 'O'},\n",
       " {'country': '영국', 'population': 68491234, 'un2022_03': 'O'},\n",
       " {'country': '미국', 'population': 334805268, 'un2022_03': 'O'},\n",
       " {'country': '우루과이', 'population': 3518552, 'un2022_03': 'O'},\n",
       " {'country': '바누아투', 'population': 304500, 'un2022_03': 'O'},\n",
       " {'country': '예멘', 'population': 29579986, 'un2022_03': 'O'},\n",
       " {'country': '잠비아', 'population': 17381168, 'un2022_03': 'O'},\n",
       " {'country': '벨라루스', 'population': 9465300, 'un2022_03': 'X'},\n",
       " {'country': '북한', 'population': 25750000, 'un2022_03': 'X'},\n",
       " {'country': '에리트레아', 'population': 5309659, 'un2022_03': 'X'},\n",
       " {'country': '말리', 'population': 19973000, 'un2022_03': 'J'},\n",
       " {'country': '니카리과', 'population': 6393824, 'un2022_03': 'J'},\n",
       " {'country': '러시아', 'population': 145808097, 'un2022_03': 'X'},\n",
       " {'country': '시리아', 'population': 18499181, 'un2022_03': 'X'},\n",
       " {'country': '알제리', 'population': 44851834, 'un2022_03': 'J'},\n",
       " {'country': '앙골라', 'population': 30175553, 'un2022_03': 'J'},\n",
       " {'country': '아르메니아', 'population': 2962100, 'un2022_03': 'J'},\n",
       " {'country': '방글라데시', 'population': 167883226, 'un2022_03': 'J'},\n",
       " {'country': '볼리비아', 'population': 11469896, 'un2022_03': 'J'},\n",
       " {'country': '부룬디', 'population': 10953317, 'un2022_03': 'J'},\n",
       " {'country': '중앙아프리카 공화국', 'population': 5496011, 'un2022_03': 'J'},\n",
       " {'country': '중국', 'population': 1411750000, 'un2022_03': 'J'},\n",
       " {'country': '콩고공화국', 'population': 5542197, 'un2022_03': 'J'},\n",
       " {'country': '쿠바', 'population': 11221060, 'un2022_03': 'J'},\n",
       " {'country': '엘살바도르', 'population': 6704864, 'un2022_03': 'J'},\n",
       " {'country': '에티오피아', 'population': 120816000, 'un2022_03': 'J'},\n",
       " {'country': '가봉', 'population': 2109099, 'un2022_03': 'J'},\n",
       " {'country': '기니', 'population': 12218357, 'un2022_03': 'J'},\n",
       " {'country': '인도', 'population': 1428630000, 'un2022_03': 'J'},\n",
       " {'country': '이란', 'population': 86028968, 'un2022_03': 'J'},\n",
       " {'country': '카자흐스탄', 'population': 18481664, 'un2022_03': 'J'},\n",
       " {'country': '키르기스스탄', 'population': 6389500, 'un2022_03': 'J'},\n",
       " {'country': '라오스', 'population': 7123205, 'un2022_03': 'J'},\n",
       " {'country': '몽골', 'population': 3259290, 'un2022_03': 'J'},\n",
       " {'country': '모잠비크', 'population': 27909798, 'un2022_03': 'J'},\n",
       " {'country': '나미비아', 'population': 2458936, 'un2022_03': 'J'},\n",
       " {'country': '파키스탄', 'population': 229488996, 'un2022_03': 'J'},\n",
       " {'country': '남아프리카', 'population': 60142978, 'un2022_03': 'J'},\n",
       " {'country': '스리랑카', 'population': 21670112, 'un2022_03': 'J'},\n",
       " {'country': '수단', 'population': 44780237, 'un2022_03': 'J'},\n",
       " {'country': '타지키스탄', 'population': 8931000, 'un2022_03': 'J'},\n",
       " {'country': '토고', 'population': 7538000, 'un2022_03': 'J'},\n",
       " {'country': '우간다', 'population': 45958837, 'un2022_03': 'J'},\n",
       " {'country': '우즈베키스탄', 'population': 33516570, 'un2022_03': 'J'},\n",
       " {'country': '베트남', 'population': 98950000, 'un2022_03': 'J'},\n",
       " {'country': '짐바브웨', 'population': 15159624, 'un2022_03': 'J'}]"
      ]
     },
     "execution_count": 3,
     "metadata": {},
     "output_type": "execute_result"
    }
   ],
   "source": [
    "un = df[['country','population', 'un2022_03']].to_dict(orient='records')\n",
    "un"
   ]
  },
  {
   "cell_type": "code",
   "execution_count": 4,
   "id": "0d50b2ad",
   "metadata": {},
   "outputs": [
    {
     "data": {
      "text/plain": [
       "103873.83999999998"
      ]
     },
     "execution_count": 4,
     "metadata": {},
     "output_type": "execute_result"
    }
   ],
   "source": [
    "# 전체 gdp 계산\n",
    "total_gdp = df['gdp'].sum()\n",
    "total_gdp"
   ]
  },
  {
   "cell_type": "code",
   "execution_count": 5,
   "id": "9d357d60",
   "metadata": {},
   "outputs": [],
   "source": [
    "# 국력(power) 계산 및 새로운 열 할당\n",
    "df['power'] = ((df['gdp'] / total_gdp)*100).round(6)"
   ]
  },
  {
   "cell_type": "code",
   "execution_count": 16,
   "id": "3ba2e165",
   "metadata": {
    "collapsed": true
   },
   "outputs": [
    {
     "data": {
      "text/html": [
       "<div>\n",
       "<style scoped>\n",
       "    .dataframe tbody tr th:only-of-type {\n",
       "        vertical-align: middle;\n",
       "    }\n",
       "\n",
       "    .dataframe tbody tr th {\n",
       "        vertical-align: top;\n",
       "    }\n",
       "\n",
       "    .dataframe thead th {\n",
       "        text-align: right;\n",
       "    }\n",
       "</style>\n",
       "<table border=\"1\" class=\"dataframe\">\n",
       "  <thead>\n",
       "    <tr style=\"text-align: right;\">\n",
       "      <th></th>\n",
       "      <th>country</th>\n",
       "      <th>un2023_02</th>\n",
       "      <th>un2022_03</th>\n",
       "      <th>population</th>\n",
       "      <th>gdp</th>\n",
       "      <th>power</th>\n",
       "    </tr>\n",
       "  </thead>\n",
       "  <tbody>\n",
       "    <tr>\n",
       "      <th>0</th>\n",
       "      <td>아프가니스탄</td>\n",
       "      <td>O</td>\n",
       "      <td>O</td>\n",
       "      <td>31,575,018</td>\n",
       "      <td>14.80</td>\n",
       "      <td>0.0001</td>\n",
       "    </tr>\n",
       "    <tr>\n",
       "      <th>1</th>\n",
       "      <td>알바니아</td>\n",
       "      <td>O</td>\n",
       "      <td>O</td>\n",
       "      <td>2,862,427</td>\n",
       "      <td>20.18</td>\n",
       "      <td>0.0002</td>\n",
       "    </tr>\n",
       "    <tr>\n",
       "      <th>2</th>\n",
       "      <td>안도라</td>\n",
       "      <td>O</td>\n",
       "      <td>O</td>\n",
       "      <td>76,177</td>\n",
       "      <td>3.67</td>\n",
       "      <td>0.0000</td>\n",
       "    </tr>\n",
       "    <tr>\n",
       "      <th>3</th>\n",
       "      <td>아르헨티나</td>\n",
       "      <td>O</td>\n",
       "      <td>O</td>\n",
       "      <td>45,661,935</td>\n",
       "      <td>641.10</td>\n",
       "      <td>0.0062</td>\n",
       "    </tr>\n",
       "    <tr>\n",
       "      <th>4</th>\n",
       "      <td>호주</td>\n",
       "      <td>O</td>\n",
       "      <td>O</td>\n",
       "      <td>25,371,700</td>\n",
       "      <td>1707.55</td>\n",
       "      <td>0.0164</td>\n",
       "    </tr>\n",
       "    <tr>\n",
       "      <th>...</th>\n",
       "      <td>...</td>\n",
       "      <td>...</td>\n",
       "      <td>...</td>\n",
       "      <td>...</td>\n",
       "      <td>...</td>\n",
       "      <td>...</td>\n",
       "    </tr>\n",
       "    <tr>\n",
       "      <th>175</th>\n",
       "      <td>토고</td>\n",
       "      <td>J</td>\n",
       "      <td>J</td>\n",
       "      <td>7,538,000</td>\n",
       "      <td>9.00</td>\n",
       "      <td>0.0001</td>\n",
       "    </tr>\n",
       "    <tr>\n",
       "      <th>176</th>\n",
       "      <td>우간다</td>\n",
       "      <td>J</td>\n",
       "      <td>J</td>\n",
       "      <td>45,958,837</td>\n",
       "      <td>49.79</td>\n",
       "      <td>0.0005</td>\n",
       "    </tr>\n",
       "    <tr>\n",
       "      <th>177</th>\n",
       "      <td>우즈베키스탄</td>\n",
       "      <td>J</td>\n",
       "      <td>J</td>\n",
       "      <td>33,516,570</td>\n",
       "      <td>92.33</td>\n",
       "      <td>0.0009</td>\n",
       "    </tr>\n",
       "    <tr>\n",
       "      <th>178</th>\n",
       "      <td>베트남</td>\n",
       "      <td>J</td>\n",
       "      <td>J</td>\n",
       "      <td>98,950,000</td>\n",
       "      <td>449.09</td>\n",
       "      <td>0.0043</td>\n",
       "    </tr>\n",
       "    <tr>\n",
       "      <th>179</th>\n",
       "      <td>짐바브웨</td>\n",
       "      <td>J</td>\n",
       "      <td>J</td>\n",
       "      <td>15,159,624</td>\n",
       "      <td>29.93</td>\n",
       "      <td>0.0003</td>\n",
       "    </tr>\n",
       "  </tbody>\n",
       "</table>\n",
       "<p>180 rows × 6 columns</p>\n",
       "</div>"
      ],
      "text/plain": [
       "    country un2023_02 un2022_03   population       gdp   power\n",
       "0    아프가니스탄         O         O   31,575,018     14.80  0.0001\n",
       "1      알바니아         O         O    2,862,427     20.18  0.0002\n",
       "2       안도라         O         O       76,177      3.67  0.0000\n",
       "3     아르헨티나         O         O   45,661,935    641.10  0.0062\n",
       "4        호주         O         O   25,371,700   1707.55  0.0164\n",
       "..      ...       ...       ...           ...      ...     ...\n",
       "175      토고         J         J    7,538,000      9.00  0.0001\n",
       "176     우간다         J         J   45,958,837     49.79  0.0005\n",
       "177  우즈베키스탄         J         J   33,516,570     92.33  0.0009\n",
       "178     베트남         J         J   98,950,000    449.09  0.0043\n",
       "179    짐바브웨         J         J   15,159,624     29.93  0.0003\n",
       "\n",
       "[180 rows x 6 columns]"
      ]
     },
     "execution_count": 16,
     "metadata": {},
     "output_type": "execute_result"
    }
   ],
   "source": [
    "df"
   ]
  },
  {
   "cell_type": "code",
   "execution_count": 6,
   "id": "9fd4abdf",
   "metadata": {
    "collapsed": true
   },
   "outputs": [
    {
     "data": {
      "text/plain": [
       "[{'country': '아프가니스탄', 'power': 0.014248, 'un2022_03': 'O'},\n",
       " {'country': '알바니아', 'power': 0.019427, 'un2022_03': 'O'},\n",
       " {'country': '안도라', 'power': 0.003533, 'un2022_03': 'O'},\n",
       " {'country': '아르헨티나', 'power': 0.617191, 'un2022_03': 'O'},\n",
       " {'country': '호주', 'power': 1.643869, 'un2022_03': 'O'},\n",
       " {'country': '오스트리아', 'power': 0.495986, 'un2022_03': 'O'},\n",
       " {'country': '앤티가 바부다', 'power': 0.001791, 'un2022_03': 'O'},\n",
       " {'country': '바하마', 'power': 0.013584, 'un2022_03': 'O'},\n",
       " {'country': '바레인', 'power': 0.043197, 'un2022_03': 'O'},\n",
       " {'country': '바베이도스', 'power': 0.005892, 'un2022_03': 'O'},\n",
       " {'country': '벨기에', 'power': 0.600969, 'un2022_03': 'O'},\n",
       " {'country': '벨리즈', 'power': 0.003042, 'un2022_03': 'O'},\n",
       " {'country': '베냉', 'power': 0.018522, 'un2022_03': 'O'},\n",
       " {'country': '부탄', 'power': 0.00258, 'un2022_03': 'O'},\n",
       " {'country': '보스니아', 'power': 0.027428, 'un2022_03': 'O'},\n",
       " {'country': '보츠와나', 'power': 0.01884, 'un2022_03': 'O'},\n",
       " {'country': '브라질', 'power': 2.003623, 'un2022_03': 'O'},\n",
       " {'country': '브루나이', 'power': 0.014932, 'un2022_03': 'O'},\n",
       " {'country': '불가리아', 'power': 0.096887, 'un2022_03': 'O'},\n",
       " {'country': '카보베르데', 'power': 0.002378, 'un2022_03': 'O'},\n",
       " {'country': '캄보디아', 'power': 0.029488, 'un2022_03': 'O'},\n",
       " {'country': '캐나다', 'power': 2.011738, 'un2022_03': 'O'},\n",
       " {'country': '차드', 'power': 0.011514, 'un2022_03': 'O'},\n",
       " {'country': '칠레', 'power': 0.345188, 'un2022_03': 'O'},\n",
       " {'country': '콜롬비아', 'power': 0.322208, 'un2022_03': 'O'},\n",
       " {'country': '코모로', 'power': 0.0013, 'un2022_03': 'O'},\n",
       " {'country': '코스타리카', 'power': 0.074879, 'un2022_03': 'O'},\n",
       " {'country': '코트디부아르', 'power': 0.067428, 'un2022_03': 'O'},\n",
       " {'country': '크로아티아', 'power': 0.075938, 'un2022_03': 'O'},\n",
       " {'country': '키프로스', 'power': 0.029709, 'un2022_03': 'O'},\n",
       " {'country': '체코', 'power': 0.318155, 'un2022_03': 'O'},\n",
       " {'country': '콩고민주공화국', 'power': 0.066879, 'un2022_03': 'O'},\n",
       " {'country': '덴마크', 'power': 0.390503, 'un2022_03': 'O'},\n",
       " {'country': '지부티', 'power': 0.003774, 'un2022_03': 'O'},\n",
       " {'country': '도미니카', 'power': 0.116767, 'un2022_03': 'O'},\n",
       " {'country': '에콰도르', 'power': 0.116767, 'un2022_03': 'O'},\n",
       " {'country': '이집트', 'power': 0.372673, 'un2022_03': 'O'},\n",
       " {'country': '에스토니아', 'power': 0.04, 'un2022_03': 'O'},\n",
       " {'country': '피지', 'power': 0.005189, 'un2022_03': 'O'},\n",
       " {'country': '핀란드', 'power': 0.29042, 'un2022_03': 'O'},\n",
       " {'country': '프랑스', 'power': 2.814462, 'un2022_03': 'O'},\n",
       " {'country': '감비아', 'power': 0.002195, 'un2022_03': 'O'},\n",
       " {'country': '조지아', 'power': 0.017935, 'un2022_03': 'O'},\n",
       " {'country': '독일', 'power': 4.148157, 'un2022_03': 'O'},\n",
       " {'country': '가나', 'power': 0.064135, 'un2022_03': 'O'},\n",
       " {'country': '그리스', 'power': 0.230376, 'un2022_03': 'O'},\n",
       " {'country': '과테말라', 'power': 0.098494, 'un2022_03': 'O'},\n",
       " {'country': '가이아나', 'power': 0.015702, 'un2022_03': 'O'},\n",
       " {'country': '아이티', 'power': 0.025589, 'un2022_03': 'O'},\n",
       " {'country': '온두라스', 'power': 0.033059, 'un2022_03': 'O'},\n",
       " {'country': '헝가리', 'power': 0.18148, 'un2022_03': 'O'},\n",
       " {'country': '아이슬란드', 'power': 0.027562, 'un2022_03': 'O'},\n",
       " {'country': '인도네시아', 'power': 1.339875, 'un2022_03': 'O'},\n",
       " {'country': '이라크', 'power': 0.257899, 'un2022_03': 'O'},\n",
       " {'country': '아일랜드', 'power': 0.571944, 'un2022_03': 'O'},\n",
       " {'country': '이스라엘', 'power': 0.51911, 'un2022_03': 'O'},\n",
       " {'country': '이탈리아', 'power': 2.088832, 'un2022_03': 'O'},\n",
       " {'country': '자메이카', 'power': 0.016607, 'un2022_03': 'O'},\n",
       " {'country': '일본', 'power': 4.245284, 'un2022_03': 'O'},\n",
       " {'country': '요르단', 'power': 0.050118, 'un2022_03': 'O'},\n",
       " {'country': '케냐', 'power': 0.113724, 'un2022_03': 'O'},\n",
       " {'country': '키리바시', 'power': 0.000241, 'un2022_03': 'O'},\n",
       " {'country': '쿠웨이트', 'power': 0.158567, 'un2022_03': 'O'},\n",
       " {'country': '라트비아', 'power': 0.045632, 'un2022_03': 'O'},\n",
       " {'country': '레소토', 'power': 0.002484, 'un2022_03': 'O'},\n",
       " {'country': '라이베리아', 'power': 0.004217, 'un2022_03': 'O'},\n",
       " {'country': '리비아', 'power': 0.044573, 'un2022_03': 'O'},\n",
       " {'country': '리히텐슈타인', 'power': 0.005882, 'un2022_03': 'O'},\n",
       " {'country': '리투아니아', 'power': 0.075428, 'un2022_03': 'O'},\n",
       " {'country': '룩셈부르크', 'power': 0.083727, 'un2022_03': 'O'},\n",
       " {'country': '마다가스카르', 'power': 0.015374, 'un2022_03': 'O'},\n",
       " {'country': '말라위', 'power': 0.010859, 'un2022_03': 'O'},\n",
       " {'country': '말레이시아', 'power': 0.430359, 'un2022_03': 'O'},\n",
       " {'country': '몰디브', 'power': 0.006739, 'un2022_03': 'O'},\n",
       " {'country': '몰타', 'power': 0.018686, 'un2022_03': 'O'},\n",
       " {'country': '마셜제도', 'power': 0.000279, 'un2022_03': 'O'},\n",
       " {'country': '모리타니', 'power': 0.010561, 'un2022_03': 'O'},\n",
       " {'country': '모리셔스', 'power': 0.014027, 'un2022_03': 'O'},\n",
       " {'country': '멕시코', 'power': 1.601135, 'un2022_03': 'O'},\n",
       " {'country': '미크로네시아', 'power': 0.000443, 'un2022_03': 'O'},\n",
       " {'country': '모나코', 'power': 0.008279, 'un2022_03': 'O'},\n",
       " {'country': '몬테네그로', 'power': 0.006768, 'un2022_03': 'O'},\n",
       " {'country': '모로코', 'power': 0.133604, 'un2022_03': 'O'},\n",
       " {'country': '미얀마', 'power': 0.061604, 'un2022_03': 'O'},\n",
       " {'country': '나우루', 'power': 0.000144, 'un2022_03': 'O'},\n",
       " {'country': '네팔', 'power': 0.04053, 'un2022_03': 'O'},\n",
       " {'country': '네덜란드', 'power': 1.04057, 'un2022_03': 'O'},\n",
       " {'country': '뉴질랜드', 'power': 0.242573, 'un2022_03': 'O'},\n",
       " {'country': '니제르', 'power': 0.016, 'un2022_03': 'O'},\n",
       " {'country': '나이지리아', 'power': 0.487707, 'un2022_03': 'O'},\n",
       " {'country': '북마케도니아', 'power': 0.01471, 'un2022_03': 'O'},\n",
       " {'country': '노르웨이', 'power': 0.533445, 'un2022_03': 'O'},\n",
       " {'country': '오만', 'power': 0.100988, 'un2022_03': 'O'},\n",
       " {'country': '팔라우', 'power': 0.00025, 'un2022_03': 'O'},\n",
       " {'country': '파나마', 'power': 0.074379, 'un2022_03': 'O'},\n",
       " {'country': '파푸아뉴기니', 'power': 0.031635, 'un2022_03': 'O'},\n",
       " {'country': '파라과이', 'power': 0.041223, 'un2022_03': 'O'},\n",
       " {'country': '페루', 'power': 0.258236, 'un2022_03': 'O'},\n",
       " {'country': '필리핀', 'power': 0.424457, 'un2022_03': 'O'},\n",
       " {'country': '폴란드', 'power': 0.720961, 'un2022_03': 'O'},\n",
       " {'country': '포르투갈', 'power': 0.257736, 'un2022_03': 'O'},\n",
       " {'country': '카타르', 'power': 0.211381, 'un2022_03': 'O'},\n",
       " {'country': '대한민국', 'power': 1.657694, 'un2022_03': 'O'},\n",
       " {'country': '몰도바', 'power': 0.01524, 'un2022_03': 'O'},\n",
       " {'country': '루마니아', 'power': 0.335888, 'un2022_03': 'O'},\n",
       " {'country': '르완다', 'power': 0.01266, 'un2022_03': 'O'},\n",
       " {'country': '세인트 키츠 네비스', 'power': 0.00102, 'un2022_03': 'O'},\n",
       " {'country': '세인트 루시아', 'power': 0.002176, 'un2022_03': 'O'},\n",
       " {'country': '세인트 빈센트 그레나딘', 'power': 0.001001, 'un2022_03': 'O'},\n",
       " {'country': '사모아', 'power': 0.000866, 'un2022_03': 'O'},\n",
       " {'country': '산마리노', 'power': 0.001742, 'un2022_03': 'O'},\n",
       " {'country': '상투메', 'power': 0.000607, 'un2022_03': 'O'},\n",
       " {'country': '사우디아라비아', 'power': 1.022298, 'un2022_03': 'O'},\n",
       " {'country': '세르비아', 'power': 0.071202, 'un2022_03': 'O'},\n",
       " {'country': '세이셸', 'power': 0.001877, 'un2022_03': 'O'},\n",
       " {'country': '시에라리온', 'power': 0.003389, 'un2022_03': 'O'},\n",
       " {'country': '싱가포르', 'power': 0.496323, 'un2022_03': 'O'},\n",
       " {'country': '슬로바키아', 'power': 0.122774, 'un2022_03': 'O'},\n",
       " {'country': '슬로베니아', 'power': 0.06557, 'un2022_03': 'O'},\n",
       " {'country': '솔로몬 제도', 'power': 0.001637, 'un2022_03': 'O'},\n",
       " {'country': '소말리아', 'power': 0.008414, 'un2022_03': 'O'},\n",
       " {'country': '남수단', 'power': 0.006749, 'un2022_03': 'O'},\n",
       " {'country': '스페인', 'power': 1.436772, 'un2022_03': 'O'},\n",
       " {'country': '수리남', 'power': 0.003341, 'un2022_03': 'O'},\n",
       " {'country': '스웨덴', 'power': 0.576709, 'un2022_03': 'O'},\n",
       " {'country': '스위스', 'power': 0.837169, 'un2022_03': 'O'},\n",
       " {'country': '태국', 'power': 0.552815, 'un2022_03': 'O'},\n",
       " {'country': '동티모르', 'power': 0.001916, 'un2022_03': 'O'},\n",
       " {'country': '통가', 'power': 0.00052, 'un2022_03': 'O'},\n",
       " {'country': '트리니다드 토바고', 'power': 0.027168, 'un2022_03': 'O'},\n",
       " {'country': '튀니지', 'power': 0.047962, 'un2022_03': 'O'},\n",
       " {'country': '투발루', 'power': 6.7e-05, 'un2022_03': 'O'},\n",
       " {'country': '튀르키에', 'power': 0.990914, 'un2022_03': 'O'},\n",
       " {'country': '우크라이나', 'power': 0.143164, 'un2022_03': 'O'},\n",
       " {'country': '아랍에미리트', 'power': 0.480371, 'un2022_03': 'O'},\n",
       " {'country': '영국', 'power': 3.041131, 'un2022_03': 'O'},\n",
       " {'country': '미국', 'power': 25.853093, 'un2022_03': 'O'},\n",
       " {'country': '우루과이', 'power': 0.074427, 'un2022_03': 'O'},\n",
       " {'country': '바누아투', 'power': 0.00102, 'un2022_03': 'O'},\n",
       " {'country': '예멘', 'power': 0.018802, 'un2022_03': 'O'},\n",
       " {'country': '잠비아', 'power': 0.028178, 'un2022_03': 'O'},\n",
       " {'country': '벨라루스', 'power': 0.070797, 'un2022_03': 'X'},\n",
       " {'country': '북한', 'power': 0.002647, 'un2022_03': 'X'},\n",
       " {'country': '에리트레아', 'power': 0.00257, 'un2022_03': 'X'},\n",
       " {'country': '말리', 'power': 0.020005, 'un2022_03': 'J'},\n",
       " {'country': '니카리과', 'power': 0.016645, 'un2022_03': 'J'},\n",
       " {'country': '러시아', 'power': 1.985726, 'un2022_03': 'X'},\n",
       " {'country': '시리아', 'power': 0.010667, 'un2022_03': 'X'},\n",
       " {'country': '알제리', 'power': 0.198327, 'un2022_03': 'J'},\n",
       " {'country': '앙골라', 'power': 0.113484, 'un2022_03': 'J'},\n",
       " {'country': '아르메니아', 'power': 0.022845, 'un2022_03': 'J'},\n",
       " {'country': '방글라데시', 'power': 0.404837, 'un2022_03': 'J'},\n",
       " {'country': '볼리비아', 'power': 0.044381, 'un2022_03': 'J'},\n",
       " {'country': '부룬디', 'power': 0.00311, 'un2022_03': 'J'},\n",
       " {'country': '중앙아프리카 공화국', 'power': 0.002638, 'un2022_03': 'J'},\n",
       " {'country': '중국', 'power': 18.651077, 'un2022_03': 'J'},\n",
       " {'country': '콩고공화국', 'power': 0.012544, 'un2022_03': 'J'},\n",
       " {'country': '쿠바', 'power': 0.103395, 'un2022_03': 'J'},\n",
       " {'country': '엘살바도르', 'power': 0.032491, 'un2022_03': 'J'},\n",
       " {'country': '에티오피아', 'power': 0.150259, 'un2022_03': 'J'},\n",
       " {'country': '가봉', 'power': 0.019572, 'un2022_03': 'J'},\n",
       " {'country': '기니', 'power': 0.022431, 'un2022_03': 'J'},\n",
       " {'country': '인도', 'power': 3.597518, 'un2022_03': 'J'},\n",
       " {'country': '이란', 'power': 0.354247, 'un2022_03': 'J'},\n",
       " {'country': '카자흐스탄', 'power': 0.236537, 'un2022_03': 'J'},\n",
       " {'country': '키르기스스탄', 'power': 0.008222, 'un2022_03': 'J'},\n",
       " {'country': '라오스', 'power': 0.013565, 'un2022_03': 'J'},\n",
       " {'country': '몽골', 'power': 0.016279, 'un2022_03': 'J'},\n",
       " {'country': '모잠비크', 'power': 0.019167, 'un2022_03': 'J'},\n",
       " {'country': '나미비아', 'power': 0.012987, 'un2022_03': 'J'},\n",
       " {'country': '파키스탄', 'power': 0.335311, 'un2022_03': 'J'},\n",
       " {'country': '남아프리카', 'power': 0.384139, 'un2022_03': 'J'},\n",
       " {'country': '스리랑카', 'power': 0.085613, 'un2022_03': 'J'},\n",
       " {'country': '수단', 'power': 0.044968, 'un2022_03': 'J'},\n",
       " {'country': '타지키스탄', 'power': 0.012323, 'un2022_03': 'J'},\n",
       " {'country': '토고', 'power': 0.008664, 'un2022_03': 'J'},\n",
       " {'country': '우간다', 'power': 0.047933, 'un2022_03': 'J'},\n",
       " {'country': '우즈베키스탄', 'power': 0.088887, 'un2022_03': 'J'},\n",
       " {'country': '베트남', 'power': 0.432342, 'un2022_03': 'J'},\n",
       " {'country': '짐바브웨', 'power': 0.028814, 'un2022_03': 'J'}]"
      ]
     },
     "execution_count": 6,
     "metadata": {},
     "output_type": "execute_result"
    }
   ],
   "source": [
    "un2022 = df[['country','power', 'un2022_03']].to_dict(orient='records')\n",
    "un2022"
   ]
  },
  {
   "cell_type": "code",
   "execution_count": 15,
   "id": "f9c062ed",
   "metadata": {},
   "outputs": [],
   "source": [
    "import plotly.graph_objects as go\n",
    "from plotly.offline import plot\n",
    "import numpy as np\n",
    "from sklearn.preprocessing import MinMaxScaler"
   ]
  },
  {
   "cell_type": "code",
   "execution_count": 12,
   "id": "3330dc88",
   "metadata": {},
   "outputs": [],
   "source": [
    "import math"
   ]
  },
  {
   "cell_type": "code",
   "execution_count": 93,
   "id": "e6e053bd",
   "metadata": {},
   "outputs": [],
   "source": [
    "data = [\n",
    "     {'country': '아프가니스탄', 'power': 0.014248, 'un2022_03': 'O'},\n",
    "     {'country': '알바니아', 'power': 0.019427, 'un2022_03': 'O'},\n",
    "     {'country': '안도라', 'power': 0.003533, 'un2022_03': 'O'},\n",
    "     {'country': '아르헨티나', 'power': 0.617191, 'un2022_03': 'O'},\n",
    "     {'country': '호주', 'power': 1.643869, 'un2022_03': 'O'},\n",
    "     {'country': '오스트리아', 'power': 0.495986, 'un2022_03': 'O'},\n",
    "     {'country': '앤티가 바부다', 'power': 0.001791, 'un2022_03': 'O'},\n",
    "     {'country': '바하마', 'power': 0.013584, 'un2022_03': 'O'},\n",
    "     {'country': '바레인', 'power': 0.043197, 'un2022_03': 'O'},\n",
    "     {'country': '바베이도스', 'power': 0.005892, 'un2022_03': 'O'},\n",
    "     {'country': '벨기에', 'power': 0.600969, 'un2022_03': 'O'},\n",
    "     {'country': '벨리즈', 'power': 0.003042, 'un2022_03': 'O'},\n",
    "     {'country': '베냉', 'power': 0.018522, 'un2022_03': 'O'},\n",
    "     {'country': '부탄', 'power': 0.00258, 'un2022_03': 'O'},\n",
    "     {'country': '보스니아', 'power': 0.027428, 'un2022_03': 'O'},\n",
    "     {'country': '보츠와나', 'power': 0.01884, 'un2022_03': 'O'},\n",
    "     {'country': '브라질', 'power': 2.003623, 'un2022_03': 'O'},\n",
    "     {'country': '브루나이', 'power': 0.014932, 'un2022_03': 'O'},\n",
    "     {'country': '불가리아', 'power': 0.096887, 'un2022_03': 'O'},\n",
    "     {'country': '카보베르데', 'power': 0.002378, 'un2022_03': 'O'},\n",
    "     {'country': '캄보디아', 'power': 0.029488, 'un2022_03': 'O'},\n",
    "     {'country': '캐나다', 'power': 2.011738, 'un2022_03': 'O'},\n",
    "     {'country': '차드', 'power': 0.011514, 'un2022_03': 'O'},\n",
    "     {'country': '칠레', 'power': 0.345188, 'un2022_03': 'O'},\n",
    "     {'country': '콜롬비아', 'power': 0.322208, 'un2022_03': 'O'},\n",
    "     {'country': '코모로', 'power': 0.0013, 'un2022_03': 'O'},\n",
    "     {'country': '코스타리카', 'power': 0.074879, 'un2022_03': 'O'},\n",
    "     {'country': '코트디부아르', 'power': 0.067428, 'un2022_03': 'O'},\n",
    "     {'country': '크로아티아', 'power': 0.075938, 'un2022_03': 'O'},\n",
    "     {'country': '키프로스', 'power': 0.029709, 'un2022_03': 'O'},\n",
    "     {'country': '체코', 'power': 0.318155, 'un2022_03': 'O'},\n",
    "     {'country': '콩고민주공화국', 'power': 0.066879, 'un2022_03': 'O'},\n",
    "     {'country': '덴마크', 'power': 0.390503, 'un2022_03': 'O'},\n",
    "     {'country': '지부티', 'power': 0.003774, 'un2022_03': 'O'},\n",
    "     {'country': '도미니카', 'power': 0.116767, 'un2022_03': 'O'},\n",
    "     {'country': '에콰도르', 'power': 0.116767, 'un2022_03': 'O'},\n",
    "     {'country': '이집트', 'power': 0.372673, 'un2022_03': 'O'},\n",
    "     {'country': '에스토니아', 'power': 0.04, 'un2022_03': 'O'},\n",
    "     {'country': '피지', 'power': 0.005189, 'un2022_03': 'O'},\n",
    "     {'country': '핀란드', 'power': 0.29042, 'un2022_03': 'O'},\n",
    "     {'country': '프랑스', 'power': 2.814462, 'un2022_03': 'O'},\n",
    "     {'country': '감비아', 'power': 0.002195, 'un2022_03': 'O'},\n",
    "     {'country': '조지아', 'power': 0.017935, 'un2022_03': 'O'},\n",
    "     {'country': '독일', 'power': 4.148157, 'un2022_03': 'O'},\n",
    "     {'country': '가나', 'power': 0.064135, 'un2022_03': 'O'},\n",
    "     {'country': '그리스', 'power': 0.230376, 'un2022_03': 'O'},\n",
    "     {'country': '과테말라', 'power': 0.098494, 'un2022_03': 'O'},\n",
    "     {'country': '가이아나', 'power': 0.015702, 'un2022_03': 'O'},\n",
    "     {'country': '아이티', 'power': 0.025589, 'un2022_03': 'O'},\n",
    "     {'country': '온두라스', 'power': 0.033059, 'un2022_03': 'O'},\n",
    "     {'country': '헝가리', 'power': 0.18148, 'un2022_03': 'O'},\n",
    "     {'country': '아이슬란드', 'power': 0.027562, 'un2022_03': 'O'},\n",
    "     {'country': '인도네시아', 'power': 1.339875, 'un2022_03': 'O'},\n",
    "     {'country': '이라크', 'power': 0.257899, 'un2022_03': 'O'},\n",
    "     {'country': '아일랜드', 'power': 0.571944, 'un2022_03': 'O'},\n",
    "     {'country': '이스라엘', 'power': 0.51911, 'un2022_03': 'O'},\n",
    "     {'country': '이탈리아', 'power': 2.088832, 'un2022_03': 'O'},\n",
    "     {'country': '자메이카', 'power': 0.016607, 'un2022_03': 'O'},\n",
    "     {'country': '일본', 'power': 4.245284, 'un2022_03': 'O'},\n",
    "     {'country': '요르단', 'power': 0.050118, 'un2022_03': 'O'},\n",
    "     {'country': '케냐', 'power': 0.113724, 'un2022_03': 'O'},\n",
    "     {'country': '키리바시', 'power': 0.000241, 'un2022_03': 'O'},\n",
    "     {'country': '쿠웨이트', 'power': 0.158567, 'un2022_03': 'O'},\n",
    "     {'country': '라트비아', 'power': 0.045632, 'un2022_03': 'O'},\n",
    "     {'country': '레소토', 'power': 0.002484, 'un2022_03': 'O'},\n",
    "     {'country': '라이베리아', 'power': 0.004217, 'un2022_03': 'O'},\n",
    "     {'country': '리비아', 'power': 0.044573, 'un2022_03': 'O'},\n",
    "     {'country': '리히텐슈타인', 'power': 0.005882, 'un2022_03': 'O'},\n",
    "     {'country': '리투아니아', 'power': 0.075428, 'un2022_03': 'O'},\n",
    "     {'country': '룩셈부르크', 'power': 0.083727, 'un2022_03': 'O'},\n",
    "     {'country': '마다가스카르', 'power': 0.015374, 'un2022_03': 'O'},\n",
    "     {'country': '말라위', 'power': 0.010859, 'un2022_03': 'O'},\n",
    "     {'country': '말레이시아', 'power': 0.430359, 'un2022_03': 'O'},\n",
    "     {'country': '몰디브', 'power': 0.006739, 'un2022_03': 'O'},\n",
    "     {'country': '몰타', 'power': 0.018686, 'un2022_03': 'O'},\n",
    "     {'country': '마셜제도', 'power': 0.000279, 'un2022_03': 'O'},\n",
    "     {'country': '모리타니', 'power': 0.010561, 'un2022_03': 'O'},\n",
    "     {'country': '모리셔스', 'power': 0.014027, 'un2022_03': 'O'},\n",
    "     {'country': '멕시코', 'power': 1.601135, 'un2022_03': 'O'},\n",
    "     {'country': '미크로네시아', 'power': 0.000443, 'un2022_03': 'O'},\n",
    "     {'country': '모나코', 'power': 0.008279, 'un2022_03': 'O'},\n",
    "     {'country': '몬테네그로', 'power': 0.006768, 'un2022_03': 'O'},\n",
    "     {'country': '모로코', 'power': 0.133604, 'un2022_03': 'O'},\n",
    "     {'country': '미얀마', 'power': 0.061604, 'un2022_03': 'O'},\n",
    "     {'country': '나우루', 'power': 0.000144, 'un2022_03': 'O'},\n",
    "     {'country': '네팔', 'power': 0.04053, 'un2022_03': 'O'},\n",
    "     {'country': '네덜란드', 'power': 1.04057, 'un2022_03': 'O'},\n",
    "     {'country': '뉴질랜드', 'power': 0.242573, 'un2022_03': 'O'},\n",
    "     {'country': '니제르', 'power': 0.016, 'un2022_03': 'O'},\n",
    "     {'country': '나이지리아', 'power': 0.487707, 'un2022_03': 'O'},\n",
    "     {'country': '북마케도니아', 'power': 0.01471, 'un2022_03': 'O'},\n",
    "     {'country': '노르웨이', 'power': 0.533445, 'un2022_03': 'O'},\n",
    "     {'country': '오만', 'power': 0.100988, 'un2022_03': 'O'},\n",
    "     {'country': '팔라우', 'power': 0.00025, 'un2022_03': 'O'},\n",
    "     {'country': '파나마', 'power': 0.074379, 'un2022_03': 'O'},\n",
    "     {'country': '파푸아뉴기니', 'power': 0.031635, 'un2022_03': 'O'},\n",
    "     {'country': '파라과이', 'power': 0.041223, 'un2022_03': 'O'},\n",
    "     {'country': '페루', 'power': 0.258236, 'un2022_03': 'O'},\n",
    "     {'country': '필리핀', 'power': 0.424457, 'un2022_03': 'O'},\n",
    "     {'country': '폴란드', 'power': 0.720961, 'un2022_03': 'O'},\n",
    "     {'country': '포르투갈', 'power': 0.257736, 'un2022_03': 'O'},\n",
    "     {'country': '카타르', 'power': 0.211381, 'un2022_03': 'O'},\n",
    "     {'country': '대한민국', 'power': 2.317694, 'un2022_03': 'O'},\n",
    "     {'country': '몰도바', 'power': 0.01524, 'un2022_03': 'O'},\n",
    "     {'country': '루마니아', 'power': 0.335888, 'un2022_03': 'O'},\n",
    "     {'country': '르완다', 'power': 0.01266, 'un2022_03': 'O'},\n",
    "     {'country': '세인트 키츠 네비스', 'power': 0.00102, 'un2022_03': 'O'},\n",
    "     {'country': '세인트 루시아', 'power': 0.002176, 'un2022_03': 'O'},\n",
    "     {'country': '세인트 빈센트 그레나딘', 'power': 0.001001, 'un2022_03': 'O'},\n",
    "     {'country': '사모아', 'power': 0.000866, 'un2022_03': 'O'},\n",
    "     {'country': '산마리노', 'power': 0.001742, 'un2022_03': 'O'},\n",
    "     {'country': '상투메', 'power': 0.000607, 'un2022_03': 'O'},\n",
    "     {'country': '사우디아라비아', 'power': 1.022298, 'un2022_03': 'O'},\n",
    "     {'country': '세르비아', 'power': 0.071202, 'un2022_03': 'O'},\n",
    "     {'country': '세이셸', 'power': 0.001877, 'un2022_03': 'O'},\n",
    "     {'country': '시에라리온', 'power': 0.003389, 'un2022_03': 'O'},\n",
    "     {'country': '싱가포르', 'power': 0.496323, 'un2022_03': 'O'},\n",
    "     {'country': '슬로바키아', 'power': 0.122774, 'un2022_03': 'O'},\n",
    "     {'country': '슬로베니아', 'power': 0.06557, 'un2022_03': 'O'},\n",
    "     {'country': '솔로몬 제도', 'power': 0.001637, 'un2022_03': 'O'},\n",
    "     {'country': '소말리아', 'power': 0.008414, 'un2022_03': 'O'},\n",
    "     {'country': '남수단', 'power': 0.006749, 'un2022_03': 'O'},\n",
    "     {'country': '스페인', 'power': 1.436772, 'un2022_03': 'O'},\n",
    "     {'country': '수리남', 'power': 0.003341, 'un2022_03': 'O'},\n",
    "     {'country': '스웨덴', 'power': 0.576709, 'un2022_03': 'O'},\n",
    "     {'country': '스위스', 'power': 0.837169, 'un2022_03': 'O'},\n",
    "     {'country': '태국', 'power': 0.552815, 'un2022_03': 'O'},\n",
    "     {'country': '동티모르', 'power': 0.001916, 'un2022_03': 'O'},\n",
    "     {'country': '통가', 'power': 0.00052, 'un2022_03': 'O'},\n",
    "     {'country': '트리니다드 토바고', 'power': 0.027168, 'un2022_03': 'O'},\n",
    "     {'country': '튀니지', 'power': 0.047962, 'un2022_03': 'O'},\n",
    "     {'country': '투발루', 'power': 6.7e-05, 'un2022_03': 'O'},\n",
    "     {'country': '튀르키에', 'power': 0.990914, 'un2022_03': 'O'},\n",
    "     {'country': '우크라이나', 'power': 0.143164, 'un2022_03': 'O'},\n",
    "     {'country': '아랍에미리트', 'power': 0.480371, 'un2022_03': 'O'},\n",
    "     {'country': '영국', 'power': 3.041131, 'un2022_03': 'O'},\n",
    "     {'country': '미국', 'power': 25.853093, 'un2022_03': 'O'},\n",
    "     {'country': '우루과이', 'power': 0.074427, 'un2022_03': 'O'},\n",
    "     {'country': '바누아투', 'power': 0.00102, 'un2022_03': 'O'},\n",
    "     {'country': '예멘', 'power': 0.018802, 'un2022_03': 'O'},\n",
    "     {'country': '잠비아', 'power': 0.028178, 'un2022_03': 'O'},\n",
    "     {'country': '벨라루스', 'power': 0.070797, 'un2022_03': 'X'},\n",
    "     {'country': '북한', 'power': 0.002647, 'un2022_03': 'X'},\n",
    "     {'country': '에리트레아', 'power': 0.00257, 'un2022_03': 'X'},\n",
    "     {'country': '말리', 'power': 0.020005, 'un2022_03': 'J'},\n",
    "     {'country': '니카리과', 'power': 0.016645, 'un2022_03': 'J'},\n",
    "     {'country': '러시아', 'power': 1.985726, 'un2022_03': 'X'},\n",
    "     {'country': '시리아', 'power': 0.010667, 'un2022_03': 'X'},\n",
    "     {'country': '알제리', 'power': 0.198327, 'un2022_03': 'J'},\n",
    "     {'country': '앙골라', 'power': 0.113484, 'un2022_03': 'J'},\n",
    "     {'country': '아르메니아', 'power': 0.022845, 'un2022_03': 'J'},\n",
    "     {'country': '방글라데시', 'power': 0.404837, 'un2022_03': 'J'},\n",
    "     {'country': '볼리비아', 'power': 0.044381, 'un2022_03': 'J'},\n",
    "     {'country': '부룬디', 'power': 0.00311, 'un2022_03': 'J'},\n",
    "     {'country': '중앙아프리카 공화국', 'power': 0.002638, 'un2022_03': 'J'},\n",
    "     {'country': '중국', 'power': 18.651077, 'un2022_03': 'J'},\n",
    "     {'country': '콩고공화국', 'power': 0.012544, 'un2022_03': 'J'},\n",
    "     {'country': '쿠바', 'power': 0.103395, 'un2022_03': 'J'},\n",
    "     {'country': '엘살바도르', 'power': 0.032491, 'un2022_03': 'J'},\n",
    "     {'country': '에티오피아', 'power': 0.150259, 'un2022_03': 'J'},\n",
    "     {'country': '가봉', 'power': 0.019572, 'un2022_03': 'J'},\n",
    "     {'country': '기니', 'power': 0.022431, 'un2022_03': 'J'},\n",
    "     {'country': '인도', 'power': 3.597518, 'un2022_03': 'J'},\n",
    "     {'country': '이란', 'power': 0.354247, 'un2022_03': 'J'},\n",
    "     {'country': '카자흐스탄', 'power': 0.236537, 'un2022_03': 'J'},\n",
    "     {'country': '키르기스스탄', 'power': 0.008222, 'un2022_03': 'J'},\n",
    "     {'country': '라오스', 'power': 0.013565, 'un2022_03': 'J'},\n",
    "     {'country': '몽골', 'power': 0.016279, 'un2022_03': 'J'},\n",
    "     {'country': '모잠비크', 'power': 0.019167, 'un2022_03': 'J'},\n",
    "     {'country': '나미비아', 'power': 0.012987, 'un2022_03': 'J'},\n",
    "     {'country': '파키스탄', 'power': 0.335311, 'un2022_03': 'J'},\n",
    "     {'country': '남아프리카', 'power': 0.384139, 'un2022_03': 'J'},\n",
    "     {'country': '스리랑카', 'power': 0.085613, 'un2022_03': 'J'},\n",
    "     {'country': '수단', 'power': 0.044968, 'un2022_03': 'J'},\n",
    "     {'country': '타지키스탄', 'power': 0.012323, 'un2022_03': 'J'},\n",
    "     {'country': '토고', 'power': 0.008664, 'un2022_03': 'J'},\n",
    "     {'country': '우간다', 'power': 0.047933, 'un2022_03': 'J'},\n",
    "     {'country': '우즈베키스탄', 'power': 0.088887, 'un2022_03': 'J'},\n",
    "     {'country': '베트남', 'power': 0.432342, 'un2022_03': 'J'},\n",
    "     {'country': '짐바브웨', 'power': 0.028814, 'un2022_03': 'J'}\n",
    "]"
   ]
  },
  {
   "cell_type": "code",
   "execution_count": 62,
   "id": "35cd8d24",
   "metadata": {},
   "outputs": [
    {
     "data": {
      "application/vnd.plotly.v1+json": {
       "config": {
        "plotlyServerURL": "https://plot.ly"
       },
       "data": [
        {
         "marker": {
          "opacity": 0.7,
          "size": [
           26.37612976487982,
           25.001553080040097,
           25,
           65,
           25.163315442658067
          ],
          "sizemode": "diameter"
         },
         "mode": "markers",
         "name": "X",
         "text": [
          "벨라루스",
          "북한",
          "에리트레아",
          "러시아",
          "시리아"
         ],
         "type": "scatter",
         "x": [
          0.984011580637122,
          1.0222492909768495,
          0.9980214528252869,
          0.9160212257818624,
          0.9677321822262985
         ],
         "y": [
          -0.4193369652669854,
          0.020103080436248533,
          -0.20723920513159855,
          0.07896350151613007,
          -0.35630437813908467
         ]
        },
        {
         "marker": {
          "opacity": 0.7,
          "size": [
           25.037251375302784,
           25.030044337759318,
           25.41974344340564,
           25.237759310578223,
           25.043343037988326,
           25.8626974086142,
           25.08953671671929,
           25.001012417178725,
           25,
           65,
           25.02124789104332,
           25.216118893382976,
           25.06403324160269,
           25.316639907501106,
           25.036322611238397,
           25.042455028005296,
           32.710843786978636,
           25.75418430464877,
           25.501702045946047,
           25.011977410012708,
           25.023437886677808,
           25.029259285455474,
           25.035453905820216,
           25.0221981046242,
           25.71356750020739,
           25.818301199365802,
           25.177977363145516,
           25.090795803337752,
           25.020773856728706,
           25.01292547864194,
           25.097155584979525,
           25.18499993484709,
           25.921694303743063,
           25.056146254386224
          ],
          "sizemode": "diameter"
         },
         "mode": "markers",
         "name": "J",
         "text": [
          "말리",
          "니카리과",
          "알제리",
          "앙골라",
          "아르메니아",
          "방글라데시",
          "볼리비아",
          "부룬디",
          "중앙아프리카 공화국",
          "중국",
          "콩고공화국",
          "쿠바",
          "엘살바도르",
          "에티오피아",
          "가봉",
          "기니",
          "인도",
          "이란",
          "카자흐스탄",
          "키르기스스탄",
          "라오스",
          "몽골",
          "모잠비크",
          "나미비아",
          "파키스탄",
          "남아프리카",
          "스리랑카",
          "수단",
          "타지키스탄",
          "토고",
          "우간다",
          "우즈베키스탄",
          "베트남",
          "짐바브웨"
         ],
         "type": "scatter",
         "x": [
          2.0805577353781035,
          1.9855045602179402,
          1.9499077549427764,
          2.0784297155448384,
          2.0748567853053075,
          1.9565212037404158,
          2.009181770321027,
          1.9136535691498038,
          2.0225521573131995,
          1.9945654834669226,
          2.048256993049333,
          2.0102523808089363,
          2.0203254307040495,
          2.0382636721401965,
          1.9613155811566554,
          1.9864570257118788,
          2.0726599130836036,
          1.9367025114749499,
          2.05733924989831,
          1.9237174531551526,
          2.0199587535346804,
          2.045093179320646,
          2.088740611631098,
          1.9246597325297239,
          1.9833380880520668,
          1.9890978463033524,
          1.9788594547133853,
          2.0652473062198045,
          2.0027302889205676,
          2.0461133976498886,
          1.9919838890599708,
          2.066757698885674,
          2.0165975079628002,
          1.9672364945220275
         ],
         "y": [
          0.1760763059637731,
          0.41709070119342084,
          -0.2195458849648857,
          0.5747329783854003,
          -0.43992092365400626,
          0.32238128992448756,
          -0.4885913601513143,
          -0.1976315718673336,
          -0.6227749119347072,
          0.3393676615273715,
          0.5156215252715564,
          0.7041067448128913,
          0.8139895318528398,
          -0.37754630830695435,
          0.7800610934990297,
          -0.9967194257290712,
          0.8476221339655936,
          0.8948392947063879,
          -0.4124999627341879,
          -0.9892574098037292,
          -0.2783352922197113,
          -0.74053282395225,
          -0.46568973601438945,
          0.10019678117632447,
          -0.8466652147012008,
          0.8027069248339542,
          0.15808363492105437,
          -0.16995346101315167,
          -0.9663782914266601,
          0.28923024812654896,
          -0.43501467508894764,
          -0.9270220098921329,
          0.5596613006153524,
          0.5003666036570382
         ]
        },
        {
         "marker": {
          "opacity": 0.7,
          "size": [
           25.0219409519025,
           25.029953940401406,
           25.005362621768146,
           25.954818983278788,
           27.54330305473719,
           25.767289678198598,
           25.00266738601508,
           25.020913606012694,
           25.066731066607055,
           25.009012484650732,
           25.929720180531284,
           25.00460294280445,
           25.028553717464252,
           25.003888132863057,
           25.042333148931966,
           25.029045729501835,
           28.09991720118179,
           25.022999241945605,
           25.149800646160337,
           25.00357559691465,
           25.04552039672261,
           28.1124727913862,
           25.0177108861454,
           25.533973856677356,
           25.49841902452734,
           25.00190770705139,
           25.115749699861052,
           25.104221455546444,
           25.117388192778673,
           25.045862329616657,
           25.49214819185963,
           25.103372038538158,
           25.60408557203323,
           25.005735498815497,
           25.18055913454773,
           25.18055913454773,
           25.57649885935983,
           25.061784643700896,
           25.007924797661985,
           25.44923638726082,
           29.35445351735615,
           25.00329245791189,
           25.02764550656469,
           31.417956644610967,
           25.099126500704404,
           25.356335850201827,
           25.15228700887857,
           25.024190591847933,
           25.039487834035366,
           25.05104547529562,
           25.280683584196296,
           25.04254047475912,
           27.07296120771317,
           25.398919646775585,
           25.884812478044157,
           25.803067308252427,
           28.23175321913961,
           25.025590814785087,
           31.568232283524566,
           25.077439290859026,
           25.175850981622034,
           25.000269214133773,
           25.245232414959855,
           25.070498517272217,
           25.003739600927176,
           25.00642091181125,
           25.068860024354596,
           25.00899701257408,
           25.116599116869338,
           25.129439393284176,
           25.023683107733696,
           25.016697465124587,
           25.665751080743892,
           25.010322969543296,
           25.028807459521374,
           25.000328008025058,
           25.01623639724031,
           25.021599019008452,
           27.477184682365618,
           25.000581750082173,
           25.01270566934795,
           25.01036783856559,
           25.20660947000943,
           25.09521051810337,
           25.000119134990236,
           25.062604663763537,
           26.609874217432033,
           25.375207142096244,
           25.02465165973221,
           25.75448034593707,
           25.022655761843893,
           25.825246530135388,
           25.15614574479599,
           25.00028313900276,
           25.114976096028375,
           25.048842251580144,
           25.063676878675633,
           25.39944105575881,
           25.65661946110293,
           26.11537272271339,
           25.398667451926134,
           25.32694664059828,
           27.564693200710817,
           25.023475781906534,
           25.51958482538949,
           25.019483986129902,
           25.00147448890509,
           25.003263060966248,
           25.001445091959447,
           25.00123621892462,
           25.002591572839485,
           25.000835492139295,
           26.58160363897054,
           25.110060617275515,
           25.002800445874307,
           25.00513982386433,
           25.767811087181826,
           25.18985321099356,
           25.1013467437042,
           25.00242911603462,
           25.012914542382774,
           25.01033844161995,
           27.22288098886374,
           25.005065557896394,
           25.892184922569605,
           26.29517063108976,
           25.855215942613448,
           25.00286078697325,
           25.00070088507241,
           25.041930874938974,
           25.074103511132506,
           25,
           26.533046073600826,
           25.221400775290288,
           25.743130030503973,
           29.705157531656063,
           65,
           25.11505036199631,
           25.00147448890509,
           25.028986935610554,
           25.04349355468099
          ],
          "sizemode": "diameter"
         },
         "mode": "markers",
         "name": "O",
         "text": [
          "아프가니스탄",
          "알바니아",
          "안도라",
          "아르헨티나",
          "호주",
          "오스트리아",
          "앤티가 바부다",
          "바하마",
          "바레인",
          "바베이도스",
          "벨기에",
          "벨리즈",
          "베냉",
          "부탄",
          "보스니아",
          "보츠와나",
          "브라질",
          "브루나이",
          "불가리아",
          "카보베르데",
          "캄보디아",
          "캐나다",
          "차드",
          "칠레",
          "콜롬비아",
          "코모로",
          "코스타리카",
          "코트디부아르",
          "크로아티아",
          "키프로스",
          "체코",
          "콩고민주공화국",
          "덴마크",
          "지부티",
          "도미니카",
          "에콰도르",
          "이집트",
          "에스토니아",
          "피지",
          "핀란드",
          "프랑스",
          "감비아",
          "조지아",
          "독일",
          "가나",
          "그리스",
          "과테말라",
          "가이아나",
          "아이티",
          "온두라스",
          "헝가리",
          "아이슬란드",
          "인도네시아",
          "이라크",
          "아일랜드",
          "이스라엘",
          "이탈리아",
          "자메이카",
          "일본",
          "요르단",
          "케냐",
          "키리바시",
          "쿠웨이트",
          "라트비아",
          "레소토",
          "라이베리아",
          "리비아",
          "리히텐슈타인",
          "리투아니아",
          "룩셈부르크",
          "마다가스카르",
          "말라위",
          "말레이시아",
          "몰디브",
          "몰타",
          "마셜제도",
          "모리타니",
          "모리셔스",
          "멕시코",
          "미크로네시아",
          "모나코",
          "몬테네그로",
          "모로코",
          "미얀마",
          "나우루",
          "네팔",
          "네덜란드",
          "뉴질랜드",
          "니제르",
          "나이지리아",
          "북마케도니아",
          "노르웨이",
          "오만",
          "팔라우",
          "파나마",
          "파푸아뉴기니",
          "파라과이",
          "페루",
          "필리핀",
          "폴란드",
          "포르투갈",
          "카타르",
          "대한민국",
          "몰도바",
          "루마니아",
          "르완다",
          "세인트 키츠 네비스",
          "세인트 루시아",
          "세인트 빈센트 그레나딘",
          "사모아",
          "산마리노",
          "상투메",
          "사우디아라비아",
          "세르비아",
          "세이셸",
          "시에라리온",
          "싱가포르",
          "슬로바키아",
          "슬로베니아",
          "솔로몬 제도",
          "소말리아",
          "남수단",
          "스페인",
          "수리남",
          "스웨덴",
          "스위스",
          "태국",
          "동티모르",
          "통가",
          "트리니다드 토바고",
          "튀니지",
          "투발루",
          "튀르키에",
          "우크라이나",
          "아랍에미리트",
          "영국",
          "미국",
          "우루과이",
          "바누아투",
          "예멘",
          "잠비아"
         ],
         "type": "scatter",
         "x": [
          3.000100123269346,
          3.0034163786984447,
          2.9435855455162545,
          3.017727530643347,
          3.042710287854496,
          3.0593312224196607,
          2.913501994423057,
          3.082393508765879,
          2.926650656203935,
          3.013706301390645,
          2.9886403848177867,
          3.0715962298647574,
          2.9520469430073515,
          3.0846327822273945,
          2.948244782945527,
          3.0223461213116596,
          2.9388681695322605,
          2.9382807288123596,
          2.915385168817518,
          3.0182860747219378,
          2.932657462063442,
          2.94399915207354,
          2.93220562355105,
          3.042191806362706,
          3.02075525362953,
          3.0032597003618147,
          2.972796888277594,
          2.939162460481692,
          2.956798333913838,
          2.9334587355352393,
          3.0340083440586083,
          2.954467409252696,
          2.910561185984828,
          2.993710003836703,
          2.9725373301740547,
          2.9852181776387625,
          2.9950221132657164,
          2.9801924622158893,
          3.0278424281933893,
          2.9365487584413605,
          3.048535859495801,
          2.9567078584772433,
          3.02358380862352,
          2.9256830870893724,
          3.021957412415955,
          2.952375308769601,
          3.0522781197599422,
          3.0003288492608435,
          2.9903066226494506,
          3.0691786392673914,
          2.932045935593157,
          3.0115631367385762,
          3.0709841238270035,
          3.0337322906273756,
          2.9521616189421627,
          2.9611060189444176,
          3.0067876722725235,
          2.959247567539809,
          3.0611083041866625,
          2.9682907846934024,
          3.0795248392956838,
          3.034220951284154,
          3.0508455263461647,
          3.004487854643039,
          2.957340022251156,
          2.926418581157731,
          2.984492007606314,
          3.060799219785884,
          3.086959993754652,
          3.013040415101017,
          3.072633783435377,
          2.998067925087259,
          3.003551771163449,
          2.9256593076135586,
          2.914127091733679,
          3.0849662641364883,
          3.051067599808358,
          3.023521522953586,
          3.0691954307887714,
          2.977272260074272,
          2.915458825279496,
          2.924808896293139,
          2.9212834044305436,
          2.981279598054226,
          2.948068023425447,
          2.9493018392134576,
          2.9674309799339795,
          2.9846897193758783,
          2.913956818713819,
          3.080715745558407,
          2.9977417966659354,
          3.0718540243647077,
          3.0243098984962593,
          2.9302278954411176,
          2.916540094022575,
          3.011342193784445,
          3.014077661138365,
          3.0646596592640183,
          3.0563207406443884,
          3.059647762600764,
          2.9465145525500605,
          2.993157643045955,
          3.0616993081309087,
          3.0316166066131585,
          3.0055478418070596,
          3.066984160245362,
          3.030881564785691,
          3.0608205998805897,
          3.0406005353563885,
          2.914932942874753,
          3.030344520945873,
          3.010348689053424,
          3.041115005238506,
          2.9388023374400336,
          3.067657810241824,
          2.945338407501465,
          2.9687978430811897,
          3.005187988277902,
          2.972187633315237,
          2.9630303590538554,
          3.089295632666677,
          2.9318339986803132,
          3.002695794525722,
          2.935178941967704,
          3.051377591106584,
          3.04602327585216,
          2.9715536113828005,
          3.0475270207276663,
          3.0634929790404035,
          3.0781001997722974,
          2.971376584532463,
          3.0890701048377687,
          2.9768648313581836,
          2.9246972357185665,
          2.9782939518453695,
          2.9148280047135064,
          2.9395073365374826,
          2.9245748987646554,
          2.9166140353926884,
          2.993087614607608,
          3.077877137638469
         ],
         "y": [
          0.6664838875684587,
          -0.26707046056808603,
          -0.050269726702797835,
          -0.8753786710278817,
          -0.7402357770222066,
          0.2598222029592703,
          0.6787736365959289,
          -0.06075133579635672,
          -0.0053611527846784135,
          -0.85123107627498,
          0.203361498768186,
          0.6417371231733306,
          -0.5680716585495473,
          -0.3455211659156612,
          -0.9660192819425566,
          0.8038204565838285,
          -0.5765538844456153,
          -0.6006898598879635,
          0.21891629870257567,
          -0.5981522606824006,
          -0.5675113882249425,
          -0.03418334288612357,
          0.9150220759505785,
          -0.3324331131584801,
          0.31335362485004015,
          -0.39847910410745935,
          -0.07419746183882237,
          -0.9528169866031078,
          0.42788205484524644,
          -0.6211190066298147,
          -0.6346840111997636,
          -0.9287757315972802,
          0.13520472396733552,
          0.6383258173773514,
          0.25427300068719494,
          0.5021352670211416,
          -0.9334220937779472,
          -0.42416860770295783,
          -0.3374323124738339,
          -0.9658116962519203,
          -0.6057779860085148,
          0.004534439348113928,
          -0.05892604804450263,
          0.024308625835131492,
          0.04016714620812589,
          -0.09455131920159787,
          -0.9271464062171346,
          -0.6357943250475167,
          -0.5027842873027564,
          -0.138508873363973,
          0.00023378350993463748,
          0.17538007672111755,
          0.18751504188452928,
          -0.30976818088862146,
          -0.9616656956974603,
          -0.7625864167439318,
          -0.4364345361926103,
          -0.49022496545849537,
          -0.08219489216914067,
          0.11701625461430587,
          0.13578889706597908,
          -0.6841154697154046,
          -0.7690850362411361,
          0.8141477160484416,
          0.7323953556132832,
          0.9274794998387383,
          0.7211826324252075,
          -0.016990901455524288,
          -0.18131039555256123,
          0.510353214963386,
          0.8607440294014959,
          0.05827052166635638,
          0.819982391021614,
          0.8272887978375312,
          0.46962517370221657,
          -0.43919774353265306,
          -0.8212042796400687,
          0.9349755235150279,
          -0.6383501006362333,
          0.00878736709309802,
          0.8915715800571922,
          0.4293309222379804,
          0.9027762705705114,
          0.9391775983750532,
          -0.8411311384756741,
          -0.33478823881769393,
          0.3558971688238479,
          0.749617658436708,
          -0.5486809030077127,
          0.0007423206684025185,
          -0.1586311364396047,
          0.25026528822614313,
          0.3726678894212925,
          0.7288699651161168,
          0.8310516680117113,
          -0.0860118847055702,
          -0.5073711537245245,
          0.05179291594016089,
          -0.0650304550845231,
          -0.49014159102690225,
          0.04970254603551094,
          0.7933391568022568,
          0.7274318385286993,
          0.2860038462486727,
          0.884069944801454,
          -0.5785483311757493,
          0.7984333144111389,
          0.9691424230844279,
          -0.6427937776239643,
          -0.6450448055450084,
          -0.49502521849676673,
          -0.29492886851373323,
          -0.6538475776055366,
          -0.5460836321543159,
          -0.9113086659637544,
          0.04401612794123322,
          -0.5558168026813346,
          -0.23456652816924262,
          -0.5910601508033095,
          -0.5343962440479764,
          -0.5233598483999584,
          -0.015499176872333154,
          0.4405205577007476,
          0.7392795472632745,
          0.09386215708257573,
          -0.1748184085195137,
          0.6520905161889683,
          0.15326688756799367,
          0.42716555580746074,
          -0.0601196009593723,
          0.4226343479641741,
          0.7549830252354688,
          0.3384117624234404,
          -0.93381542267793,
          0.8108869564238708,
          0.8343299215520037,
          -0.6346510094539544,
          0.42814607783553926,
          -0.7216304437319172,
          0.8818491799210293,
          0.5243748323670303
         ]
        }
       ],
       "layout": {
        "template": {
         "data": {
          "bar": [
           {
            "error_x": {
             "color": "#2a3f5f"
            },
            "error_y": {
             "color": "#2a3f5f"
            },
            "marker": {
             "line": {
              "color": "#E5ECF6",
              "width": 0.5
             },
             "pattern": {
              "fillmode": "overlay",
              "size": 10,
              "solidity": 0.2
             }
            },
            "type": "bar"
           }
          ],
          "barpolar": [
           {
            "marker": {
             "line": {
              "color": "#E5ECF6",
              "width": 0.5
             },
             "pattern": {
              "fillmode": "overlay",
              "size": 10,
              "solidity": 0.2
             }
            },
            "type": "barpolar"
           }
          ],
          "carpet": [
           {
            "aaxis": {
             "endlinecolor": "#2a3f5f",
             "gridcolor": "white",
             "linecolor": "white",
             "minorgridcolor": "white",
             "startlinecolor": "#2a3f5f"
            },
            "baxis": {
             "endlinecolor": "#2a3f5f",
             "gridcolor": "white",
             "linecolor": "white",
             "minorgridcolor": "white",
             "startlinecolor": "#2a3f5f"
            },
            "type": "carpet"
           }
          ],
          "choropleth": [
           {
            "colorbar": {
             "outlinewidth": 0,
             "ticks": ""
            },
            "type": "choropleth"
           }
          ],
          "contour": [
           {
            "colorbar": {
             "outlinewidth": 0,
             "ticks": ""
            },
            "colorscale": [
             [
              0,
              "#0d0887"
             ],
             [
              0.1111111111111111,
              "#46039f"
             ],
             [
              0.2222222222222222,
              "#7201a8"
             ],
             [
              0.3333333333333333,
              "#9c179e"
             ],
             [
              0.4444444444444444,
              "#bd3786"
             ],
             [
              0.5555555555555556,
              "#d8576b"
             ],
             [
              0.6666666666666666,
              "#ed7953"
             ],
             [
              0.7777777777777778,
              "#fb9f3a"
             ],
             [
              0.8888888888888888,
              "#fdca26"
             ],
             [
              1,
              "#f0f921"
             ]
            ],
            "type": "contour"
           }
          ],
          "contourcarpet": [
           {
            "colorbar": {
             "outlinewidth": 0,
             "ticks": ""
            },
            "type": "contourcarpet"
           }
          ],
          "heatmap": [
           {
            "colorbar": {
             "outlinewidth": 0,
             "ticks": ""
            },
            "colorscale": [
             [
              0,
              "#0d0887"
             ],
             [
              0.1111111111111111,
              "#46039f"
             ],
             [
              0.2222222222222222,
              "#7201a8"
             ],
             [
              0.3333333333333333,
              "#9c179e"
             ],
             [
              0.4444444444444444,
              "#bd3786"
             ],
             [
              0.5555555555555556,
              "#d8576b"
             ],
             [
              0.6666666666666666,
              "#ed7953"
             ],
             [
              0.7777777777777778,
              "#fb9f3a"
             ],
             [
              0.8888888888888888,
              "#fdca26"
             ],
             [
              1,
              "#f0f921"
             ]
            ],
            "type": "heatmap"
           }
          ],
          "heatmapgl": [
           {
            "colorbar": {
             "outlinewidth": 0,
             "ticks": ""
            },
            "colorscale": [
             [
              0,
              "#0d0887"
             ],
             [
              0.1111111111111111,
              "#46039f"
             ],
             [
              0.2222222222222222,
              "#7201a8"
             ],
             [
              0.3333333333333333,
              "#9c179e"
             ],
             [
              0.4444444444444444,
              "#bd3786"
             ],
             [
              0.5555555555555556,
              "#d8576b"
             ],
             [
              0.6666666666666666,
              "#ed7953"
             ],
             [
              0.7777777777777778,
              "#fb9f3a"
             ],
             [
              0.8888888888888888,
              "#fdca26"
             ],
             [
              1,
              "#f0f921"
             ]
            ],
            "type": "heatmapgl"
           }
          ],
          "histogram": [
           {
            "marker": {
             "pattern": {
              "fillmode": "overlay",
              "size": 10,
              "solidity": 0.2
             }
            },
            "type": "histogram"
           }
          ],
          "histogram2d": [
           {
            "colorbar": {
             "outlinewidth": 0,
             "ticks": ""
            },
            "colorscale": [
             [
              0,
              "#0d0887"
             ],
             [
              0.1111111111111111,
              "#46039f"
             ],
             [
              0.2222222222222222,
              "#7201a8"
             ],
             [
              0.3333333333333333,
              "#9c179e"
             ],
             [
              0.4444444444444444,
              "#bd3786"
             ],
             [
              0.5555555555555556,
              "#d8576b"
             ],
             [
              0.6666666666666666,
              "#ed7953"
             ],
             [
              0.7777777777777778,
              "#fb9f3a"
             ],
             [
              0.8888888888888888,
              "#fdca26"
             ],
             [
              1,
              "#f0f921"
             ]
            ],
            "type": "histogram2d"
           }
          ],
          "histogram2dcontour": [
           {
            "colorbar": {
             "outlinewidth": 0,
             "ticks": ""
            },
            "colorscale": [
             [
              0,
              "#0d0887"
             ],
             [
              0.1111111111111111,
              "#46039f"
             ],
             [
              0.2222222222222222,
              "#7201a8"
             ],
             [
              0.3333333333333333,
              "#9c179e"
             ],
             [
              0.4444444444444444,
              "#bd3786"
             ],
             [
              0.5555555555555556,
              "#d8576b"
             ],
             [
              0.6666666666666666,
              "#ed7953"
             ],
             [
              0.7777777777777778,
              "#fb9f3a"
             ],
             [
              0.8888888888888888,
              "#fdca26"
             ],
             [
              1,
              "#f0f921"
             ]
            ],
            "type": "histogram2dcontour"
           }
          ],
          "mesh3d": [
           {
            "colorbar": {
             "outlinewidth": 0,
             "ticks": ""
            },
            "type": "mesh3d"
           }
          ],
          "parcoords": [
           {
            "line": {
             "colorbar": {
              "outlinewidth": 0,
              "ticks": ""
             }
            },
            "type": "parcoords"
           }
          ],
          "pie": [
           {
            "automargin": true,
            "type": "pie"
           }
          ],
          "scatter": [
           {
            "fillpattern": {
             "fillmode": "overlay",
             "size": 10,
             "solidity": 0.2
            },
            "type": "scatter"
           }
          ],
          "scatter3d": [
           {
            "line": {
             "colorbar": {
              "outlinewidth": 0,
              "ticks": ""
             }
            },
            "marker": {
             "colorbar": {
              "outlinewidth": 0,
              "ticks": ""
             }
            },
            "type": "scatter3d"
           }
          ],
          "scattercarpet": [
           {
            "marker": {
             "colorbar": {
              "outlinewidth": 0,
              "ticks": ""
             }
            },
            "type": "scattercarpet"
           }
          ],
          "scattergeo": [
           {
            "marker": {
             "colorbar": {
              "outlinewidth": 0,
              "ticks": ""
             }
            },
            "type": "scattergeo"
           }
          ],
          "scattergl": [
           {
            "marker": {
             "colorbar": {
              "outlinewidth": 0,
              "ticks": ""
             }
            },
            "type": "scattergl"
           }
          ],
          "scattermapbox": [
           {
            "marker": {
             "colorbar": {
              "outlinewidth": 0,
              "ticks": ""
             }
            },
            "type": "scattermapbox"
           }
          ],
          "scatterpolar": [
           {
            "marker": {
             "colorbar": {
              "outlinewidth": 0,
              "ticks": ""
             }
            },
            "type": "scatterpolar"
           }
          ],
          "scatterpolargl": [
           {
            "marker": {
             "colorbar": {
              "outlinewidth": 0,
              "ticks": ""
             }
            },
            "type": "scatterpolargl"
           }
          ],
          "scatterternary": [
           {
            "marker": {
             "colorbar": {
              "outlinewidth": 0,
              "ticks": ""
             }
            },
            "type": "scatterternary"
           }
          ],
          "surface": [
           {
            "colorbar": {
             "outlinewidth": 0,
             "ticks": ""
            },
            "colorscale": [
             [
              0,
              "#0d0887"
             ],
             [
              0.1111111111111111,
              "#46039f"
             ],
             [
              0.2222222222222222,
              "#7201a8"
             ],
             [
              0.3333333333333333,
              "#9c179e"
             ],
             [
              0.4444444444444444,
              "#bd3786"
             ],
             [
              0.5555555555555556,
              "#d8576b"
             ],
             [
              0.6666666666666666,
              "#ed7953"
             ],
             [
              0.7777777777777778,
              "#fb9f3a"
             ],
             [
              0.8888888888888888,
              "#fdca26"
             ],
             [
              1,
              "#f0f921"
             ]
            ],
            "type": "surface"
           }
          ],
          "table": [
           {
            "cells": {
             "fill": {
              "color": "#EBF0F8"
             },
             "line": {
              "color": "white"
             }
            },
            "header": {
             "fill": {
              "color": "#C8D4E3"
             },
             "line": {
              "color": "white"
             }
            },
            "type": "table"
           }
          ]
         },
         "layout": {
          "annotationdefaults": {
           "arrowcolor": "#2a3f5f",
           "arrowhead": 0,
           "arrowwidth": 1
          },
          "autotypenumbers": "strict",
          "coloraxis": {
           "colorbar": {
            "outlinewidth": 0,
            "ticks": ""
           }
          },
          "colorscale": {
           "diverging": [
            [
             0,
             "#8e0152"
            ],
            [
             0.1,
             "#c51b7d"
            ],
            [
             0.2,
             "#de77ae"
            ],
            [
             0.3,
             "#f1b6da"
            ],
            [
             0.4,
             "#fde0ef"
            ],
            [
             0.5,
             "#f7f7f7"
            ],
            [
             0.6,
             "#e6f5d0"
            ],
            [
             0.7,
             "#b8e186"
            ],
            [
             0.8,
             "#7fbc41"
            ],
            [
             0.9,
             "#4d9221"
            ],
            [
             1,
             "#276419"
            ]
           ],
           "sequential": [
            [
             0,
             "#0d0887"
            ],
            [
             0.1111111111111111,
             "#46039f"
            ],
            [
             0.2222222222222222,
             "#7201a8"
            ],
            [
             0.3333333333333333,
             "#9c179e"
            ],
            [
             0.4444444444444444,
             "#bd3786"
            ],
            [
             0.5555555555555556,
             "#d8576b"
            ],
            [
             0.6666666666666666,
             "#ed7953"
            ],
            [
             0.7777777777777778,
             "#fb9f3a"
            ],
            [
             0.8888888888888888,
             "#fdca26"
            ],
            [
             1,
             "#f0f921"
            ]
           ],
           "sequentialminus": [
            [
             0,
             "#0d0887"
            ],
            [
             0.1111111111111111,
             "#46039f"
            ],
            [
             0.2222222222222222,
             "#7201a8"
            ],
            [
             0.3333333333333333,
             "#9c179e"
            ],
            [
             0.4444444444444444,
             "#bd3786"
            ],
            [
             0.5555555555555556,
             "#d8576b"
            ],
            [
             0.6666666666666666,
             "#ed7953"
            ],
            [
             0.7777777777777778,
             "#fb9f3a"
            ],
            [
             0.8888888888888888,
             "#fdca26"
            ],
            [
             1,
             "#f0f921"
            ]
           ]
          },
          "colorway": [
           "#636efa",
           "#EF553B",
           "#00cc96",
           "#ab63fa",
           "#FFA15A",
           "#19d3f3",
           "#FF6692",
           "#B6E880",
           "#FF97FF",
           "#FECB52"
          ],
          "font": {
           "color": "#2a3f5f"
          },
          "geo": {
           "bgcolor": "white",
           "lakecolor": "white",
           "landcolor": "#E5ECF6",
           "showlakes": true,
           "showland": true,
           "subunitcolor": "white"
          },
          "hoverlabel": {
           "align": "left"
          },
          "hovermode": "closest",
          "mapbox": {
           "style": "light"
          },
          "paper_bgcolor": "white",
          "plot_bgcolor": "#E5ECF6",
          "polar": {
           "angularaxis": {
            "gridcolor": "white",
            "linecolor": "white",
            "ticks": ""
           },
           "bgcolor": "#E5ECF6",
           "radialaxis": {
            "gridcolor": "white",
            "linecolor": "white",
            "ticks": ""
           }
          },
          "scene": {
           "xaxis": {
            "backgroundcolor": "#E5ECF6",
            "gridcolor": "white",
            "gridwidth": 2,
            "linecolor": "white",
            "showbackground": true,
            "ticks": "",
            "zerolinecolor": "white"
           },
           "yaxis": {
            "backgroundcolor": "#E5ECF6",
            "gridcolor": "white",
            "gridwidth": 2,
            "linecolor": "white",
            "showbackground": true,
            "ticks": "",
            "zerolinecolor": "white"
           },
           "zaxis": {
            "backgroundcolor": "#E5ECF6",
            "gridcolor": "white",
            "gridwidth": 2,
            "linecolor": "white",
            "showbackground": true,
            "ticks": "",
            "zerolinecolor": "white"
           }
          },
          "shapedefaults": {
           "line": {
            "color": "#2a3f5f"
           }
          },
          "ternary": {
           "aaxis": {
            "gridcolor": "white",
            "linecolor": "white",
            "ticks": ""
           },
           "baxis": {
            "gridcolor": "white",
            "linecolor": "white",
            "ticks": ""
           },
           "bgcolor": "#E5ECF6",
           "caxis": {
            "gridcolor": "white",
            "linecolor": "white",
            "ticks": ""
           }
          },
          "title": {
           "x": 0.05
          },
          "xaxis": {
           "automargin": true,
           "gridcolor": "white",
           "linecolor": "white",
           "ticks": "",
           "title": {
            "standoff": 15
           },
           "zerolinecolor": "white",
           "zerolinewidth": 2
          },
          "yaxis": {
           "automargin": true,
           "gridcolor": "white",
           "linecolor": "white",
           "ticks": "",
           "title": {
            "standoff": 15
           },
           "zerolinecolor": "white",
           "zerolinewidth": 2
          }
         }
        },
        "title": {
         "text": "UN 2022-03 데이터를 Min-Max 정규화 후 로그 변환을 적용한 원 형태로 모이도록 버블 차트"
        },
        "xaxis": {
         "ticktext": [
          "X",
          "J",
          "O"
         ],
         "tickvals": [
          1,
          2,
          3
         ]
        },
        "yaxis": {
         "showticklabels": false
        }
       }
      },
      "text/html": [
       "<div>                            <div id=\"3c605798-c1ec-471f-9fdd-71d9ca724f87\" class=\"plotly-graph-div\" style=\"height:525px; width:100%;\"></div>            <script type=\"text/javascript\">                require([\"plotly\"], function(Plotly) {                    window.PLOTLYENV=window.PLOTLYENV || {};                                    if (document.getElementById(\"3c605798-c1ec-471f-9fdd-71d9ca724f87\")) {                    Plotly.newPlot(                        \"3c605798-c1ec-471f-9fdd-71d9ca724f87\",                        [{\"marker\":{\"opacity\":0.7,\"size\":[26.37612976487982,25.001553080040097,25.0,65.0,25.163315442658067],\"sizemode\":\"diameter\"},\"mode\":\"markers\",\"name\":\"X\",\"text\":[\"\\ubca8\\ub77c\\ub8e8\\uc2a4\",\"\\ubd81\\ud55c\",\"\\uc5d0\\ub9ac\\ud2b8\\ub808\\uc544\",\"\\ub7ec\\uc2dc\\uc544\",\"\\uc2dc\\ub9ac\\uc544\"],\"x\":[0.984011580637122,1.0222492909768495,0.9980214528252869,0.9160212257818624,0.9677321822262985],\"y\":[-0.4193369652669854,0.020103080436248533,-0.20723920513159855,0.07896350151613007,-0.35630437813908467],\"type\":\"scatter\"},{\"marker\":{\"opacity\":0.7,\"size\":[25.037251375302784,25.030044337759318,25.41974344340564,25.237759310578223,25.043343037988326,25.8626974086142,25.08953671671929,25.001012417178725,25.0,65.0,25.02124789104332,25.216118893382976,25.06403324160269,25.316639907501106,25.036322611238397,25.042455028005296,32.710843786978636,25.75418430464877,25.501702045946047,25.011977410012708,25.023437886677808,25.029259285455474,25.035453905820216,25.0221981046242,25.71356750020739,25.818301199365802,25.177977363145516,25.090795803337752,25.020773856728706,25.01292547864194,25.097155584979525,25.18499993484709,25.921694303743063,25.056146254386224],\"sizemode\":\"diameter\"},\"mode\":\"markers\",\"name\":\"J\",\"text\":[\"\\ub9d0\\ub9ac\",\"\\ub2c8\\uce74\\ub9ac\\uacfc\",\"\\uc54c\\uc81c\\ub9ac\",\"\\uc559\\uace8\\ub77c\",\"\\uc544\\ub974\\uba54\\ub2c8\\uc544\",\"\\ubc29\\uae00\\ub77c\\ub370\\uc2dc\",\"\\ubcfc\\ub9ac\\ube44\\uc544\",\"\\ubd80\\ub8ec\\ub514\",\"\\uc911\\uc559\\uc544\\ud504\\ub9ac\\uce74 \\uacf5\\ud654\\uad6d\",\"\\uc911\\uad6d\",\"\\ucf69\\uace0\\uacf5\\ud654\\uad6d\",\"\\ucfe0\\ubc14\",\"\\uc5d8\\uc0b4\\ubc14\\ub3c4\\ub974\",\"\\uc5d0\\ud2f0\\uc624\\ud53c\\uc544\",\"\\uac00\\ubd09\",\"\\uae30\\ub2c8\",\"\\uc778\\ub3c4\",\"\\uc774\\ub780\",\"\\uce74\\uc790\\ud750\\uc2a4\\ud0c4\",\"\\ud0a4\\ub974\\uae30\\uc2a4\\uc2a4\\ud0c4\",\"\\ub77c\\uc624\\uc2a4\",\"\\ubabd\\uace8\",\"\\ubaa8\\uc7a0\\ube44\\ud06c\",\"\\ub098\\ubbf8\\ube44\\uc544\",\"\\ud30c\\ud0a4\\uc2a4\\ud0c4\",\"\\ub0a8\\uc544\\ud504\\ub9ac\\uce74\",\"\\uc2a4\\ub9ac\\ub791\\uce74\",\"\\uc218\\ub2e8\",\"\\ud0c0\\uc9c0\\ud0a4\\uc2a4\\ud0c4\",\"\\ud1a0\\uace0\",\"\\uc6b0\\uac04\\ub2e4\",\"\\uc6b0\\uc988\\ubca0\\ud0a4\\uc2a4\\ud0c4\",\"\\ubca0\\ud2b8\\ub0a8\",\"\\uc9d0\\ubc14\\ube0c\\uc6e8\"],\"x\":[2.0805577353781035,1.9855045602179402,1.9499077549427764,2.0784297155448384,2.0748567853053075,1.9565212037404158,2.009181770321027,1.9136535691498038,2.0225521573131995,1.9945654834669226,2.048256993049333,2.0102523808089363,2.0203254307040495,2.0382636721401965,1.9613155811566554,1.9864570257118788,2.0726599130836036,1.9367025114749499,2.05733924989831,1.9237174531551526,2.0199587535346804,2.045093179320646,2.088740611631098,1.9246597325297239,1.9833380880520668,1.9890978463033524,1.9788594547133853,2.0652473062198045,2.0027302889205676,2.0461133976498886,1.9919838890599708,2.066757698885674,2.0165975079628002,1.9672364945220275],\"y\":[0.1760763059637731,0.41709070119342084,-0.2195458849648857,0.5747329783854003,-0.43992092365400626,0.32238128992448756,-0.4885913601513143,-0.1976315718673336,-0.6227749119347072,0.3393676615273715,0.5156215252715564,0.7041067448128913,0.8139895318528398,-0.37754630830695435,0.7800610934990297,-0.9967194257290712,0.8476221339655936,0.8948392947063879,-0.4124999627341879,-0.9892574098037292,-0.2783352922197113,-0.74053282395225,-0.46568973601438945,0.10019678117632447,-0.8466652147012008,0.8027069248339542,0.15808363492105437,-0.16995346101315167,-0.9663782914266601,0.28923024812654896,-0.43501467508894764,-0.9270220098921329,0.5596613006153524,0.5003666036570382],\"type\":\"scatter\"},{\"marker\":{\"opacity\":0.7,\"size\":[25.0219409519025,25.029953940401406,25.005362621768146,25.954818983278788,27.54330305473719,25.767289678198598,25.00266738601508,25.020913606012694,25.066731066607055,25.009012484650732,25.929720180531284,25.00460294280445,25.028553717464252,25.003888132863057,25.042333148931966,25.029045729501835,28.09991720118179,25.022999241945605,25.149800646160337,25.00357559691465,25.04552039672261,28.1124727913862,25.0177108861454,25.533973856677356,25.49841902452734,25.00190770705139,25.115749699861052,25.104221455546444,25.117388192778673,25.045862329616657,25.49214819185963,25.103372038538158,25.60408557203323,25.005735498815497,25.18055913454773,25.18055913454773,25.57649885935983,25.061784643700896,25.007924797661985,25.44923638726082,29.35445351735615,25.00329245791189,25.02764550656469,31.417956644610967,25.099126500704404,25.356335850201827,25.15228700887857,25.024190591847933,25.039487834035366,25.05104547529562,25.280683584196296,25.04254047475912,27.07296120771317,25.398919646775585,25.884812478044157,25.803067308252427,28.23175321913961,25.025590814785087,31.568232283524566,25.077439290859026,25.175850981622034,25.000269214133773,25.245232414959855,25.070498517272217,25.003739600927176,25.00642091181125,25.068860024354596,25.00899701257408,25.116599116869338,25.129439393284176,25.023683107733696,25.016697465124587,25.665751080743892,25.010322969543296,25.028807459521374,25.000328008025058,25.01623639724031,25.021599019008452,27.477184682365618,25.000581750082173,25.01270566934795,25.01036783856559,25.20660947000943,25.09521051810337,25.000119134990236,25.062604663763537,26.609874217432033,25.375207142096244,25.02465165973221,25.75448034593707,25.022655761843893,25.825246530135388,25.15614574479599,25.00028313900276,25.114976096028375,25.048842251580144,25.063676878675633,25.39944105575881,25.65661946110293,26.11537272271339,25.398667451926134,25.32694664059828,27.564693200710817,25.023475781906534,25.51958482538949,25.019483986129902,25.00147448890509,25.003263060966248,25.001445091959447,25.00123621892462,25.002591572839485,25.000835492139295,26.58160363897054,25.110060617275515,25.002800445874307,25.00513982386433,25.767811087181826,25.18985321099356,25.1013467437042,25.00242911603462,25.012914542382774,25.01033844161995,27.22288098886374,25.005065557896394,25.892184922569605,26.29517063108976,25.855215942613448,25.00286078697325,25.00070088507241,25.041930874938974,25.074103511132506,25.0,26.533046073600826,25.221400775290288,25.743130030503973,29.705157531656063,65.0,25.11505036199631,25.00147448890509,25.028986935610554,25.04349355468099],\"sizemode\":\"diameter\"},\"mode\":\"markers\",\"name\":\"O\",\"text\":[\"\\uc544\\ud504\\uac00\\ub2c8\\uc2a4\\ud0c4\",\"\\uc54c\\ubc14\\ub2c8\\uc544\",\"\\uc548\\ub3c4\\ub77c\",\"\\uc544\\ub974\\ud5e8\\ud2f0\\ub098\",\"\\ud638\\uc8fc\",\"\\uc624\\uc2a4\\ud2b8\\ub9ac\\uc544\",\"\\uc564\\ud2f0\\uac00 \\ubc14\\ubd80\\ub2e4\",\"\\ubc14\\ud558\\ub9c8\",\"\\ubc14\\ub808\\uc778\",\"\\ubc14\\ubca0\\uc774\\ub3c4\\uc2a4\",\"\\ubca8\\uae30\\uc5d0\",\"\\ubca8\\ub9ac\\uc988\",\"\\ubca0\\ub0c9\",\"\\ubd80\\ud0c4\",\"\\ubcf4\\uc2a4\\ub2c8\\uc544\",\"\\ubcf4\\uce20\\uc640\\ub098\",\"\\ube0c\\ub77c\\uc9c8\",\"\\ube0c\\ub8e8\\ub098\\uc774\",\"\\ubd88\\uac00\\ub9ac\\uc544\",\"\\uce74\\ubcf4\\ubca0\\ub974\\ub370\",\"\\uce84\\ubcf4\\ub514\\uc544\",\"\\uce90\\ub098\\ub2e4\",\"\\ucc28\\ub4dc\",\"\\uce60\\ub808\",\"\\ucf5c\\ub86c\\ube44\\uc544\",\"\\ucf54\\ubaa8\\ub85c\",\"\\ucf54\\uc2a4\\ud0c0\\ub9ac\\uce74\",\"\\ucf54\\ud2b8\\ub514\\ubd80\\uc544\\ub974\",\"\\ud06c\\ub85c\\uc544\\ud2f0\\uc544\",\"\\ud0a4\\ud504\\ub85c\\uc2a4\",\"\\uccb4\\ucf54\",\"\\ucf69\\uace0\\ubbfc\\uc8fc\\uacf5\\ud654\\uad6d\",\"\\ub374\\ub9c8\\ud06c\",\"\\uc9c0\\ubd80\\ud2f0\",\"\\ub3c4\\ubbf8\\ub2c8\\uce74\",\"\\uc5d0\\ucf70\\ub3c4\\ub974\",\"\\uc774\\uc9d1\\ud2b8\",\"\\uc5d0\\uc2a4\\ud1a0\\ub2c8\\uc544\",\"\\ud53c\\uc9c0\",\"\\ud540\\ub780\\ub4dc\",\"\\ud504\\ub791\\uc2a4\",\"\\uac10\\ube44\\uc544\",\"\\uc870\\uc9c0\\uc544\",\"\\ub3c5\\uc77c\",\"\\uac00\\ub098\",\"\\uadf8\\ub9ac\\uc2a4\",\"\\uacfc\\ud14c\\ub9d0\\ub77c\",\"\\uac00\\uc774\\uc544\\ub098\",\"\\uc544\\uc774\\ud2f0\",\"\\uc628\\ub450\\ub77c\\uc2a4\",\"\\ud5dd\\uac00\\ub9ac\",\"\\uc544\\uc774\\uc2ac\\ub780\\ub4dc\",\"\\uc778\\ub3c4\\ub124\\uc2dc\\uc544\",\"\\uc774\\ub77c\\ud06c\",\"\\uc544\\uc77c\\ub79c\\ub4dc\",\"\\uc774\\uc2a4\\ub77c\\uc5d8\",\"\\uc774\\ud0c8\\ub9ac\\uc544\",\"\\uc790\\uba54\\uc774\\uce74\",\"\\uc77c\\ubcf8\",\"\\uc694\\ub974\\ub2e8\",\"\\ucf00\\ub0d0\",\"\\ud0a4\\ub9ac\\ubc14\\uc2dc\",\"\\ucfe0\\uc6e8\\uc774\\ud2b8\",\"\\ub77c\\ud2b8\\ube44\\uc544\",\"\\ub808\\uc18c\\ud1a0\",\"\\ub77c\\uc774\\ubca0\\ub9ac\\uc544\",\"\\ub9ac\\ube44\\uc544\",\"\\ub9ac\\ud788\\ud150\\uc288\\ud0c0\\uc778\",\"\\ub9ac\\ud22c\\uc544\\ub2c8\\uc544\",\"\\ub8e9\\uc148\\ubd80\\ub974\\ud06c\",\"\\ub9c8\\ub2e4\\uac00\\uc2a4\\uce74\\ub974\",\"\\ub9d0\\ub77c\\uc704\",\"\\ub9d0\\ub808\\uc774\\uc2dc\\uc544\",\"\\ubab0\\ub514\\ube0c\",\"\\ubab0\\ud0c0\",\"\\ub9c8\\uc15c\\uc81c\\ub3c4\",\"\\ubaa8\\ub9ac\\ud0c0\\ub2c8\",\"\\ubaa8\\ub9ac\\uc154\\uc2a4\",\"\\uba55\\uc2dc\\ucf54\",\"\\ubbf8\\ud06c\\ub85c\\ub124\\uc2dc\\uc544\",\"\\ubaa8\\ub098\\ucf54\",\"\\ubaac\\ud14c\\ub124\\uadf8\\ub85c\",\"\\ubaa8\\ub85c\\ucf54\",\"\\ubbf8\\uc580\\ub9c8\",\"\\ub098\\uc6b0\\ub8e8\",\"\\ub124\\ud314\",\"\\ub124\\ub35c\\ub780\\ub4dc\",\"\\ub274\\uc9c8\\ub79c\\ub4dc\",\"\\ub2c8\\uc81c\\ub974\",\"\\ub098\\uc774\\uc9c0\\ub9ac\\uc544\",\"\\ubd81\\ub9c8\\ucf00\\ub3c4\\ub2c8\\uc544\",\"\\ub178\\ub974\\uc6e8\\uc774\",\"\\uc624\\ub9cc\",\"\\ud314\\ub77c\\uc6b0\",\"\\ud30c\\ub098\\ub9c8\",\"\\ud30c\\ud478\\uc544\\ub274\\uae30\\ub2c8\",\"\\ud30c\\ub77c\\uacfc\\uc774\",\"\\ud398\\ub8e8\",\"\\ud544\\ub9ac\\ud540\",\"\\ud3f4\\ub780\\ub4dc\",\"\\ud3ec\\ub974\\ud22c\\uac08\",\"\\uce74\\ud0c0\\ub974\",\"\\ub300\\ud55c\\ubbfc\\uad6d\",\"\\ubab0\\ub3c4\\ubc14\",\"\\ub8e8\\ub9c8\\ub2c8\\uc544\",\"\\ub974\\uc644\\ub2e4\",\"\\uc138\\uc778\\ud2b8 \\ud0a4\\uce20 \\ub124\\ube44\\uc2a4\",\"\\uc138\\uc778\\ud2b8 \\ub8e8\\uc2dc\\uc544\",\"\\uc138\\uc778\\ud2b8 \\ube48\\uc13c\\ud2b8 \\uadf8\\ub808\\ub098\\ub518\",\"\\uc0ac\\ubaa8\\uc544\",\"\\uc0b0\\ub9c8\\ub9ac\\ub178\",\"\\uc0c1\\ud22c\\uba54\",\"\\uc0ac\\uc6b0\\ub514\\uc544\\ub77c\\ube44\\uc544\",\"\\uc138\\ub974\\ube44\\uc544\",\"\\uc138\\uc774\\uc178\",\"\\uc2dc\\uc5d0\\ub77c\\ub9ac\\uc628\",\"\\uc2f1\\uac00\\ud3ec\\ub974\",\"\\uc2ac\\ub85c\\ubc14\\ud0a4\\uc544\",\"\\uc2ac\\ub85c\\ubca0\\ub2c8\\uc544\",\"\\uc194\\ub85c\\ubaac \\uc81c\\ub3c4\",\"\\uc18c\\ub9d0\\ub9ac\\uc544\",\"\\ub0a8\\uc218\\ub2e8\",\"\\uc2a4\\ud398\\uc778\",\"\\uc218\\ub9ac\\ub0a8\",\"\\uc2a4\\uc6e8\\ub374\",\"\\uc2a4\\uc704\\uc2a4\",\"\\ud0dc\\uad6d\",\"\\ub3d9\\ud2f0\\ubaa8\\ub974\",\"\\ud1b5\\uac00\",\"\\ud2b8\\ub9ac\\ub2c8\\ub2e4\\ub4dc \\ud1a0\\ubc14\\uace0\",\"\\ud280\\ub2c8\\uc9c0\",\"\\ud22c\\ubc1c\\ub8e8\",\"\\ud280\\ub974\\ud0a4\\uc5d0\",\"\\uc6b0\\ud06c\\ub77c\\uc774\\ub098\",\"\\uc544\\ub78d\\uc5d0\\ubbf8\\ub9ac\\ud2b8\",\"\\uc601\\uad6d\",\"\\ubbf8\\uad6d\",\"\\uc6b0\\ub8e8\\uacfc\\uc774\",\"\\ubc14\\ub204\\uc544\\ud22c\",\"\\uc608\\uba58\",\"\\uc7a0\\ube44\\uc544\"],\"x\":[3.000100123269346,3.0034163786984447,2.9435855455162545,3.017727530643347,3.042710287854496,3.0593312224196607,2.913501994423057,3.082393508765879,2.926650656203935,3.013706301390645,2.9886403848177867,3.0715962298647574,2.9520469430073515,3.0846327822273945,2.948244782945527,3.0223461213116596,2.9388681695322605,2.9382807288123596,2.915385168817518,3.0182860747219378,2.932657462063442,2.94399915207354,2.93220562355105,3.042191806362706,3.02075525362953,3.0032597003618147,2.972796888277594,2.939162460481692,2.956798333913838,2.9334587355352393,3.0340083440586083,2.954467409252696,2.910561185984828,2.993710003836703,2.9725373301740547,2.9852181776387625,2.9950221132657164,2.9801924622158893,3.0278424281933893,2.9365487584413605,3.048535859495801,2.9567078584772433,3.02358380862352,2.9256830870893724,3.021957412415955,2.952375308769601,3.0522781197599422,3.0003288492608435,2.9903066226494506,3.0691786392673914,2.932045935593157,3.0115631367385762,3.0709841238270035,3.0337322906273756,2.9521616189421627,2.9611060189444176,3.0067876722725235,2.959247567539809,3.0611083041866625,2.9682907846934024,3.0795248392956838,3.034220951284154,3.0508455263461647,3.004487854643039,2.957340022251156,2.926418581157731,2.984492007606314,3.060799219785884,3.086959993754652,3.013040415101017,3.072633783435377,2.998067925087259,3.003551771163449,2.9256593076135586,2.914127091733679,3.0849662641364883,3.051067599808358,3.023521522953586,3.0691954307887714,2.977272260074272,2.915458825279496,2.924808896293139,2.9212834044305436,2.981279598054226,2.948068023425447,2.9493018392134576,2.9674309799339795,2.9846897193758783,2.913956818713819,3.080715745558407,2.9977417966659354,3.0718540243647077,3.0243098984962593,2.9302278954411176,2.916540094022575,3.011342193784445,3.014077661138365,3.0646596592640183,3.0563207406443884,3.059647762600764,2.9465145525500605,2.993157643045955,3.0616993081309087,3.0316166066131585,3.0055478418070596,3.066984160245362,3.030881564785691,3.0608205998805897,3.0406005353563885,2.914932942874753,3.030344520945873,3.010348689053424,3.041115005238506,2.9388023374400336,3.067657810241824,2.945338407501465,2.9687978430811897,3.005187988277902,2.972187633315237,2.9630303590538554,3.089295632666677,2.9318339986803132,3.002695794525722,2.935178941967704,3.051377591106584,3.04602327585216,2.9715536113828005,3.0475270207276663,3.0634929790404035,3.0781001997722974,2.971376584532463,3.0890701048377687,2.9768648313581836,2.9246972357185665,2.9782939518453695,2.9148280047135064,2.9395073365374826,2.9245748987646554,2.9166140353926884,2.993087614607608,3.077877137638469],\"y\":[0.6664838875684587,-0.26707046056808603,-0.050269726702797835,-0.8753786710278817,-0.7402357770222066,0.2598222029592703,0.6787736365959289,-0.06075133579635672,-0.0053611527846784135,-0.85123107627498,0.203361498768186,0.6417371231733306,-0.5680716585495473,-0.3455211659156612,-0.9660192819425566,0.8038204565838285,-0.5765538844456153,-0.6006898598879635,0.21891629870257567,-0.5981522606824006,-0.5675113882249425,-0.03418334288612357,0.9150220759505785,-0.3324331131584801,0.31335362485004015,-0.39847910410745935,-0.07419746183882237,-0.9528169866031078,0.42788205484524644,-0.6211190066298147,-0.6346840111997636,-0.9287757315972802,0.13520472396733552,0.6383258173773514,0.25427300068719494,0.5021352670211416,-0.9334220937779472,-0.42416860770295783,-0.3374323124738339,-0.9658116962519203,-0.6057779860085148,0.004534439348113928,-0.05892604804450263,0.024308625835131492,0.04016714620812589,-0.09455131920159787,-0.9271464062171346,-0.6357943250475167,-0.5027842873027564,-0.138508873363973,0.00023378350993463748,0.17538007672111755,0.18751504188452928,-0.30976818088862146,-0.9616656956974603,-0.7625864167439318,-0.4364345361926103,-0.49022496545849537,-0.08219489216914067,0.11701625461430587,0.13578889706597908,-0.6841154697154046,-0.7690850362411361,0.8141477160484416,0.7323953556132832,0.9274794998387383,0.7211826324252075,-0.016990901455524288,-0.18131039555256123,0.510353214963386,0.8607440294014959,0.05827052166635638,0.819982391021614,0.8272887978375312,0.46962517370221657,-0.43919774353265306,-0.8212042796400687,0.9349755235150279,-0.6383501006362333,0.00878736709309802,0.8915715800571922,0.4293309222379804,0.9027762705705114,0.9391775983750532,-0.8411311384756741,-0.33478823881769393,0.3558971688238479,0.749617658436708,-0.5486809030077127,0.0007423206684025185,-0.1586311364396047,0.25026528822614313,0.3726678894212925,0.7288699651161168,0.8310516680117113,-0.0860118847055702,-0.5073711537245245,0.05179291594016089,-0.0650304550845231,-0.49014159102690225,0.04970254603551094,0.7933391568022568,0.7274318385286993,0.2860038462486727,0.884069944801454,-0.5785483311757493,0.7984333144111389,0.9691424230844279,-0.6427937776239643,-0.6450448055450084,-0.49502521849676673,-0.29492886851373323,-0.6538475776055366,-0.5460836321543159,-0.9113086659637544,0.04401612794123322,-0.5558168026813346,-0.23456652816924262,-0.5910601508033095,-0.5343962440479764,-0.5233598483999584,-0.015499176872333154,0.4405205577007476,0.7392795472632745,0.09386215708257573,-0.1748184085195137,0.6520905161889683,0.15326688756799367,0.42716555580746074,-0.0601196009593723,0.4226343479641741,0.7549830252354688,0.3384117624234404,-0.93381542267793,0.8108869564238708,0.8343299215520037,-0.6346510094539544,0.42814607783553926,-0.7216304437319172,0.8818491799210293,0.5243748323670303],\"type\":\"scatter\"}],                        {\"template\":{\"data\":{\"histogram2dcontour\":[{\"type\":\"histogram2dcontour\",\"colorbar\":{\"outlinewidth\":0,\"ticks\":\"\"},\"colorscale\":[[0.0,\"#0d0887\"],[0.1111111111111111,\"#46039f\"],[0.2222222222222222,\"#7201a8\"],[0.3333333333333333,\"#9c179e\"],[0.4444444444444444,\"#bd3786\"],[0.5555555555555556,\"#d8576b\"],[0.6666666666666666,\"#ed7953\"],[0.7777777777777778,\"#fb9f3a\"],[0.8888888888888888,\"#fdca26\"],[1.0,\"#f0f921\"]]}],\"choropleth\":[{\"type\":\"choropleth\",\"colorbar\":{\"outlinewidth\":0,\"ticks\":\"\"}}],\"histogram2d\":[{\"type\":\"histogram2d\",\"colorbar\":{\"outlinewidth\":0,\"ticks\":\"\"},\"colorscale\":[[0.0,\"#0d0887\"],[0.1111111111111111,\"#46039f\"],[0.2222222222222222,\"#7201a8\"],[0.3333333333333333,\"#9c179e\"],[0.4444444444444444,\"#bd3786\"],[0.5555555555555556,\"#d8576b\"],[0.6666666666666666,\"#ed7953\"],[0.7777777777777778,\"#fb9f3a\"],[0.8888888888888888,\"#fdca26\"],[1.0,\"#f0f921\"]]}],\"heatmap\":[{\"type\":\"heatmap\",\"colorbar\":{\"outlinewidth\":0,\"ticks\":\"\"},\"colorscale\":[[0.0,\"#0d0887\"],[0.1111111111111111,\"#46039f\"],[0.2222222222222222,\"#7201a8\"],[0.3333333333333333,\"#9c179e\"],[0.4444444444444444,\"#bd3786\"],[0.5555555555555556,\"#d8576b\"],[0.6666666666666666,\"#ed7953\"],[0.7777777777777778,\"#fb9f3a\"],[0.8888888888888888,\"#fdca26\"],[1.0,\"#f0f921\"]]}],\"heatmapgl\":[{\"type\":\"heatmapgl\",\"colorbar\":{\"outlinewidth\":0,\"ticks\":\"\"},\"colorscale\":[[0.0,\"#0d0887\"],[0.1111111111111111,\"#46039f\"],[0.2222222222222222,\"#7201a8\"],[0.3333333333333333,\"#9c179e\"],[0.4444444444444444,\"#bd3786\"],[0.5555555555555556,\"#d8576b\"],[0.6666666666666666,\"#ed7953\"],[0.7777777777777778,\"#fb9f3a\"],[0.8888888888888888,\"#fdca26\"],[1.0,\"#f0f921\"]]}],\"contourcarpet\":[{\"type\":\"contourcarpet\",\"colorbar\":{\"outlinewidth\":0,\"ticks\":\"\"}}],\"contour\":[{\"type\":\"contour\",\"colorbar\":{\"outlinewidth\":0,\"ticks\":\"\"},\"colorscale\":[[0.0,\"#0d0887\"],[0.1111111111111111,\"#46039f\"],[0.2222222222222222,\"#7201a8\"],[0.3333333333333333,\"#9c179e\"],[0.4444444444444444,\"#bd3786\"],[0.5555555555555556,\"#d8576b\"],[0.6666666666666666,\"#ed7953\"],[0.7777777777777778,\"#fb9f3a\"],[0.8888888888888888,\"#fdca26\"],[1.0,\"#f0f921\"]]}],\"surface\":[{\"type\":\"surface\",\"colorbar\":{\"outlinewidth\":0,\"ticks\":\"\"},\"colorscale\":[[0.0,\"#0d0887\"],[0.1111111111111111,\"#46039f\"],[0.2222222222222222,\"#7201a8\"],[0.3333333333333333,\"#9c179e\"],[0.4444444444444444,\"#bd3786\"],[0.5555555555555556,\"#d8576b\"],[0.6666666666666666,\"#ed7953\"],[0.7777777777777778,\"#fb9f3a\"],[0.8888888888888888,\"#fdca26\"],[1.0,\"#f0f921\"]]}],\"mesh3d\":[{\"type\":\"mesh3d\",\"colorbar\":{\"outlinewidth\":0,\"ticks\":\"\"}}],\"scatter\":[{\"fillpattern\":{\"fillmode\":\"overlay\",\"size\":10,\"solidity\":0.2},\"type\":\"scatter\"}],\"parcoords\":[{\"type\":\"parcoords\",\"line\":{\"colorbar\":{\"outlinewidth\":0,\"ticks\":\"\"}}}],\"scatterpolargl\":[{\"type\":\"scatterpolargl\",\"marker\":{\"colorbar\":{\"outlinewidth\":0,\"ticks\":\"\"}}}],\"bar\":[{\"error_x\":{\"color\":\"#2a3f5f\"},\"error_y\":{\"color\":\"#2a3f5f\"},\"marker\":{\"line\":{\"color\":\"#E5ECF6\",\"width\":0.5},\"pattern\":{\"fillmode\":\"overlay\",\"size\":10,\"solidity\":0.2}},\"type\":\"bar\"}],\"scattergeo\":[{\"type\":\"scattergeo\",\"marker\":{\"colorbar\":{\"outlinewidth\":0,\"ticks\":\"\"}}}],\"scatterpolar\":[{\"type\":\"scatterpolar\",\"marker\":{\"colorbar\":{\"outlinewidth\":0,\"ticks\":\"\"}}}],\"histogram\":[{\"marker\":{\"pattern\":{\"fillmode\":\"overlay\",\"size\":10,\"solidity\":0.2}},\"type\":\"histogram\"}],\"scattergl\":[{\"type\":\"scattergl\",\"marker\":{\"colorbar\":{\"outlinewidth\":0,\"ticks\":\"\"}}}],\"scatter3d\":[{\"type\":\"scatter3d\",\"line\":{\"colorbar\":{\"outlinewidth\":0,\"ticks\":\"\"}},\"marker\":{\"colorbar\":{\"outlinewidth\":0,\"ticks\":\"\"}}}],\"scattermapbox\":[{\"type\":\"scattermapbox\",\"marker\":{\"colorbar\":{\"outlinewidth\":0,\"ticks\":\"\"}}}],\"scatterternary\":[{\"type\":\"scatterternary\",\"marker\":{\"colorbar\":{\"outlinewidth\":0,\"ticks\":\"\"}}}],\"scattercarpet\":[{\"type\":\"scattercarpet\",\"marker\":{\"colorbar\":{\"outlinewidth\":0,\"ticks\":\"\"}}}],\"carpet\":[{\"aaxis\":{\"endlinecolor\":\"#2a3f5f\",\"gridcolor\":\"white\",\"linecolor\":\"white\",\"minorgridcolor\":\"white\",\"startlinecolor\":\"#2a3f5f\"},\"baxis\":{\"endlinecolor\":\"#2a3f5f\",\"gridcolor\":\"white\",\"linecolor\":\"white\",\"minorgridcolor\":\"white\",\"startlinecolor\":\"#2a3f5f\"},\"type\":\"carpet\"}],\"table\":[{\"cells\":{\"fill\":{\"color\":\"#EBF0F8\"},\"line\":{\"color\":\"white\"}},\"header\":{\"fill\":{\"color\":\"#C8D4E3\"},\"line\":{\"color\":\"white\"}},\"type\":\"table\"}],\"barpolar\":[{\"marker\":{\"line\":{\"color\":\"#E5ECF6\",\"width\":0.5},\"pattern\":{\"fillmode\":\"overlay\",\"size\":10,\"solidity\":0.2}},\"type\":\"barpolar\"}],\"pie\":[{\"automargin\":true,\"type\":\"pie\"}]},\"layout\":{\"autotypenumbers\":\"strict\",\"colorway\":[\"#636efa\",\"#EF553B\",\"#00cc96\",\"#ab63fa\",\"#FFA15A\",\"#19d3f3\",\"#FF6692\",\"#B6E880\",\"#FF97FF\",\"#FECB52\"],\"font\":{\"color\":\"#2a3f5f\"},\"hovermode\":\"closest\",\"hoverlabel\":{\"align\":\"left\"},\"paper_bgcolor\":\"white\",\"plot_bgcolor\":\"#E5ECF6\",\"polar\":{\"bgcolor\":\"#E5ECF6\",\"angularaxis\":{\"gridcolor\":\"white\",\"linecolor\":\"white\",\"ticks\":\"\"},\"radialaxis\":{\"gridcolor\":\"white\",\"linecolor\":\"white\",\"ticks\":\"\"}},\"ternary\":{\"bgcolor\":\"#E5ECF6\",\"aaxis\":{\"gridcolor\":\"white\",\"linecolor\":\"white\",\"ticks\":\"\"},\"baxis\":{\"gridcolor\":\"white\",\"linecolor\":\"white\",\"ticks\":\"\"},\"caxis\":{\"gridcolor\":\"white\",\"linecolor\":\"white\",\"ticks\":\"\"}},\"coloraxis\":{\"colorbar\":{\"outlinewidth\":0,\"ticks\":\"\"}},\"colorscale\":{\"sequential\":[[0.0,\"#0d0887\"],[0.1111111111111111,\"#46039f\"],[0.2222222222222222,\"#7201a8\"],[0.3333333333333333,\"#9c179e\"],[0.4444444444444444,\"#bd3786\"],[0.5555555555555556,\"#d8576b\"],[0.6666666666666666,\"#ed7953\"],[0.7777777777777778,\"#fb9f3a\"],[0.8888888888888888,\"#fdca26\"],[1.0,\"#f0f921\"]],\"sequentialminus\":[[0.0,\"#0d0887\"],[0.1111111111111111,\"#46039f\"],[0.2222222222222222,\"#7201a8\"],[0.3333333333333333,\"#9c179e\"],[0.4444444444444444,\"#bd3786\"],[0.5555555555555556,\"#d8576b\"],[0.6666666666666666,\"#ed7953\"],[0.7777777777777778,\"#fb9f3a\"],[0.8888888888888888,\"#fdca26\"],[1.0,\"#f0f921\"]],\"diverging\":[[0,\"#8e0152\"],[0.1,\"#c51b7d\"],[0.2,\"#de77ae\"],[0.3,\"#f1b6da\"],[0.4,\"#fde0ef\"],[0.5,\"#f7f7f7\"],[0.6,\"#e6f5d0\"],[0.7,\"#b8e186\"],[0.8,\"#7fbc41\"],[0.9,\"#4d9221\"],[1,\"#276419\"]]},\"xaxis\":{\"gridcolor\":\"white\",\"linecolor\":\"white\",\"ticks\":\"\",\"title\":{\"standoff\":15},\"zerolinecolor\":\"white\",\"automargin\":true,\"zerolinewidth\":2},\"yaxis\":{\"gridcolor\":\"white\",\"linecolor\":\"white\",\"ticks\":\"\",\"title\":{\"standoff\":15},\"zerolinecolor\":\"white\",\"automargin\":true,\"zerolinewidth\":2},\"scene\":{\"xaxis\":{\"backgroundcolor\":\"#E5ECF6\",\"gridcolor\":\"white\",\"linecolor\":\"white\",\"showbackground\":true,\"ticks\":\"\",\"zerolinecolor\":\"white\",\"gridwidth\":2},\"yaxis\":{\"backgroundcolor\":\"#E5ECF6\",\"gridcolor\":\"white\",\"linecolor\":\"white\",\"showbackground\":true,\"ticks\":\"\",\"zerolinecolor\":\"white\",\"gridwidth\":2},\"zaxis\":{\"backgroundcolor\":\"#E5ECF6\",\"gridcolor\":\"white\",\"linecolor\":\"white\",\"showbackground\":true,\"ticks\":\"\",\"zerolinecolor\":\"white\",\"gridwidth\":2}},\"shapedefaults\":{\"line\":{\"color\":\"#2a3f5f\"}},\"annotationdefaults\":{\"arrowcolor\":\"#2a3f5f\",\"arrowhead\":0,\"arrowwidth\":1},\"geo\":{\"bgcolor\":\"white\",\"landcolor\":\"#E5ECF6\",\"subunitcolor\":\"white\",\"showland\":true,\"showlakes\":true,\"lakecolor\":\"white\"},\"title\":{\"x\":0.05},\"mapbox\":{\"style\":\"light\"}}},\"xaxis\":{\"tickvals\":[1,2,3],\"ticktext\":[\"X\",\"J\",\"O\"]},\"yaxis\":{\"showticklabels\":false},\"title\":{\"text\":\"UN 2022-03 \\ub370\\uc774\\ud130\\ub97c Min-Max \\uc815\\uaddc\\ud654 \\ud6c4 \\ub85c\\uadf8 \\ubcc0\\ud658\\uc744 \\uc801\\uc6a9\\ud55c \\uc6d0 \\ud615\\ud0dc\\ub85c \\ubaa8\\uc774\\ub3c4\\ub85d \\ubc84\\ube14 \\ucc28\\ud2b8\"}},                        {\"responsive\": true}                    ).then(function(){\n",
       "                            \n",
       "var gd = document.getElementById('3c605798-c1ec-471f-9fdd-71d9ca724f87');\n",
       "var x = new MutationObserver(function (mutations, observer) {{\n",
       "        var display = window.getComputedStyle(gd).display;\n",
       "        if (!display || display === 'none') {{\n",
       "            console.log([gd, 'removed!']);\n",
       "            Plotly.purge(gd);\n",
       "            observer.disconnect();\n",
       "        }}\n",
       "}});\n",
       "\n",
       "// Listen for the removal of the full notebook cells\n",
       "var notebookContainer = gd.closest('#notebook-container');\n",
       "if (notebookContainer) {{\n",
       "    x.observe(notebookContainer, {childList: true});\n",
       "}}\n",
       "\n",
       "// Listen for the clearing of the current output cell\n",
       "var outputEl = gd.closest('.output');\n",
       "if (outputEl) {{\n",
       "    x.observe(outputEl, {childList: true});\n",
       "}}\n",
       "\n",
       "                        })                };                });            </script>        </div>"
      ]
     },
     "metadata": {},
     "output_type": "display_data"
    }
   ],
   "source": [
    "import plotly.graph_objects as go\n",
    "import numpy as np\n",
    "\n",
    "# 'un2022_03' 값에 따라 그룹을 나누기 위한 인덱스 딕셔너리\n",
    "group_indices = {'X': 1, 'J': 2, 'O': 3}\n",
    "\n",
    "# Initialize empty lists for each group type\n",
    "x_values_x = []\n",
    "y_values_x = []\n",
    "size_values_x = []\n",
    "\n",
    "x_values_j = []\n",
    "y_values_j = []\n",
    "size_values_j = []\n",
    "\n",
    "x_values_o = []\n",
    "y_values_o = []\n",
    "size_values_o = []\n",
    "\n",
    "# Separate data based on 'un2022_03' value\n",
    "for item in data:\n",
    "    if item['un2022_03'] == 'X':\n",
    "        x_values_x.append(group_indices[item['un2022_03']] + np.random.uniform(-0.09, 0.09))\n",
    "        y_values_x.append(np.random.uniform(-1, 1))\n",
    "        size_values_x.append(item['power'])\n",
    "    elif item['un2022_03'] == 'J':\n",
    "        x_values_j.append(group_indices[item['un2022_03']] + np.random.uniform(-0.09, 0.09))\n",
    "        y_values_j.append(np.random.uniform(-1, 1))\n",
    "        size_values_j.append(item['power'])\n",
    "    else:\n",
    "        x_values_o.append(group_indices[item['un2022_03']] + np.random.uniform(-0.09, 0.09))\n",
    "        y_values_o.append(np.random.uniform(-1, 1))\n",
    "        size_values_o.append(item['power'])\n",
    "\n",
    "# Normalize size_values within each group to the range [0.6, 1.0]\n",
    "max_size_x = max(size_values_x)\n",
    "min_size_x = min(size_values_x)\n",
    "normalized_size_x = [(size - min_size_x) / (max_size_x - min_size_x) * 0.8 + 0.5 for size in size_values_x]\n",
    "\n",
    "max_size_j = max(size_values_j)\n",
    "min_size_j = min(size_values_j)\n",
    "normalized_size_j = [(size - min_size_j) / (max_size_j - min_size_j) * 0.8 + 0.5 for size in size_values_j]\n",
    "\n",
    "max_size_o = max(size_values_o)\n",
    "min_size_o = min(size_values_o)\n",
    "normalized_size_o = [(size - min_size_o) / (max_size_o - min_size_o) * 0.8 + 0.5 for size in size_values_o]\n",
    "\n",
    "# 버블 차트 생성\n",
    "fig = go.Figure()\n",
    "\n",
    "# Add trace for each group separately\n",
    "fig.add_trace(go.Scatter(\n",
    "    x=x_values_x,\n",
    "    y=y_values_x,\n",
    "    mode='markers',\n",
    "    marker=dict(\n",
    "        size=[normalized_size * 50 for normalized_size in normalized_size_x],  # 버블 크기를 일정 비율로 조정\n",
    "        sizemode='diameter',\n",
    "        opacity=0.7,\n",
    "    ),\n",
    "    name='X',\n",
    "    text=[item['country'] for item in data if item['un2022_03'] == 'X'],\n",
    "))\n",
    "\n",
    "fig.add_trace(go.Scatter(\n",
    "    x=x_values_j,\n",
    "    y=y_values_j,\n",
    "    mode='markers',\n",
    "    marker=dict(\n",
    "        size=[normalized_size * 50 for normalized_size in normalized_size_j],  # 버블 크기를 일정 비율로 조정\n",
    "        sizemode='diameter',\n",
    "        opacity=0.7,\n",
    "    ),\n",
    "    name='J',\n",
    "    text=[item['country'] for item in data if item['un2022_03'] == 'J'],\n",
    "))\n",
    "\n",
    "fig.add_trace(go.Scatter(\n",
    "    x=x_values_o,\n",
    "    y=y_values_o,\n",
    "    mode='markers',\n",
    "    marker=dict(\n",
    "        size=[normalized_size * 50 for normalized_size in normalized_size_o],  # 버블 크기를 일정 비율로 조정\n",
    "        sizemode='diameter',\n",
    "        opacity=0.7,\n",
    "    ),\n",
    "    name='O',\n",
    "    text=[item['country'] for item in data if item['un2022_03'] == 'O'],\n",
    "))\n",
    "\n",
    "# 레이아웃 설정\n",
    "fig.update_layout(\n",
    "    title='UN 2022-03 데이터를 Min-Max 정규화 후 로그 변환을 적용한 원 형태로 모이도록 버블 차트',\n",
    "    xaxis=dict(\n",
    "        tickvals=list(group_indices.values()),\n",
    "        ticktext=list(group_indices.keys())\n",
    "    ),\n",
    "    yaxis=dict(\n",
    "        showticklabels=False\n",
    "    )\n",
    ")\n",
    "\n",
    "fig.show()\n"
   ]
  },
  {
   "cell_type": "code",
   "execution_count": 111,
   "id": "44435a9b",
   "metadata": {
    "scrolled": false
   },
   "outputs": [
    {
     "data": {
      "application/vnd.plotly.v1+json": {
       "config": {
        "plotlyServerURL": "https://plot.ly"
       },
       "data": [
        {
         "marker": {
          "color": [
           "#40c9ff",
           "#40c9ff",
           "#40c9ff",
           "#40c9ff",
           "#40c9ff",
           "#40c9ff",
           "#40c9ff",
           "#40c9ff",
           "#40c9ff",
           "#40c9ff",
           "#40c9ff",
           "#40c9ff",
           "#40c9ff",
           "#40c9ff",
           "#40c9ff",
           "#40c9ff",
           "#40c9ff",
           "#40c9ff",
           "#40c9ff",
           "#40c9ff",
           "#40c9ff",
           "#40c9ff",
           "#40c9ff",
           "#40c9ff",
           "#40c9ff",
           "#40c9ff",
           "#40c9ff",
           "#40c9ff",
           "#40c9ff",
           "#40c9ff",
           "#40c9ff",
           "#40c9ff",
           "#40c9ff",
           "#40c9ff",
           "#40c9ff",
           "#40c9ff",
           "#40c9ff",
           "#40c9ff",
           "#40c9ff",
           "#40c9ff",
           "#40c9ff",
           "#40c9ff",
           "#40c9ff",
           "#40c9ff",
           "#40c9ff",
           "#40c9ff",
           "#40c9ff",
           "#40c9ff",
           "#40c9ff",
           "#40c9ff",
           "#40c9ff",
           "#40c9ff",
           "#40c9ff",
           "#40c9ff",
           "#40c9ff",
           "#40c9ff",
           "#40c9ff",
           "#40c9ff",
           "#40c9ff",
           "#40c9ff",
           "#40c9ff",
           "#40c9ff",
           "#40c9ff",
           "#40c9ff",
           "#40c9ff",
           "#40c9ff",
           "#40c9ff",
           "#40c9ff",
           "#40c9ff",
           "#40c9ff",
           "#40c9ff",
           "#40c9ff",
           "#40c9ff",
           "#40c9ff",
           "#40c9ff",
           "#40c9ff",
           "#40c9ff",
           "#40c9ff",
           "#40c9ff",
           "#40c9ff",
           "#40c9ff",
           "#40c9ff",
           "#40c9ff",
           "#40c9ff",
           "#40c9ff",
           "#40c9ff",
           "#40c9ff",
           "#40c9ff",
           "#40c9ff",
           "#40c9ff",
           "#40c9ff",
           "#40c9ff",
           "#40c9ff",
           "#40c9ff",
           "#40c9ff",
           "#40c9ff",
           "#40c9ff",
           "#40c9ff",
           "#40c9ff",
           "#40c9ff",
           "#40c9ff",
           "#40c9ff",
           "#40c9ff",
           "#40c9ff",
           "#40c9ff",
           "#40c9ff",
           "#40c9ff",
           "#40c9ff",
           "#40c9ff",
           "#40c9ff",
           "#40c9ff",
           "#40c9ff",
           "#40c9ff",
           "#40c9ff",
           "#40c9ff",
           "#40c9ff",
           "#40c9ff",
           "#40c9ff",
           "#40c9ff",
           "#40c9ff",
           "#40c9ff",
           "#40c9ff",
           "#40c9ff",
           "#40c9ff",
           "#40c9ff",
           "#40c9ff",
           "#40c9ff",
           "#40c9ff",
           "#40c9ff",
           "#40c9ff",
           "#40c9ff",
           "#40c9ff",
           "#40c9ff",
           "#40c9ff",
           "#40c9ff",
           "#40c9ff",
           "#40c9ff",
           "#40c9ff",
           "#40c9ff",
           "#40c9ff",
           "#40c9ff",
           "red",
           "red",
           "red",
           "#30c67c",
           "#30c67c",
           "red",
           "red",
           "#30c67c",
           "#30c67c",
           "#30c67c",
           "#30c67c",
           "#30c67c",
           "#30c67c",
           "#30c67c",
           "#30c67c",
           "#30c67c",
           "#30c67c",
           "#30c67c",
           "#30c67c",
           "#30c67c",
           "#30c67c",
           "#30c67c",
           "#30c67c",
           "#30c67c",
           "#30c67c",
           "#30c67c",
           "#30c67c",
           "#30c67c",
           "#30c67c",
           "#30c67c",
           "#30c67c",
           "#30c67c",
           "#30c67c",
           "#30c67c",
           "#30c67c",
           "#30c67c",
           "#30c67c",
           "#30c67c",
           "#30c67c"
          ],
          "opacity": 0.7,
          "size": [
           9.657037178554404,
           9.775324276041834,
           9.302893433049222,
           13.594368544545183,
           16.52864492412496,
           13.113601601460346,
           9.20172641498377,
           9.640403952685098,
           10.179890468852474,
           9.405251155416554,
           13.532948296565703,
           9.27757209251255,
           9.755909651344206,
           9.251802129309665,
           9.930354568522489,
           9.762784540538522,
           17.31675740168684,
           9.673770917944065,
           10.791117225011904,
           9.239811610221537,
           9.966443239843667,
           17.333680354978252,
           9.585756399361223,
           12.423729707966663,
           12.306166257770368,
           9.164704007994807,
           10.568756319634936,
           10.486190534244637,
           10.58015155227684,
           9.970238948667255,
           12.285001399172797,
           10.479930544302453,
           12.644606571496585,
           9.314676443835769,
           10.971038332329538,
           10.971038332329538,
           12.559312600089445,
           10.133565118037252,
           9.377329935838361,
           12.136396316413789,
           18.86593496389593,
           9.228500970101404,
           9.74306236451459,
           20.98790755665195,
           10.44824955173336,
           11.788130594504702,
           10.806309684727225,
           9.692156309578431,
           9.896974347389886,
           10.02613487656697,
           11.46918282112311,
           9.93274245111185,
           15.792268871712473,
           11.952789766427113,
           13.420947196629792,
           13.209516768469987,
           17.49277932346001,
           9.713197927742005,
           21.128003942457006,
           10.274632364939682,
           10.944551249039922,
           9.04337016312982,
           11.304893592944468,
           10.214034287528014,
           9.246164537793495,
           9.335393111604755,
           10.19929970466963,
           9.404866042813389,
           10.574673750238288,
           10.661632459813438,
           9.684381011571038,
           9.567455373224163,
           12.828487393155081,
           9.436761907846522,
           9.759462497871102,
           9.05033838739623,
           9.558946603958752,
           9.651545008301753,
           16.42951037151705,
           9.07601168908195,
           9.48934395368136,
           9.437804629773737,
           11.11172998389697,
           10.418421227767727,
           9.022543382885042,
           10.141369689824192,
           14.980003438184296,
           11.862249959606746,
           9.699150338733483,
           13.078719579942977,
           9.668382615356352,
           13.267906311463689,
           10.829644415064116,
           9.045067506519828,
           10.563348134966038,
           10.002738209131946,
           10.151497953390722,
           11.954749955559096,
           12.801811732749334,
           13.969510810701808,
           11.95184120355093,
           11.668677411631725,
           17.948524219125698,
           9.681180676081054,
           12.376637940475591,
           9.61656572352487,
           9.140367467461868,
           9.227300050505116,
           9.138601328177954,
           9.125536740267737,
           9.198281453167647,
           9.09722632295688,
           14.926841068091589,
           10.528551244830748,
           9.207660630903868,
           9.295660409143009,
           13.115015297853946,
           11.0223305596015,
           10.46490015202139,
           9.190732315414635,
           9.49371031660452,
           9.43712172010835,
           16.035302205985506,
           9.293215367980288,
           13.439526059178368,
           14.358812679664723,
           13.345572089797999,
           9.210306867269015,
           9.086388769914853,
           9.92570466572151,
           10.245862721941368,
           9,
           14.834408197241553,
           11.187677655239069,
           13.047562483909305,
           19.25744039142293,
           39,
           10.563868107890176,
           9.140367467461868,
           9.761966081376075,
           9.943645640818644,
           12.628872052125656,
           11.106809723748091,
           11.101463795962918,
           9.7874879510778,
           9.714068739911696,
           20.73517631102936,
           11.474384166706443,
           11.583443734377882,
           10.94244723225071,
           9.844850903553652,
           12.711773939545257,
           10.196609604518768,
           9.281194998715295,
           9.255157437151253,
           34.47374223461864,
           9.613512390944727,
           10.851893437980234,
           10.016864107307416,
           11.242415384682037,
           9.778392532982128,
           9.836720341612601,
           20.160609669621305,
           12.468995007091173,
           11.825808988800148,
           9.48748969603138,
           9.639922086537617,
           9.705639639917129,
           9.7697937604167,
           9.625098453464574,
           12.373694875088963,
           12.614390846226902,
           10.680784645905174,
           10.204815865118604,
           9.607655939154926,
           9.50170466086496,
           10.24547138600657,
           10.71353754747714,
           12.83740898926601,
           9.954778497948698
          ],
          "sizemode": "diameter"
         },
         "mode": "markers",
         "name": "",
         "text": [
          "아프가니스탄",
          "알바니아",
          "안도라",
          "아르헨티나",
          "호주",
          "오스트리아",
          "앤티가 바부다",
          "바하마",
          "바레인",
          "바베이도스",
          "벨기에",
          "벨리즈",
          "베냉",
          "부탄",
          "보스니아",
          "보츠와나",
          "브라질",
          "브루나이",
          "불가리아",
          "카보베르데",
          "캄보디아",
          "캐나다",
          "차드",
          "칠레",
          "콜롬비아",
          "코모로",
          "코스타리카",
          "코트디부아르",
          "크로아티아",
          "키프로스",
          "체코",
          "콩고민주공화국",
          "덴마크",
          "지부티",
          "도미니카",
          "에콰도르",
          "이집트",
          "에스토니아",
          "피지",
          "핀란드",
          "프랑스",
          "감비아",
          "조지아",
          "독일",
          "가나",
          "그리스",
          "과테말라",
          "가이아나",
          "아이티",
          "온두라스",
          "헝가리",
          "아이슬란드",
          "인도네시아",
          "이라크",
          "아일랜드",
          "이스라엘",
          "이탈리아",
          "자메이카",
          "일본",
          "요르단",
          "케냐",
          "키리바시",
          "쿠웨이트",
          "라트비아",
          "레소토",
          "라이베리아",
          "리비아",
          "리히텐슈타인",
          "리투아니아",
          "룩셈부르크",
          "마다가스카르",
          "말라위",
          "말레이시아",
          "몰디브",
          "몰타",
          "마셜제도",
          "모리타니",
          "모리셔스",
          "멕시코",
          "미크로네시아",
          "모나코",
          "몬테네그로",
          "모로코",
          "미얀마",
          "나우루",
          "네팔",
          "네덜란드",
          "뉴질랜드",
          "니제르",
          "나이지리아",
          "북마케도니아",
          "노르웨이",
          "오만",
          "팔라우",
          "파나마",
          "파푸아뉴기니",
          "파라과이",
          "페루",
          "필리핀",
          "폴란드",
          "포르투갈",
          "카타르",
          "대한민국",
          "몰도바",
          "루마니아",
          "르완다",
          "세인트 키츠 네비스",
          "세인트 루시아",
          "세인트 빈센트 그레나딘",
          "사모아",
          "산마리노",
          "상투메",
          "사우디아라비아",
          "세르비아",
          "세이셸",
          "시에라리온",
          "싱가포르",
          "슬로바키아",
          "슬로베니아",
          "솔로몬 제도",
          "소말리아",
          "남수단",
          "스페인",
          "수리남",
          "스웨덴",
          "스위스",
          "태국",
          "동티모르",
          "통가",
          "트리니다드 토바고",
          "튀니지",
          "투발루",
          "튀르키에",
          "우크라이나",
          "아랍에미리트",
          "영국",
          "미국",
          "우루과이",
          "바누아투",
          "예멘",
          "잠비아",
          "벨라루스",
          "북한",
          "에리트레아",
          "말리",
          "니카리과",
          "러시아",
          "시리아",
          "알제리",
          "앙골라",
          "아르메니아",
          "방글라데시",
          "볼리비아",
          "부룬디",
          "중앙아프리카 공화국",
          "중국",
          "콩고공화국",
          "쿠바",
          "엘살바도르",
          "에티오피아",
          "가봉",
          "기니",
          "인도",
          "이란",
          "카자흐스탄",
          "키르기스스탄",
          "라오스",
          "몽골",
          "모잠비크",
          "나미비아",
          "파키스탄",
          "남아프리카",
          "스리랑카",
          "수단",
          "타지키스탄",
          "토고",
          "우간다",
          "우즈베키스탄",
          "베트남",
          "짐바브웨"
         ],
         "type": "scatter",
         "x": [
          0.6584309719999693,
          0.664057664473082,
          0.6778840294236885,
          0.6101998661742166,
          0.7105621537544864,
          0.8261101756528633,
          0.6300134531771523,
          0.6047251223691633,
          0.6500529923116584,
          0.5850592282245033,
          0.677795370975947,
          0.8349521838287763,
          0.8825930993275518,
          0.7882495640765844,
          0.8001216571335968,
          0.6115364327053496,
          0.6467050105081036,
          0.5693622525942389,
          0.7163626213605689,
          0.6981656914717115,
          0.615110275204688,
          0.6901123227101232,
          0.8229619937286051,
          0.7842051686464663,
          0.7911750734893958,
          0.7836616306482819,
          0.7967991992711296,
          0.6731272093622472,
          0.6565024940765263,
          0.8067908404579903,
          0.7584387227737968,
          0.701613063578135,
          0.8194833610512825,
          0.7229698036940382,
          0.7087603671144921,
          0.696965686804513,
          0.717803046976449,
          0.7376598323518077,
          0.7541466709947291,
          0.7187830070089853,
          0.7127125664771672,
          0.7407784615572239,
          0.7776625685080976,
          0.8092534540054841,
          0.7371534965625685,
          0.6781245269226027,
          0.7416988895360858,
          0.7748535480346617,
          0.7872601229299174,
          0.8355558842683531,
          0.8666824449305676,
          0.894453670686421,
          0.7859164089165036,
          0.8161245442586011,
          0.8190535549657836,
          0.6724096140995282,
          0.6378760381773597,
          0.6360883709496019,
          0.6950799701598348,
          0.7172926513922311,
          0.6431271664668663,
          0.7792878053288737,
          0.8534232395233411,
          0.7991970784383968,
          0.7279764679621143,
          0.654670356805014,
          0.7287643926954596,
          0.796907413551868,
          0.7516429534188885,
          0.673198333595478,
          0.6006247985369438,
          0.833252557442886,
          0.7156653371225186,
          0.7315173028279648,
          0.8260008590413255,
          0.7990165265893046,
          0.7754507231258653,
          0.6760728202780586,
          0.7283450219990658,
          0.5318581099804962,
          0.7045341914648533,
          0.6153381088891211,
          0.6145038544409004,
          0.6281713703680621,
          0.6108941293451644,
          0.7314910464900033,
          0.5384658649139417,
          0.5335958317201911,
          0.7306409624827317,
          0.7712281449069428,
          0.6852323008333057,
          0.594703300001757,
          0.6285413373299855,
          0.6572479245744985,
          0.7601015318876957,
          0.8110336168272321,
          0.8677745241235019,
          0.8521055293267049,
          0.7003391511421093,
          0.6590260031255497,
          0.8111257956801398,
          0.6254776299104823,
          0.6790536605332571,
          0.6784113041048989,
          0.6063517280257477,
          0.7905752990081484,
          0.8043688456383238,
          0.7521934714246375,
          0.6357238352159024,
          0.7152611687875362,
          0.6800532206063068,
          0.624870551839369,
          0.8197297986770242,
          0.6561965751599744,
          0.8877213600939106,
          0.7295877419512181,
          0.8143974493526447,
          0.6002527070712681,
          0.6279456030422774,
          0.592939835792744,
          0.6770718495278636,
          0.6671378255111068,
          0.8583044064913739,
          0.639009961561973,
          0.7389243629419865,
          0.8649137327219036,
          0.5998625518936865,
          0.6953392512057937,
          0.7972291470193189,
          0.7093946905023509,
          0.8867909204503802,
          0.8592530099803842,
          0.8333257346290163,
          0.6618084171406332,
          0.6831448810785106,
          0.621340261932184,
          0.7936419001876113,
          0.8816177110513134,
          0.753900186531485,
          0.695540233156647,
          0.6893458692095928,
          -0.3449750423169287,
          -0.18002340039834813,
          -0.498460846858626,
          -0.16202211285852527,
          -0.1704614986490297,
          -0.5036746790385305,
          -0.4337496240575735,
          -0.45322333825919103,
          -0.4236755005551367,
          -0.25923110958155765,
          -0.4480879631211091,
          -0.262370674117552,
          -0.4098334779931774,
          -0.333771203707114,
          -0.3658282924753741,
          -0.282090666992303,
          -0.48131690384068215,
          -0.45610390170371434,
          -0.5549575515619246,
          -0.19297490355753263,
          -0.5084195520672733,
          -0.2383656154207143,
          -0.406806065415097,
          -0.1952291806022183,
          -0.26489594968984165,
          -0.41408624898291996,
          -0.36828165259670254,
          -0.33557169856280156,
          -0.29031091719358765,
          -0.4750763374285569,
          -0.41157381486683114,
          -0.22538406851238277,
          -0.18916694161875822,
          -0.2852202402526138,
          -0.2905759308270905,
          -0.29474529888778017,
          -0.35206805175692135,
          -0.2572098123451829,
          -0.42570592776226324
         ],
         "y": [
          -0.028606704241651487,
          0.3671101038631542,
          0.25930349400100255,
          -0.25769133503865227,
          -0.3997875184007072,
          0.3059327257354364,
          -0.05713368879481028,
          -0.20511290219438752,
          -0.09723398801530672,
          -0.2260594421612818,
          -0.12198806450218096,
          -0.25853197244227466,
          -0.005783985931487478,
          0.17469818283519223,
          -0.10056470185825268,
          0.18576384375925367,
          -0.2746806101384582,
          -0.20324017016246199,
          0.23902736877499772,
          0.05963456910109954,
          0.27134909527391765,
          -0.31120612199426223,
          -0.3097416560894142,
          -0.21001608927564486,
          0.2380336611904097,
          -0.32696014927898226,
          0.05141864800580535,
          -0.27074744230717435,
          -0.35072250301809943,
          -0.15871307015699881,
          -0.015388036778351193,
          -0.34675359891141,
          0.2597600704631387,
          0.29772076687907434,
          0.3630699016313859,
          -0.24397329924525435,
          0.31468029371083744,
          -0.3066263619665777,
          -0.0005616419958884662,
          -0.0944642107517748,
          0.13392012145397764,
          0.2648695333178455,
          -0.3766922635210947,
          -0.1292962710578364,
          -0.14183462531276705,
          -0.37612905883500664,
          0.13576879716788798,
          0.18826109918849712,
          -0.11780869125214397,
          -0.29957063524944144,
          -0.07427785009210859,
          -0.04397200799629464,
          0.2301488444954713,
          -0.25173018113914536,
          0.1492880041511426,
          -0.08253159428370546,
          -0.22117465139016435,
          0.11391234858216893,
          0.10042307022829598,
          -0.3678005420348553,
          0.1665684807758591,
          0.2595873838032672,
          0.07724758683625531,
          0.0513146921972174,
          0.1892795380967939,
          -0.2569960575661196,
          0.37285283621064375,
          0.4006471896355514,
          0.20080384464232912,
          0.33385109090403303,
          -0.33674627452836553,
          0.291083849079727,
          0.1265529294301567,
          -0.1418921129448628,
          -0.13676611190262483,
          -0.2483153192659733,
          0.159648123247787,
          0.20255297230556768,
          0.3219650154261805,
          0.29752821795225826,
          -0.18826265868299757,
          -0.0703023477515602,
          -0.18616583826589844,
          0.029662179957510013,
          -0.025416311685740777,
          -0.37210212801509174,
          -0.30736190335558994,
          -0.28065926905989275,
          0.39204527983829246,
          0.36471275829211963,
          -0.05755399585016643,
          0.08454852677709543,
          0.008423562518102976,
          0.28931719055763044,
          -0.3874213060128005,
          0.2481788835221703,
          -0.013149727180715928,
          0.1988335046286482,
          0.02774779722900153,
          -0.08296349765862192,
          0.06742179754542181,
          -0.055522119002477346,
          -0.12160783881994654,
          0.04280163330575782,
          -0.023939045091451363,
          0.16938840002699634,
          0.15565558684417563,
          -0.3262983510256617,
          0.02794405662295169,
          0.40418365660848565,
          -0.07901367646941221,
          0.21676241868217247,
          -0.1788164743741475,
          0.18412978052393333,
          0.020974011087726094,
          -0.05950120592451845,
          -0.27653534146854614,
          -0.18348544131936714,
          0.11364763735753716,
          -0.287086939646187,
          -0.26056014682030054,
          0.08780639735149909,
          -0.05389176696312624,
          0.08272009255722006,
          -0.007735598044721228,
          -0.17912675467812839,
          -0.2147029581668317,
          0.3584557522009187,
          -0.32052188616793303,
          0.2420649202858447,
          -0.1257223034099793,
          -0.13747804523244953,
          -0.19887252521681545,
          -0.2830904366006696,
          -0.1964494695167945,
          0.11763260525130678,
          0.1025793689644599,
          0.11906766406143685,
          -0.3329960730709768,
          -0.26174674832409983,
          -0.1974429653164109,
          0.5488734420257442,
          0.6903473385462972,
          0.47213327020000906,
          -0.5915834590118194,
          -0.6213691919610813,
          0.5341382848890364,
          0.6854111769181699,
          -0.7724131303880912,
          -0.6964801562904172,
          -0.6365802557856359,
          -0.5213748181364564,
          -0.8267016276324745,
          -0.7482395585230255,
          -0.7148323990298587,
          -0.5107595273124785,
          -0.8089592640564498,
          -0.5082522860221147,
          -0.5170861436845131,
          -0.6178687668723732,
          -0.6329294924434818,
          -0.6712469050377041,
          -0.7469108536808917,
          -0.7532652947783294,
          -0.591540298306064,
          -0.6959024644980517,
          -0.5573236455398325,
          -0.743714162613955,
          -0.8142209156016,
          -0.6197011718301703,
          -0.7578253205135695,
          -0.5918201952650858,
          -0.5636621301521846,
          -0.6721748587244598,
          -0.5625037597327153,
          -0.6111881798838008,
          -0.5701443779187881,
          -0.7438353572763068,
          -0.733444974724398,
          -0.5499181560665701
         ]
        },
        {
         "marker": {
          "color": "#40c9ff",
          "size": 10
         },
         "mode": "markers",
         "name": "찬성",
         "showlegend": true,
         "type": "scatter",
         "x": [
          null
         ],
         "y": [
          null
         ]
        },
        {
         "marker": {
          "color": "red",
          "size": 10
         },
         "mode": "markers",
         "name": "반대",
         "showlegend": true,
         "type": "scatter",
         "x": [
          null
         ],
         "y": [
          null
         ]
        },
        {
         "marker": {
          "color": "#30c67c",
          "size": 10
         },
         "mode": "markers",
         "name": "중립",
         "showlegend": true,
         "type": "scatter",
         "x": [
          null
         ],
         "y": [
          null
         ]
        }
       ],
       "layout": {
        "plot_bgcolor": "white",
        "showlegend": true,
        "template": {
         "data": {
          "bar": [
           {
            "error_x": {
             "color": "#2a3f5f"
            },
            "error_y": {
             "color": "#2a3f5f"
            },
            "marker": {
             "line": {
              "color": "#E5ECF6",
              "width": 0.5
             },
             "pattern": {
              "fillmode": "overlay",
              "size": 10,
              "solidity": 0.2
             }
            },
            "type": "bar"
           }
          ],
          "barpolar": [
           {
            "marker": {
             "line": {
              "color": "#E5ECF6",
              "width": 0.5
             },
             "pattern": {
              "fillmode": "overlay",
              "size": 10,
              "solidity": 0.2
             }
            },
            "type": "barpolar"
           }
          ],
          "carpet": [
           {
            "aaxis": {
             "endlinecolor": "#2a3f5f",
             "gridcolor": "white",
             "linecolor": "white",
             "minorgridcolor": "white",
             "startlinecolor": "#2a3f5f"
            },
            "baxis": {
             "endlinecolor": "#2a3f5f",
             "gridcolor": "white",
             "linecolor": "white",
             "minorgridcolor": "white",
             "startlinecolor": "#2a3f5f"
            },
            "type": "carpet"
           }
          ],
          "choropleth": [
           {
            "colorbar": {
             "outlinewidth": 0,
             "ticks": ""
            },
            "type": "choropleth"
           }
          ],
          "contour": [
           {
            "colorbar": {
             "outlinewidth": 0,
             "ticks": ""
            },
            "colorscale": [
             [
              0,
              "#0d0887"
             ],
             [
              0.1111111111111111,
              "#46039f"
             ],
             [
              0.2222222222222222,
              "#7201a8"
             ],
             [
              0.3333333333333333,
              "#9c179e"
             ],
             [
              0.4444444444444444,
              "#bd3786"
             ],
             [
              0.5555555555555556,
              "#d8576b"
             ],
             [
              0.6666666666666666,
              "#ed7953"
             ],
             [
              0.7777777777777778,
              "#fb9f3a"
             ],
             [
              0.8888888888888888,
              "#fdca26"
             ],
             [
              1,
              "#f0f921"
             ]
            ],
            "type": "contour"
           }
          ],
          "contourcarpet": [
           {
            "colorbar": {
             "outlinewidth": 0,
             "ticks": ""
            },
            "type": "contourcarpet"
           }
          ],
          "heatmap": [
           {
            "colorbar": {
             "outlinewidth": 0,
             "ticks": ""
            },
            "colorscale": [
             [
              0,
              "#0d0887"
             ],
             [
              0.1111111111111111,
              "#46039f"
             ],
             [
              0.2222222222222222,
              "#7201a8"
             ],
             [
              0.3333333333333333,
              "#9c179e"
             ],
             [
              0.4444444444444444,
              "#bd3786"
             ],
             [
              0.5555555555555556,
              "#d8576b"
             ],
             [
              0.6666666666666666,
              "#ed7953"
             ],
             [
              0.7777777777777778,
              "#fb9f3a"
             ],
             [
              0.8888888888888888,
              "#fdca26"
             ],
             [
              1,
              "#f0f921"
             ]
            ],
            "type": "heatmap"
           }
          ],
          "heatmapgl": [
           {
            "colorbar": {
             "outlinewidth": 0,
             "ticks": ""
            },
            "colorscale": [
             [
              0,
              "#0d0887"
             ],
             [
              0.1111111111111111,
              "#46039f"
             ],
             [
              0.2222222222222222,
              "#7201a8"
             ],
             [
              0.3333333333333333,
              "#9c179e"
             ],
             [
              0.4444444444444444,
              "#bd3786"
             ],
             [
              0.5555555555555556,
              "#d8576b"
             ],
             [
              0.6666666666666666,
              "#ed7953"
             ],
             [
              0.7777777777777778,
              "#fb9f3a"
             ],
             [
              0.8888888888888888,
              "#fdca26"
             ],
             [
              1,
              "#f0f921"
             ]
            ],
            "type": "heatmapgl"
           }
          ],
          "histogram": [
           {
            "marker": {
             "pattern": {
              "fillmode": "overlay",
              "size": 10,
              "solidity": 0.2
             }
            },
            "type": "histogram"
           }
          ],
          "histogram2d": [
           {
            "colorbar": {
             "outlinewidth": 0,
             "ticks": ""
            },
            "colorscale": [
             [
              0,
              "#0d0887"
             ],
             [
              0.1111111111111111,
              "#46039f"
             ],
             [
              0.2222222222222222,
              "#7201a8"
             ],
             [
              0.3333333333333333,
              "#9c179e"
             ],
             [
              0.4444444444444444,
              "#bd3786"
             ],
             [
              0.5555555555555556,
              "#d8576b"
             ],
             [
              0.6666666666666666,
              "#ed7953"
             ],
             [
              0.7777777777777778,
              "#fb9f3a"
             ],
             [
              0.8888888888888888,
              "#fdca26"
             ],
             [
              1,
              "#f0f921"
             ]
            ],
            "type": "histogram2d"
           }
          ],
          "histogram2dcontour": [
           {
            "colorbar": {
             "outlinewidth": 0,
             "ticks": ""
            },
            "colorscale": [
             [
              0,
              "#0d0887"
             ],
             [
              0.1111111111111111,
              "#46039f"
             ],
             [
              0.2222222222222222,
              "#7201a8"
             ],
             [
              0.3333333333333333,
              "#9c179e"
             ],
             [
              0.4444444444444444,
              "#bd3786"
             ],
             [
              0.5555555555555556,
              "#d8576b"
             ],
             [
              0.6666666666666666,
              "#ed7953"
             ],
             [
              0.7777777777777778,
              "#fb9f3a"
             ],
             [
              0.8888888888888888,
              "#fdca26"
             ],
             [
              1,
              "#f0f921"
             ]
            ],
            "type": "histogram2dcontour"
           }
          ],
          "mesh3d": [
           {
            "colorbar": {
             "outlinewidth": 0,
             "ticks": ""
            },
            "type": "mesh3d"
           }
          ],
          "parcoords": [
           {
            "line": {
             "colorbar": {
              "outlinewidth": 0,
              "ticks": ""
             }
            },
            "type": "parcoords"
           }
          ],
          "pie": [
           {
            "automargin": true,
            "type": "pie"
           }
          ],
          "scatter": [
           {
            "fillpattern": {
             "fillmode": "overlay",
             "size": 10,
             "solidity": 0.2
            },
            "type": "scatter"
           }
          ],
          "scatter3d": [
           {
            "line": {
             "colorbar": {
              "outlinewidth": 0,
              "ticks": ""
             }
            },
            "marker": {
             "colorbar": {
              "outlinewidth": 0,
              "ticks": ""
             }
            },
            "type": "scatter3d"
           }
          ],
          "scattercarpet": [
           {
            "marker": {
             "colorbar": {
              "outlinewidth": 0,
              "ticks": ""
             }
            },
            "type": "scattercarpet"
           }
          ],
          "scattergeo": [
           {
            "marker": {
             "colorbar": {
              "outlinewidth": 0,
              "ticks": ""
             }
            },
            "type": "scattergeo"
           }
          ],
          "scattergl": [
           {
            "marker": {
             "colorbar": {
              "outlinewidth": 0,
              "ticks": ""
             }
            },
            "type": "scattergl"
           }
          ],
          "scattermapbox": [
           {
            "marker": {
             "colorbar": {
              "outlinewidth": 0,
              "ticks": ""
             }
            },
            "type": "scattermapbox"
           }
          ],
          "scatterpolar": [
           {
            "marker": {
             "colorbar": {
              "outlinewidth": 0,
              "ticks": ""
             }
            },
            "type": "scatterpolar"
           }
          ],
          "scatterpolargl": [
           {
            "marker": {
             "colorbar": {
              "outlinewidth": 0,
              "ticks": ""
             }
            },
            "type": "scatterpolargl"
           }
          ],
          "scatterternary": [
           {
            "marker": {
             "colorbar": {
              "outlinewidth": 0,
              "ticks": ""
             }
            },
            "type": "scatterternary"
           }
          ],
          "surface": [
           {
            "colorbar": {
             "outlinewidth": 0,
             "ticks": ""
            },
            "colorscale": [
             [
              0,
              "#0d0887"
             ],
             [
              0.1111111111111111,
              "#46039f"
             ],
             [
              0.2222222222222222,
              "#7201a8"
             ],
             [
              0.3333333333333333,
              "#9c179e"
             ],
             [
              0.4444444444444444,
              "#bd3786"
             ],
             [
              0.5555555555555556,
              "#d8576b"
             ],
             [
              0.6666666666666666,
              "#ed7953"
             ],
             [
              0.7777777777777778,
              "#fb9f3a"
             ],
             [
              0.8888888888888888,
              "#fdca26"
             ],
             [
              1,
              "#f0f921"
             ]
            ],
            "type": "surface"
           }
          ],
          "table": [
           {
            "cells": {
             "fill": {
              "color": "#EBF0F8"
             },
             "line": {
              "color": "white"
             }
            },
            "header": {
             "fill": {
              "color": "#C8D4E3"
             },
             "line": {
              "color": "white"
             }
            },
            "type": "table"
           }
          ]
         },
         "layout": {
          "annotationdefaults": {
           "arrowcolor": "#2a3f5f",
           "arrowhead": 0,
           "arrowwidth": 1
          },
          "autotypenumbers": "strict",
          "coloraxis": {
           "colorbar": {
            "outlinewidth": 0,
            "ticks": ""
           }
          },
          "colorscale": {
           "diverging": [
            [
             0,
             "#8e0152"
            ],
            [
             0.1,
             "#c51b7d"
            ],
            [
             0.2,
             "#de77ae"
            ],
            [
             0.3,
             "#f1b6da"
            ],
            [
             0.4,
             "#fde0ef"
            ],
            [
             0.5,
             "#f7f7f7"
            ],
            [
             0.6,
             "#e6f5d0"
            ],
            [
             0.7,
             "#b8e186"
            ],
            [
             0.8,
             "#7fbc41"
            ],
            [
             0.9,
             "#4d9221"
            ],
            [
             1,
             "#276419"
            ]
           ],
           "sequential": [
            [
             0,
             "#0d0887"
            ],
            [
             0.1111111111111111,
             "#46039f"
            ],
            [
             0.2222222222222222,
             "#7201a8"
            ],
            [
             0.3333333333333333,
             "#9c179e"
            ],
            [
             0.4444444444444444,
             "#bd3786"
            ],
            [
             0.5555555555555556,
             "#d8576b"
            ],
            [
             0.6666666666666666,
             "#ed7953"
            ],
            [
             0.7777777777777778,
             "#fb9f3a"
            ],
            [
             0.8888888888888888,
             "#fdca26"
            ],
            [
             1,
             "#f0f921"
            ]
           ],
           "sequentialminus": [
            [
             0,
             "#0d0887"
            ],
            [
             0.1111111111111111,
             "#46039f"
            ],
            [
             0.2222222222222222,
             "#7201a8"
            ],
            [
             0.3333333333333333,
             "#9c179e"
            ],
            [
             0.4444444444444444,
             "#bd3786"
            ],
            [
             0.5555555555555556,
             "#d8576b"
            ],
            [
             0.6666666666666666,
             "#ed7953"
            ],
            [
             0.7777777777777778,
             "#fb9f3a"
            ],
            [
             0.8888888888888888,
             "#fdca26"
            ],
            [
             1,
             "#f0f921"
            ]
           ]
          },
          "colorway": [
           "#636efa",
           "#EF553B",
           "#00cc96",
           "#ab63fa",
           "#FFA15A",
           "#19d3f3",
           "#FF6692",
           "#B6E880",
           "#FF97FF",
           "#FECB52"
          ],
          "font": {
           "color": "#2a3f5f"
          },
          "geo": {
           "bgcolor": "white",
           "lakecolor": "white",
           "landcolor": "#E5ECF6",
           "showlakes": true,
           "showland": true,
           "subunitcolor": "white"
          },
          "hoverlabel": {
           "align": "left"
          },
          "hovermode": "closest",
          "mapbox": {
           "style": "light"
          },
          "paper_bgcolor": "white",
          "plot_bgcolor": "#E5ECF6",
          "polar": {
           "angularaxis": {
            "gridcolor": "white",
            "linecolor": "white",
            "ticks": ""
           },
           "bgcolor": "#E5ECF6",
           "radialaxis": {
            "gridcolor": "white",
            "linecolor": "white",
            "ticks": ""
           }
          },
          "scene": {
           "xaxis": {
            "backgroundcolor": "#E5ECF6",
            "gridcolor": "white",
            "gridwidth": 2,
            "linecolor": "white",
            "showbackground": true,
            "ticks": "",
            "zerolinecolor": "white"
           },
           "yaxis": {
            "backgroundcolor": "#E5ECF6",
            "gridcolor": "white",
            "gridwidth": 2,
            "linecolor": "white",
            "showbackground": true,
            "ticks": "",
            "zerolinecolor": "white"
           },
           "zaxis": {
            "backgroundcolor": "#E5ECF6",
            "gridcolor": "white",
            "gridwidth": 2,
            "linecolor": "white",
            "showbackground": true,
            "ticks": "",
            "zerolinecolor": "white"
           }
          },
          "shapedefaults": {
           "line": {
            "color": "#2a3f5f"
           }
          },
          "ternary": {
           "aaxis": {
            "gridcolor": "white",
            "linecolor": "white",
            "ticks": ""
           },
           "baxis": {
            "gridcolor": "white",
            "linecolor": "white",
            "ticks": ""
           },
           "bgcolor": "#E5ECF6",
           "caxis": {
            "gridcolor": "white",
            "linecolor": "white",
            "ticks": ""
           }
          },
          "title": {
           "x": 0.05
          },
          "xaxis": {
           "automargin": true,
           "gridcolor": "white",
           "linecolor": "white",
           "ticks": "",
           "title": {
            "standoff": 15
           },
           "zerolinecolor": "white",
           "zerolinewidth": 2
          },
          "yaxis": {
           "automargin": true,
           "gridcolor": "white",
           "linecolor": "white",
           "ticks": "",
           "title": {
            "standoff": 15
           },
           "zerolinecolor": "white",
           "zerolinewidth": 2
          }
         }
        },
        "title": {
         "text": "우크라이나 침공 반대 유엔결의안"
        },
        "xaxis": {
         "showgrid": false,
         "showline": false,
         "showticklabels": false,
         "zeroline": false
        },
        "yaxis": {
         "showgrid": false,
         "showline": false,
         "showticklabels": false,
         "zeroline": false
        }
       }
      },
      "text/html": [
       "<div>                            <div id=\"47d8f0a3-6159-4a38-aa1a-1e037e31e62e\" class=\"plotly-graph-div\" style=\"height:525px; width:100%;\"></div>            <script type=\"text/javascript\">                require([\"plotly\"], function(Plotly) {                    window.PLOTLYENV=window.PLOTLYENV || {};                                    if (document.getElementById(\"47d8f0a3-6159-4a38-aa1a-1e037e31e62e\")) {                    Plotly.newPlot(                        \"47d8f0a3-6159-4a38-aa1a-1e037e31e62e\",                        [{\"marker\":{\"color\":[\"#40c9ff\",\"#40c9ff\",\"#40c9ff\",\"#40c9ff\",\"#40c9ff\",\"#40c9ff\",\"#40c9ff\",\"#40c9ff\",\"#40c9ff\",\"#40c9ff\",\"#40c9ff\",\"#40c9ff\",\"#40c9ff\",\"#40c9ff\",\"#40c9ff\",\"#40c9ff\",\"#40c9ff\",\"#40c9ff\",\"#40c9ff\",\"#40c9ff\",\"#40c9ff\",\"#40c9ff\",\"#40c9ff\",\"#40c9ff\",\"#40c9ff\",\"#40c9ff\",\"#40c9ff\",\"#40c9ff\",\"#40c9ff\",\"#40c9ff\",\"#40c9ff\",\"#40c9ff\",\"#40c9ff\",\"#40c9ff\",\"#40c9ff\",\"#40c9ff\",\"#40c9ff\",\"#40c9ff\",\"#40c9ff\",\"#40c9ff\",\"#40c9ff\",\"#40c9ff\",\"#40c9ff\",\"#40c9ff\",\"#40c9ff\",\"#40c9ff\",\"#40c9ff\",\"#40c9ff\",\"#40c9ff\",\"#40c9ff\",\"#40c9ff\",\"#40c9ff\",\"#40c9ff\",\"#40c9ff\",\"#40c9ff\",\"#40c9ff\",\"#40c9ff\",\"#40c9ff\",\"#40c9ff\",\"#40c9ff\",\"#40c9ff\",\"#40c9ff\",\"#40c9ff\",\"#40c9ff\",\"#40c9ff\",\"#40c9ff\",\"#40c9ff\",\"#40c9ff\",\"#40c9ff\",\"#40c9ff\",\"#40c9ff\",\"#40c9ff\",\"#40c9ff\",\"#40c9ff\",\"#40c9ff\",\"#40c9ff\",\"#40c9ff\",\"#40c9ff\",\"#40c9ff\",\"#40c9ff\",\"#40c9ff\",\"#40c9ff\",\"#40c9ff\",\"#40c9ff\",\"#40c9ff\",\"#40c9ff\",\"#40c9ff\",\"#40c9ff\",\"#40c9ff\",\"#40c9ff\",\"#40c9ff\",\"#40c9ff\",\"#40c9ff\",\"#40c9ff\",\"#40c9ff\",\"#40c9ff\",\"#40c9ff\",\"#40c9ff\",\"#40c9ff\",\"#40c9ff\",\"#40c9ff\",\"#40c9ff\",\"#40c9ff\",\"#40c9ff\",\"#40c9ff\",\"#40c9ff\",\"#40c9ff\",\"#40c9ff\",\"#40c9ff\",\"#40c9ff\",\"#40c9ff\",\"#40c9ff\",\"#40c9ff\",\"#40c9ff\",\"#40c9ff\",\"#40c9ff\",\"#40c9ff\",\"#40c9ff\",\"#40c9ff\",\"#40c9ff\",\"#40c9ff\",\"#40c9ff\",\"#40c9ff\",\"#40c9ff\",\"#40c9ff\",\"#40c9ff\",\"#40c9ff\",\"#40c9ff\",\"#40c9ff\",\"#40c9ff\",\"#40c9ff\",\"#40c9ff\",\"#40c9ff\",\"#40c9ff\",\"#40c9ff\",\"#40c9ff\",\"#40c9ff\",\"#40c9ff\",\"#40c9ff\",\"#40c9ff\",\"#40c9ff\",\"red\",\"red\",\"red\",\"#30c67c\",\"#30c67c\",\"red\",\"red\",\"#30c67c\",\"#30c67c\",\"#30c67c\",\"#30c67c\",\"#30c67c\",\"#30c67c\",\"#30c67c\",\"#30c67c\",\"#30c67c\",\"#30c67c\",\"#30c67c\",\"#30c67c\",\"#30c67c\",\"#30c67c\",\"#30c67c\",\"#30c67c\",\"#30c67c\",\"#30c67c\",\"#30c67c\",\"#30c67c\",\"#30c67c\",\"#30c67c\",\"#30c67c\",\"#30c67c\",\"#30c67c\",\"#30c67c\",\"#30c67c\",\"#30c67c\",\"#30c67c\",\"#30c67c\",\"#30c67c\",\"#30c67c\"],\"opacity\":0.7,\"size\":[9.657037178554404,9.775324276041834,9.302893433049222,13.594368544545183,16.52864492412496,13.113601601460346,9.20172641498377,9.640403952685098,10.179890468852474,9.405251155416554,13.532948296565703,9.27757209251255,9.755909651344206,9.251802129309665,9.930354568522489,9.762784540538522,17.31675740168684,9.673770917944065,10.791117225011904,9.239811610221537,9.966443239843667,17.333680354978252,9.585756399361223,12.423729707966663,12.306166257770368,9.164704007994807,10.568756319634936,10.486190534244637,10.58015155227684,9.970238948667255,12.285001399172797,10.479930544302453,12.644606571496585,9.314676443835769,10.971038332329538,10.971038332329538,12.559312600089445,10.133565118037252,9.377329935838361,12.136396316413789,18.86593496389593,9.228500970101404,9.74306236451459,20.98790755665195,10.44824955173336,11.788130594504702,10.806309684727225,9.692156309578431,9.896974347389886,10.02613487656697,11.46918282112311,9.93274245111185,15.792268871712473,11.952789766427113,13.420947196629792,13.209516768469987,17.49277932346001,9.713197927742005,21.128003942457006,10.274632364939682,10.944551249039922,9.04337016312982,11.304893592944468,10.214034287528014,9.246164537793495,9.335393111604755,10.19929970466963,9.404866042813389,10.574673750238288,10.661632459813438,9.684381011571038,9.567455373224163,12.828487393155081,9.436761907846522,9.759462497871102,9.05033838739623,9.558946603958752,9.651545008301753,16.42951037151705,9.07601168908195,9.48934395368136,9.437804629773737,11.11172998389697,10.418421227767727,9.022543382885042,10.141369689824192,14.980003438184296,11.862249959606746,9.699150338733483,13.078719579942977,9.668382615356352,13.267906311463689,10.829644415064116,9.045067506519828,10.563348134966038,10.002738209131946,10.151497953390722,11.954749955559096,12.801811732749334,13.969510810701808,11.95184120355093,11.668677411631725,17.948524219125698,9.681180676081054,12.376637940475591,9.61656572352487,9.140367467461868,9.227300050505116,9.138601328177954,9.125536740267737,9.198281453167647,9.09722632295688,14.926841068091589,10.528551244830748,9.207660630903868,9.295660409143009,13.115015297853946,11.0223305596015,10.46490015202139,9.190732315414635,9.49371031660452,9.43712172010835,16.035302205985506,9.293215367980288,13.439526059178368,14.358812679664723,13.345572089797999,9.210306867269015,9.086388769914853,9.92570466572151,10.245862721941368,9.0,14.834408197241553,11.187677655239069,13.047562483909305,19.25744039142293,39.0,10.563868107890176,9.140367467461868,9.761966081376075,9.943645640818644,12.628872052125656,11.106809723748091,11.101463795962918,9.7874879510778,9.714068739911696,20.73517631102936,11.474384166706443,11.583443734377882,10.94244723225071,9.844850903553652,12.711773939545257,10.196609604518768,9.281194998715295,9.255157437151253,34.47374223461864,9.613512390944727,10.851893437980234,10.016864107307416,11.242415384682037,9.778392532982128,9.836720341612601,20.160609669621305,12.468995007091173,11.825808988800148,9.48748969603138,9.639922086537617,9.705639639917129,9.7697937604167,9.625098453464574,12.373694875088963,12.614390846226902,10.680784645905174,10.204815865118604,9.607655939154926,9.50170466086496,10.24547138600657,10.71353754747714,12.83740898926601,9.954778497948698],\"sizemode\":\"diameter\"},\"mode\":\"markers\",\"name\":\"\",\"text\":[\"\\uc544\\ud504\\uac00\\ub2c8\\uc2a4\\ud0c4\",\"\\uc54c\\ubc14\\ub2c8\\uc544\",\"\\uc548\\ub3c4\\ub77c\",\"\\uc544\\ub974\\ud5e8\\ud2f0\\ub098\",\"\\ud638\\uc8fc\",\"\\uc624\\uc2a4\\ud2b8\\ub9ac\\uc544\",\"\\uc564\\ud2f0\\uac00 \\ubc14\\ubd80\\ub2e4\",\"\\ubc14\\ud558\\ub9c8\",\"\\ubc14\\ub808\\uc778\",\"\\ubc14\\ubca0\\uc774\\ub3c4\\uc2a4\",\"\\ubca8\\uae30\\uc5d0\",\"\\ubca8\\ub9ac\\uc988\",\"\\ubca0\\ub0c9\",\"\\ubd80\\ud0c4\",\"\\ubcf4\\uc2a4\\ub2c8\\uc544\",\"\\ubcf4\\uce20\\uc640\\ub098\",\"\\ube0c\\ub77c\\uc9c8\",\"\\ube0c\\ub8e8\\ub098\\uc774\",\"\\ubd88\\uac00\\ub9ac\\uc544\",\"\\uce74\\ubcf4\\ubca0\\ub974\\ub370\",\"\\uce84\\ubcf4\\ub514\\uc544\",\"\\uce90\\ub098\\ub2e4\",\"\\ucc28\\ub4dc\",\"\\uce60\\ub808\",\"\\ucf5c\\ub86c\\ube44\\uc544\",\"\\ucf54\\ubaa8\\ub85c\",\"\\ucf54\\uc2a4\\ud0c0\\ub9ac\\uce74\",\"\\ucf54\\ud2b8\\ub514\\ubd80\\uc544\\ub974\",\"\\ud06c\\ub85c\\uc544\\ud2f0\\uc544\",\"\\ud0a4\\ud504\\ub85c\\uc2a4\",\"\\uccb4\\ucf54\",\"\\ucf69\\uace0\\ubbfc\\uc8fc\\uacf5\\ud654\\uad6d\",\"\\ub374\\ub9c8\\ud06c\",\"\\uc9c0\\ubd80\\ud2f0\",\"\\ub3c4\\ubbf8\\ub2c8\\uce74\",\"\\uc5d0\\ucf70\\ub3c4\\ub974\",\"\\uc774\\uc9d1\\ud2b8\",\"\\uc5d0\\uc2a4\\ud1a0\\ub2c8\\uc544\",\"\\ud53c\\uc9c0\",\"\\ud540\\ub780\\ub4dc\",\"\\ud504\\ub791\\uc2a4\",\"\\uac10\\ube44\\uc544\",\"\\uc870\\uc9c0\\uc544\",\"\\ub3c5\\uc77c\",\"\\uac00\\ub098\",\"\\uadf8\\ub9ac\\uc2a4\",\"\\uacfc\\ud14c\\ub9d0\\ub77c\",\"\\uac00\\uc774\\uc544\\ub098\",\"\\uc544\\uc774\\ud2f0\",\"\\uc628\\ub450\\ub77c\\uc2a4\",\"\\ud5dd\\uac00\\ub9ac\",\"\\uc544\\uc774\\uc2ac\\ub780\\ub4dc\",\"\\uc778\\ub3c4\\ub124\\uc2dc\\uc544\",\"\\uc774\\ub77c\\ud06c\",\"\\uc544\\uc77c\\ub79c\\ub4dc\",\"\\uc774\\uc2a4\\ub77c\\uc5d8\",\"\\uc774\\ud0c8\\ub9ac\\uc544\",\"\\uc790\\uba54\\uc774\\uce74\",\"\\uc77c\\ubcf8\",\"\\uc694\\ub974\\ub2e8\",\"\\ucf00\\ub0d0\",\"\\ud0a4\\ub9ac\\ubc14\\uc2dc\",\"\\ucfe0\\uc6e8\\uc774\\ud2b8\",\"\\ub77c\\ud2b8\\ube44\\uc544\",\"\\ub808\\uc18c\\ud1a0\",\"\\ub77c\\uc774\\ubca0\\ub9ac\\uc544\",\"\\ub9ac\\ube44\\uc544\",\"\\ub9ac\\ud788\\ud150\\uc288\\ud0c0\\uc778\",\"\\ub9ac\\ud22c\\uc544\\ub2c8\\uc544\",\"\\ub8e9\\uc148\\ubd80\\ub974\\ud06c\",\"\\ub9c8\\ub2e4\\uac00\\uc2a4\\uce74\\ub974\",\"\\ub9d0\\ub77c\\uc704\",\"\\ub9d0\\ub808\\uc774\\uc2dc\\uc544\",\"\\ubab0\\ub514\\ube0c\",\"\\ubab0\\ud0c0\",\"\\ub9c8\\uc15c\\uc81c\\ub3c4\",\"\\ubaa8\\ub9ac\\ud0c0\\ub2c8\",\"\\ubaa8\\ub9ac\\uc154\\uc2a4\",\"\\uba55\\uc2dc\\ucf54\",\"\\ubbf8\\ud06c\\ub85c\\ub124\\uc2dc\\uc544\",\"\\ubaa8\\ub098\\ucf54\",\"\\ubaac\\ud14c\\ub124\\uadf8\\ub85c\",\"\\ubaa8\\ub85c\\ucf54\",\"\\ubbf8\\uc580\\ub9c8\",\"\\ub098\\uc6b0\\ub8e8\",\"\\ub124\\ud314\",\"\\ub124\\ub35c\\ub780\\ub4dc\",\"\\ub274\\uc9c8\\ub79c\\ub4dc\",\"\\ub2c8\\uc81c\\ub974\",\"\\ub098\\uc774\\uc9c0\\ub9ac\\uc544\",\"\\ubd81\\ub9c8\\ucf00\\ub3c4\\ub2c8\\uc544\",\"\\ub178\\ub974\\uc6e8\\uc774\",\"\\uc624\\ub9cc\",\"\\ud314\\ub77c\\uc6b0\",\"\\ud30c\\ub098\\ub9c8\",\"\\ud30c\\ud478\\uc544\\ub274\\uae30\\ub2c8\",\"\\ud30c\\ub77c\\uacfc\\uc774\",\"\\ud398\\ub8e8\",\"\\ud544\\ub9ac\\ud540\",\"\\ud3f4\\ub780\\ub4dc\",\"\\ud3ec\\ub974\\ud22c\\uac08\",\"\\uce74\\ud0c0\\ub974\",\"\\ub300\\ud55c\\ubbfc\\uad6d\",\"\\ubab0\\ub3c4\\ubc14\",\"\\ub8e8\\ub9c8\\ub2c8\\uc544\",\"\\ub974\\uc644\\ub2e4\",\"\\uc138\\uc778\\ud2b8 \\ud0a4\\uce20 \\ub124\\ube44\\uc2a4\",\"\\uc138\\uc778\\ud2b8 \\ub8e8\\uc2dc\\uc544\",\"\\uc138\\uc778\\ud2b8 \\ube48\\uc13c\\ud2b8 \\uadf8\\ub808\\ub098\\ub518\",\"\\uc0ac\\ubaa8\\uc544\",\"\\uc0b0\\ub9c8\\ub9ac\\ub178\",\"\\uc0c1\\ud22c\\uba54\",\"\\uc0ac\\uc6b0\\ub514\\uc544\\ub77c\\ube44\\uc544\",\"\\uc138\\ub974\\ube44\\uc544\",\"\\uc138\\uc774\\uc178\",\"\\uc2dc\\uc5d0\\ub77c\\ub9ac\\uc628\",\"\\uc2f1\\uac00\\ud3ec\\ub974\",\"\\uc2ac\\ub85c\\ubc14\\ud0a4\\uc544\",\"\\uc2ac\\ub85c\\ubca0\\ub2c8\\uc544\",\"\\uc194\\ub85c\\ubaac \\uc81c\\ub3c4\",\"\\uc18c\\ub9d0\\ub9ac\\uc544\",\"\\ub0a8\\uc218\\ub2e8\",\"\\uc2a4\\ud398\\uc778\",\"\\uc218\\ub9ac\\ub0a8\",\"\\uc2a4\\uc6e8\\ub374\",\"\\uc2a4\\uc704\\uc2a4\",\"\\ud0dc\\uad6d\",\"\\ub3d9\\ud2f0\\ubaa8\\ub974\",\"\\ud1b5\\uac00\",\"\\ud2b8\\ub9ac\\ub2c8\\ub2e4\\ub4dc \\ud1a0\\ubc14\\uace0\",\"\\ud280\\ub2c8\\uc9c0\",\"\\ud22c\\ubc1c\\ub8e8\",\"\\ud280\\ub974\\ud0a4\\uc5d0\",\"\\uc6b0\\ud06c\\ub77c\\uc774\\ub098\",\"\\uc544\\ub78d\\uc5d0\\ubbf8\\ub9ac\\ud2b8\",\"\\uc601\\uad6d\",\"\\ubbf8\\uad6d\",\"\\uc6b0\\ub8e8\\uacfc\\uc774\",\"\\ubc14\\ub204\\uc544\\ud22c\",\"\\uc608\\uba58\",\"\\uc7a0\\ube44\\uc544\",\"\\ubca8\\ub77c\\ub8e8\\uc2a4\",\"\\ubd81\\ud55c\",\"\\uc5d0\\ub9ac\\ud2b8\\ub808\\uc544\",\"\\ub9d0\\ub9ac\",\"\\ub2c8\\uce74\\ub9ac\\uacfc\",\"\\ub7ec\\uc2dc\\uc544\",\"\\uc2dc\\ub9ac\\uc544\",\"\\uc54c\\uc81c\\ub9ac\",\"\\uc559\\uace8\\ub77c\",\"\\uc544\\ub974\\uba54\\ub2c8\\uc544\",\"\\ubc29\\uae00\\ub77c\\ub370\\uc2dc\",\"\\ubcfc\\ub9ac\\ube44\\uc544\",\"\\ubd80\\ub8ec\\ub514\",\"\\uc911\\uc559\\uc544\\ud504\\ub9ac\\uce74 \\uacf5\\ud654\\uad6d\",\"\\uc911\\uad6d\",\"\\ucf69\\uace0\\uacf5\\ud654\\uad6d\",\"\\ucfe0\\ubc14\",\"\\uc5d8\\uc0b4\\ubc14\\ub3c4\\ub974\",\"\\uc5d0\\ud2f0\\uc624\\ud53c\\uc544\",\"\\uac00\\ubd09\",\"\\uae30\\ub2c8\",\"\\uc778\\ub3c4\",\"\\uc774\\ub780\",\"\\uce74\\uc790\\ud750\\uc2a4\\ud0c4\",\"\\ud0a4\\ub974\\uae30\\uc2a4\\uc2a4\\ud0c4\",\"\\ub77c\\uc624\\uc2a4\",\"\\ubabd\\uace8\",\"\\ubaa8\\uc7a0\\ube44\\ud06c\",\"\\ub098\\ubbf8\\ube44\\uc544\",\"\\ud30c\\ud0a4\\uc2a4\\ud0c4\",\"\\ub0a8\\uc544\\ud504\\ub9ac\\uce74\",\"\\uc2a4\\ub9ac\\ub791\\uce74\",\"\\uc218\\ub2e8\",\"\\ud0c0\\uc9c0\\ud0a4\\uc2a4\\ud0c4\",\"\\ud1a0\\uace0\",\"\\uc6b0\\uac04\\ub2e4\",\"\\uc6b0\\uc988\\ubca0\\ud0a4\\uc2a4\\ud0c4\",\"\\ubca0\\ud2b8\\ub0a8\",\"\\uc9d0\\ubc14\\ube0c\\uc6e8\"],\"x\":[0.6584309719999693,0.664057664473082,0.6778840294236885,0.6101998661742166,0.7105621537544864,0.8261101756528633,0.6300134531771523,0.6047251223691633,0.6500529923116584,0.5850592282245033,0.677795370975947,0.8349521838287763,0.8825930993275518,0.7882495640765844,0.8001216571335968,0.6115364327053496,0.6467050105081036,0.5693622525942389,0.7163626213605689,0.6981656914717115,0.615110275204688,0.6901123227101232,0.8229619937286051,0.7842051686464663,0.7911750734893958,0.7836616306482819,0.7967991992711296,0.6731272093622472,0.6565024940765263,0.8067908404579903,0.7584387227737968,0.701613063578135,0.8194833610512825,0.7229698036940382,0.7087603671144921,0.696965686804513,0.717803046976449,0.7376598323518077,0.7541466709947291,0.7187830070089853,0.7127125664771672,0.7407784615572239,0.7776625685080976,0.8092534540054841,0.7371534965625685,0.6781245269226027,0.7416988895360858,0.7748535480346617,0.7872601229299174,0.8355558842683531,0.8666824449305676,0.894453670686421,0.7859164089165036,0.8161245442586011,0.8190535549657836,0.6724096140995282,0.6378760381773597,0.6360883709496019,0.6950799701598348,0.7172926513922311,0.6431271664668663,0.7792878053288737,0.8534232395233411,0.7991970784383968,0.7279764679621143,0.654670356805014,0.7287643926954596,0.796907413551868,0.7516429534188885,0.673198333595478,0.6006247985369438,0.833252557442886,0.7156653371225186,0.7315173028279648,0.8260008590413255,0.7990165265893046,0.7754507231258653,0.6760728202780586,0.7283450219990658,0.5318581099804962,0.7045341914648533,0.6153381088891211,0.6145038544409004,0.6281713703680621,0.6108941293451644,0.7314910464900033,0.5384658649139417,0.5335958317201911,0.7306409624827317,0.7712281449069428,0.6852323008333057,0.594703300001757,0.6285413373299855,0.6572479245744985,0.7601015318876957,0.8110336168272321,0.8677745241235019,0.8521055293267049,0.7003391511421093,0.6590260031255497,0.8111257956801398,0.6254776299104823,0.6790536605332571,0.6784113041048989,0.6063517280257477,0.7905752990081484,0.8043688456383238,0.7521934714246375,0.6357238352159024,0.7152611687875362,0.6800532206063068,0.624870551839369,0.8197297986770242,0.6561965751599744,0.8877213600939106,0.7295877419512181,0.8143974493526447,0.6002527070712681,0.6279456030422774,0.592939835792744,0.6770718495278636,0.6671378255111068,0.8583044064913739,0.639009961561973,0.7389243629419865,0.8649137327219036,0.5998625518936865,0.6953392512057937,0.7972291470193189,0.7093946905023509,0.8867909204503802,0.8592530099803842,0.8333257346290163,0.6618084171406332,0.6831448810785106,0.621340261932184,0.7936419001876113,0.8816177110513134,0.753900186531485,0.695540233156647,0.6893458692095928,-0.3449750423169287,-0.18002340039834813,-0.498460846858626,-0.16202211285852527,-0.1704614986490297,-0.5036746790385305,-0.4337496240575735,-0.45322333825919103,-0.4236755005551367,-0.25923110958155765,-0.4480879631211091,-0.262370674117552,-0.4098334779931774,-0.333771203707114,-0.3658282924753741,-0.282090666992303,-0.48131690384068215,-0.45610390170371434,-0.5549575515619246,-0.19297490355753263,-0.5084195520672733,-0.2383656154207143,-0.406806065415097,-0.1952291806022183,-0.26489594968984165,-0.41408624898291996,-0.36828165259670254,-0.33557169856280156,-0.29031091719358765,-0.4750763374285569,-0.41157381486683114,-0.22538406851238277,-0.18916694161875822,-0.2852202402526138,-0.2905759308270905,-0.29474529888778017,-0.35206805175692135,-0.2572098123451829,-0.42570592776226324],\"y\":[-0.028606704241651487,0.3671101038631542,0.25930349400100255,-0.25769133503865227,-0.3997875184007072,0.3059327257354364,-0.05713368879481028,-0.20511290219438752,-0.09723398801530672,-0.2260594421612818,-0.12198806450218096,-0.25853197244227466,-0.005783985931487478,0.17469818283519223,-0.10056470185825268,0.18576384375925367,-0.2746806101384582,-0.20324017016246199,0.23902736877499772,0.05963456910109954,0.27134909527391765,-0.31120612199426223,-0.3097416560894142,-0.21001608927564486,0.2380336611904097,-0.32696014927898226,0.05141864800580535,-0.27074744230717435,-0.35072250301809943,-0.15871307015699881,-0.015388036778351193,-0.34675359891141,0.2597600704631387,0.29772076687907434,0.3630699016313859,-0.24397329924525435,0.31468029371083744,-0.3066263619665777,-0.0005616419958884662,-0.0944642107517748,0.13392012145397764,0.2648695333178455,-0.3766922635210947,-0.1292962710578364,-0.14183462531276705,-0.37612905883500664,0.13576879716788798,0.18826109918849712,-0.11780869125214397,-0.29957063524944144,-0.07427785009210859,-0.04397200799629464,0.2301488444954713,-0.25173018113914536,0.1492880041511426,-0.08253159428370546,-0.22117465139016435,0.11391234858216893,0.10042307022829598,-0.3678005420348553,0.1665684807758591,0.2595873838032672,0.07724758683625531,0.0513146921972174,0.1892795380967939,-0.2569960575661196,0.37285283621064375,0.4006471896355514,0.20080384464232912,0.33385109090403303,-0.33674627452836553,0.291083849079727,0.1265529294301567,-0.1418921129448628,-0.13676611190262483,-0.2483153192659733,0.159648123247787,0.20255297230556768,0.3219650154261805,0.29752821795225826,-0.18826265868299757,-0.0703023477515602,-0.18616583826589844,0.029662179957510013,-0.025416311685740777,-0.37210212801509174,-0.30736190335558994,-0.28065926905989275,0.39204527983829246,0.36471275829211963,-0.05755399585016643,0.08454852677709543,0.008423562518102976,0.28931719055763044,-0.3874213060128005,0.2481788835221703,-0.013149727180715928,0.1988335046286482,0.02774779722900153,-0.08296349765862192,0.06742179754542181,-0.055522119002477346,-0.12160783881994654,0.04280163330575782,-0.023939045091451363,0.16938840002699634,0.15565558684417563,-0.3262983510256617,0.02794405662295169,0.40418365660848565,-0.07901367646941221,0.21676241868217247,-0.1788164743741475,0.18412978052393333,0.020974011087726094,-0.05950120592451845,-0.27653534146854614,-0.18348544131936714,0.11364763735753716,-0.287086939646187,-0.26056014682030054,0.08780639735149909,-0.05389176696312624,0.08272009255722006,-0.007735598044721228,-0.17912675467812839,-0.2147029581668317,0.3584557522009187,-0.32052188616793303,0.2420649202858447,-0.1257223034099793,-0.13747804523244953,-0.19887252521681545,-0.2830904366006696,-0.1964494695167945,0.11763260525130678,0.1025793689644599,0.11906766406143685,-0.3329960730709768,-0.26174674832409983,-0.1974429653164109,0.5488734420257442,0.6903473385462972,0.47213327020000906,-0.5915834590118194,-0.6213691919610813,0.5341382848890364,0.6854111769181699,-0.7724131303880912,-0.6964801562904172,-0.6365802557856359,-0.5213748181364564,-0.8267016276324745,-0.7482395585230255,-0.7148323990298587,-0.5107595273124785,-0.8089592640564498,-0.5082522860221147,-0.5170861436845131,-0.6178687668723732,-0.6329294924434818,-0.6712469050377041,-0.7469108536808917,-0.7532652947783294,-0.591540298306064,-0.6959024644980517,-0.5573236455398325,-0.743714162613955,-0.8142209156016,-0.6197011718301703,-0.7578253205135695,-0.5918201952650858,-0.5636621301521846,-0.6721748587244598,-0.5625037597327153,-0.6111881798838008,-0.5701443779187881,-0.7438353572763068,-0.733444974724398,-0.5499181560665701],\"type\":\"scatter\"},{\"marker\":{\"color\":\"#40c9ff\",\"size\":10},\"mode\":\"markers\",\"name\":\"\\ucc2c\\uc131\",\"showlegend\":true,\"x\":[null],\"y\":[null],\"type\":\"scatter\"},{\"marker\":{\"color\":\"red\",\"size\":10},\"mode\":\"markers\",\"name\":\"\\ubc18\\ub300\",\"showlegend\":true,\"x\":[null],\"y\":[null],\"type\":\"scatter\"},{\"marker\":{\"color\":\"#30c67c\",\"size\":10},\"mode\":\"markers\",\"name\":\"\\uc911\\ub9bd\",\"showlegend\":true,\"x\":[null],\"y\":[null],\"type\":\"scatter\"}],                        {\"template\":{\"data\":{\"histogram2dcontour\":[{\"type\":\"histogram2dcontour\",\"colorbar\":{\"outlinewidth\":0,\"ticks\":\"\"},\"colorscale\":[[0.0,\"#0d0887\"],[0.1111111111111111,\"#46039f\"],[0.2222222222222222,\"#7201a8\"],[0.3333333333333333,\"#9c179e\"],[0.4444444444444444,\"#bd3786\"],[0.5555555555555556,\"#d8576b\"],[0.6666666666666666,\"#ed7953\"],[0.7777777777777778,\"#fb9f3a\"],[0.8888888888888888,\"#fdca26\"],[1.0,\"#f0f921\"]]}],\"choropleth\":[{\"type\":\"choropleth\",\"colorbar\":{\"outlinewidth\":0,\"ticks\":\"\"}}],\"histogram2d\":[{\"type\":\"histogram2d\",\"colorbar\":{\"outlinewidth\":0,\"ticks\":\"\"},\"colorscale\":[[0.0,\"#0d0887\"],[0.1111111111111111,\"#46039f\"],[0.2222222222222222,\"#7201a8\"],[0.3333333333333333,\"#9c179e\"],[0.4444444444444444,\"#bd3786\"],[0.5555555555555556,\"#d8576b\"],[0.6666666666666666,\"#ed7953\"],[0.7777777777777778,\"#fb9f3a\"],[0.8888888888888888,\"#fdca26\"],[1.0,\"#f0f921\"]]}],\"heatmap\":[{\"type\":\"heatmap\",\"colorbar\":{\"outlinewidth\":0,\"ticks\":\"\"},\"colorscale\":[[0.0,\"#0d0887\"],[0.1111111111111111,\"#46039f\"],[0.2222222222222222,\"#7201a8\"],[0.3333333333333333,\"#9c179e\"],[0.4444444444444444,\"#bd3786\"],[0.5555555555555556,\"#d8576b\"],[0.6666666666666666,\"#ed7953\"],[0.7777777777777778,\"#fb9f3a\"],[0.8888888888888888,\"#fdca26\"],[1.0,\"#f0f921\"]]}],\"heatmapgl\":[{\"type\":\"heatmapgl\",\"colorbar\":{\"outlinewidth\":0,\"ticks\":\"\"},\"colorscale\":[[0.0,\"#0d0887\"],[0.1111111111111111,\"#46039f\"],[0.2222222222222222,\"#7201a8\"],[0.3333333333333333,\"#9c179e\"],[0.4444444444444444,\"#bd3786\"],[0.5555555555555556,\"#d8576b\"],[0.6666666666666666,\"#ed7953\"],[0.7777777777777778,\"#fb9f3a\"],[0.8888888888888888,\"#fdca26\"],[1.0,\"#f0f921\"]]}],\"contourcarpet\":[{\"type\":\"contourcarpet\",\"colorbar\":{\"outlinewidth\":0,\"ticks\":\"\"}}],\"contour\":[{\"type\":\"contour\",\"colorbar\":{\"outlinewidth\":0,\"ticks\":\"\"},\"colorscale\":[[0.0,\"#0d0887\"],[0.1111111111111111,\"#46039f\"],[0.2222222222222222,\"#7201a8\"],[0.3333333333333333,\"#9c179e\"],[0.4444444444444444,\"#bd3786\"],[0.5555555555555556,\"#d8576b\"],[0.6666666666666666,\"#ed7953\"],[0.7777777777777778,\"#fb9f3a\"],[0.8888888888888888,\"#fdca26\"],[1.0,\"#f0f921\"]]}],\"surface\":[{\"type\":\"surface\",\"colorbar\":{\"outlinewidth\":0,\"ticks\":\"\"},\"colorscale\":[[0.0,\"#0d0887\"],[0.1111111111111111,\"#46039f\"],[0.2222222222222222,\"#7201a8\"],[0.3333333333333333,\"#9c179e\"],[0.4444444444444444,\"#bd3786\"],[0.5555555555555556,\"#d8576b\"],[0.6666666666666666,\"#ed7953\"],[0.7777777777777778,\"#fb9f3a\"],[0.8888888888888888,\"#fdca26\"],[1.0,\"#f0f921\"]]}],\"mesh3d\":[{\"type\":\"mesh3d\",\"colorbar\":{\"outlinewidth\":0,\"ticks\":\"\"}}],\"scatter\":[{\"fillpattern\":{\"fillmode\":\"overlay\",\"size\":10,\"solidity\":0.2},\"type\":\"scatter\"}],\"parcoords\":[{\"type\":\"parcoords\",\"line\":{\"colorbar\":{\"outlinewidth\":0,\"ticks\":\"\"}}}],\"scatterpolargl\":[{\"type\":\"scatterpolargl\",\"marker\":{\"colorbar\":{\"outlinewidth\":0,\"ticks\":\"\"}}}],\"bar\":[{\"error_x\":{\"color\":\"#2a3f5f\"},\"error_y\":{\"color\":\"#2a3f5f\"},\"marker\":{\"line\":{\"color\":\"#E5ECF6\",\"width\":0.5},\"pattern\":{\"fillmode\":\"overlay\",\"size\":10,\"solidity\":0.2}},\"type\":\"bar\"}],\"scattergeo\":[{\"type\":\"scattergeo\",\"marker\":{\"colorbar\":{\"outlinewidth\":0,\"ticks\":\"\"}}}],\"scatterpolar\":[{\"type\":\"scatterpolar\",\"marker\":{\"colorbar\":{\"outlinewidth\":0,\"ticks\":\"\"}}}],\"histogram\":[{\"marker\":{\"pattern\":{\"fillmode\":\"overlay\",\"size\":10,\"solidity\":0.2}},\"type\":\"histogram\"}],\"scattergl\":[{\"type\":\"scattergl\",\"marker\":{\"colorbar\":{\"outlinewidth\":0,\"ticks\":\"\"}}}],\"scatter3d\":[{\"type\":\"scatter3d\",\"line\":{\"colorbar\":{\"outlinewidth\":0,\"ticks\":\"\"}},\"marker\":{\"colorbar\":{\"outlinewidth\":0,\"ticks\":\"\"}}}],\"scattermapbox\":[{\"type\":\"scattermapbox\",\"marker\":{\"colorbar\":{\"outlinewidth\":0,\"ticks\":\"\"}}}],\"scatterternary\":[{\"type\":\"scatterternary\",\"marker\":{\"colorbar\":{\"outlinewidth\":0,\"ticks\":\"\"}}}],\"scattercarpet\":[{\"type\":\"scattercarpet\",\"marker\":{\"colorbar\":{\"outlinewidth\":0,\"ticks\":\"\"}}}],\"carpet\":[{\"aaxis\":{\"endlinecolor\":\"#2a3f5f\",\"gridcolor\":\"white\",\"linecolor\":\"white\",\"minorgridcolor\":\"white\",\"startlinecolor\":\"#2a3f5f\"},\"baxis\":{\"endlinecolor\":\"#2a3f5f\",\"gridcolor\":\"white\",\"linecolor\":\"white\",\"minorgridcolor\":\"white\",\"startlinecolor\":\"#2a3f5f\"},\"type\":\"carpet\"}],\"table\":[{\"cells\":{\"fill\":{\"color\":\"#EBF0F8\"},\"line\":{\"color\":\"white\"}},\"header\":{\"fill\":{\"color\":\"#C8D4E3\"},\"line\":{\"color\":\"white\"}},\"type\":\"table\"}],\"barpolar\":[{\"marker\":{\"line\":{\"color\":\"#E5ECF6\",\"width\":0.5},\"pattern\":{\"fillmode\":\"overlay\",\"size\":10,\"solidity\":0.2}},\"type\":\"barpolar\"}],\"pie\":[{\"automargin\":true,\"type\":\"pie\"}]},\"layout\":{\"autotypenumbers\":\"strict\",\"colorway\":[\"#636efa\",\"#EF553B\",\"#00cc96\",\"#ab63fa\",\"#FFA15A\",\"#19d3f3\",\"#FF6692\",\"#B6E880\",\"#FF97FF\",\"#FECB52\"],\"font\":{\"color\":\"#2a3f5f\"},\"hovermode\":\"closest\",\"hoverlabel\":{\"align\":\"left\"},\"paper_bgcolor\":\"white\",\"plot_bgcolor\":\"#E5ECF6\",\"polar\":{\"bgcolor\":\"#E5ECF6\",\"angularaxis\":{\"gridcolor\":\"white\",\"linecolor\":\"white\",\"ticks\":\"\"},\"radialaxis\":{\"gridcolor\":\"white\",\"linecolor\":\"white\",\"ticks\":\"\"}},\"ternary\":{\"bgcolor\":\"#E5ECF6\",\"aaxis\":{\"gridcolor\":\"white\",\"linecolor\":\"white\",\"ticks\":\"\"},\"baxis\":{\"gridcolor\":\"white\",\"linecolor\":\"white\",\"ticks\":\"\"},\"caxis\":{\"gridcolor\":\"white\",\"linecolor\":\"white\",\"ticks\":\"\"}},\"coloraxis\":{\"colorbar\":{\"outlinewidth\":0,\"ticks\":\"\"}},\"colorscale\":{\"sequential\":[[0.0,\"#0d0887\"],[0.1111111111111111,\"#46039f\"],[0.2222222222222222,\"#7201a8\"],[0.3333333333333333,\"#9c179e\"],[0.4444444444444444,\"#bd3786\"],[0.5555555555555556,\"#d8576b\"],[0.6666666666666666,\"#ed7953\"],[0.7777777777777778,\"#fb9f3a\"],[0.8888888888888888,\"#fdca26\"],[1.0,\"#f0f921\"]],\"sequentialminus\":[[0.0,\"#0d0887\"],[0.1111111111111111,\"#46039f\"],[0.2222222222222222,\"#7201a8\"],[0.3333333333333333,\"#9c179e\"],[0.4444444444444444,\"#bd3786\"],[0.5555555555555556,\"#d8576b\"],[0.6666666666666666,\"#ed7953\"],[0.7777777777777778,\"#fb9f3a\"],[0.8888888888888888,\"#fdca26\"],[1.0,\"#f0f921\"]],\"diverging\":[[0,\"#8e0152\"],[0.1,\"#c51b7d\"],[0.2,\"#de77ae\"],[0.3,\"#f1b6da\"],[0.4,\"#fde0ef\"],[0.5,\"#f7f7f7\"],[0.6,\"#e6f5d0\"],[0.7,\"#b8e186\"],[0.8,\"#7fbc41\"],[0.9,\"#4d9221\"],[1,\"#276419\"]]},\"xaxis\":{\"gridcolor\":\"white\",\"linecolor\":\"white\",\"ticks\":\"\",\"title\":{\"standoff\":15},\"zerolinecolor\":\"white\",\"automargin\":true,\"zerolinewidth\":2},\"yaxis\":{\"gridcolor\":\"white\",\"linecolor\":\"white\",\"ticks\":\"\",\"title\":{\"standoff\":15},\"zerolinecolor\":\"white\",\"automargin\":true,\"zerolinewidth\":2},\"scene\":{\"xaxis\":{\"backgroundcolor\":\"#E5ECF6\",\"gridcolor\":\"white\",\"linecolor\":\"white\",\"showbackground\":true,\"ticks\":\"\",\"zerolinecolor\":\"white\",\"gridwidth\":2},\"yaxis\":{\"backgroundcolor\":\"#E5ECF6\",\"gridcolor\":\"white\",\"linecolor\":\"white\",\"showbackground\":true,\"ticks\":\"\",\"zerolinecolor\":\"white\",\"gridwidth\":2},\"zaxis\":{\"backgroundcolor\":\"#E5ECF6\",\"gridcolor\":\"white\",\"linecolor\":\"white\",\"showbackground\":true,\"ticks\":\"\",\"zerolinecolor\":\"white\",\"gridwidth\":2}},\"shapedefaults\":{\"line\":{\"color\":\"#2a3f5f\"}},\"annotationdefaults\":{\"arrowcolor\":\"#2a3f5f\",\"arrowhead\":0,\"arrowwidth\":1},\"geo\":{\"bgcolor\":\"white\",\"landcolor\":\"#E5ECF6\",\"subunitcolor\":\"white\",\"showland\":true,\"showlakes\":true,\"lakecolor\":\"white\"},\"title\":{\"x\":0.05},\"mapbox\":{\"style\":\"light\"}}},\"xaxis\":{\"showgrid\":false,\"zeroline\":false,\"showticklabels\":false,\"showline\":false},\"yaxis\":{\"showgrid\":false,\"zeroline\":false,\"showticklabels\":false,\"showline\":false},\"title\":{\"text\":\"\\uc6b0\\ud06c\\ub77c\\uc774\\ub098 \\uce68\\uacf5 \\ubc18\\ub300 \\uc720\\uc5d4\\uacb0\\uc758\\uc548\"},\"showlegend\":true,\"plot_bgcolor\":\"white\"},                        {\"responsive\": true}                    ).then(function(){\n",
       "                            \n",
       "var gd = document.getElementById('47d8f0a3-6159-4a38-aa1a-1e037e31e62e');\n",
       "var x = new MutationObserver(function (mutations, observer) {{\n",
       "        var display = window.getComputedStyle(gd).display;\n",
       "        if (!display || display === 'none') {{\n",
       "            console.log([gd, 'removed!']);\n",
       "            Plotly.purge(gd);\n",
       "            observer.disconnect();\n",
       "        }}\n",
       "}});\n",
       "\n",
       "// Listen for the removal of the full notebook cells\n",
       "var notebookContainer = gd.closest('#notebook-container');\n",
       "if (notebookContainer) {{\n",
       "    x.observe(notebookContainer, {childList: true});\n",
       "}}\n",
       "\n",
       "// Listen for the clearing of the current output cell\n",
       "var outputEl = gd.closest('.output');\n",
       "if (outputEl) {{\n",
       "    x.observe(outputEl, {childList: true});\n",
       "}}\n",
       "\n",
       "                        })                };                });            </script>        </div>"
      ]
     },
     "metadata": {},
     "output_type": "display_data"
    }
   ],
   "source": [
    "import plotly.graph_objects as go\n",
    "import numpy as np\n",
    "\n",
    "# 'un2022_03' 값에 따라 그룹을 나누기 위한 인덱스 딕셔너리\n",
    "group_indices = {'X': 1, 'J': 2, 'O': 3}\n",
    "\n",
    "# Initialize empty lists for each group type\n",
    "x_values = []\n",
    "y_values = []\n",
    "size_values = []\n",
    "colors = []  # 그룹별로 색상을 지정하기 위한 리스트\n",
    "\n",
    "# Separate data based on 'un2022_03' value\n",
    "for item in data:\n",
    "    if item['un2022_03'] == 'X':\n",
    "        group = 'X'\n",
    "        angle = group_indices[group] * 120 + np.random.uniform(-20, 20)  # Adjust angle for 'X' group\n",
    "        colors.append('red')  # 'X' 그룹은 빨간색으로 지정\n",
    "    elif item['un2022_03'] == 'J':\n",
    "        group = 'J'\n",
    "        angle = group_indices[group] * 120 + np.random.uniform(-15, 15)  # Adjust angle for 'J' group\n",
    "        colors.append('#30c67c')  # 'J' 그룹은 초록색으로 지정\n",
    "    else:\n",
    "        group = 'O'\n",
    "        angle = group_indices[group] * 120 + np.random.uniform(-30, 30)\n",
    "        colors.append('#40c9ff')  # 'O' 그룹은 파란색으로 지정\n",
    "\n",
    "    radius = np.random.uniform(0.6, 0.9)  # Adjust the radius for each bubble\n",
    "\n",
    "    x_values.append(radius * np.cos(np.deg2rad(angle)))\n",
    "    y_values.append(radius * np.sin(np.deg2rad(angle)))\n",
    "    size_values.append(item['power'])\n",
    "\n",
    "# Scale size_values using square root to amplify differences\n",
    "scaled_size_values = np.sqrt(size_values)\n",
    "\n",
    "# Normalize scaled_size_values within the entire dataset to the range [0.3, 0.8]\n",
    "max_size = max(scaled_size_values)\n",
    "min_size = min(scaled_size_values)\n",
    "normalized_size = [(size - min_size) / (max_size - min_size) * 1 + 0.3 for size in scaled_size_values]\n",
    "\n",
    "# Adjust bubble size for 'X' group to make it larger\n",
    "for i in range(len(data)):\n",
    "    if data[i]['un2022_03'] == 'X':\n",
    "        normalized_size[i] *= 1.2\n",
    "\n",
    "# 그룹별 범례 라벨 설정\n",
    "group_legends = {'O': '찬성', 'X': '반대', 'J': '중립'}\n",
    "\n",
    "# 버블 차트 생성\n",
    "fig = go.Figure()\n",
    "\n",
    "# Add trace for each group separately\n",
    "fig.add_trace(go.Scatter(\n",
    "    x=x_values,\n",
    "    y=y_values,\n",
    "    mode='markers',\n",
    "    marker=dict(\n",
    "        size=[normalized_size[i] * 30 for i in range(len(normalized_size))],  # 버블 크기를 일정 비율로 조정\n",
    "        sizemode='diameter',\n",
    "        opacity=0.7,\n",
    "        color=colors,  # 그룹별로 색상 지정\n",
    "    ),\n",
    "    name='',  # 'Bubbles' 범례 제거\n",
    "    text=[item['country'] for item in data],\n",
    "))\n",
    "\n",
    "# 레이아웃 설정\n",
    "fig.update_layout(\n",
    "    title='우크라이나 침공 반대 유엔결의안',\n",
    "    showlegend=True,\n",
    "    xaxis=dict(\n",
    "        showgrid=False,\n",
    "        zeroline=False,\n",
    "        showticklabels=False,\n",
    "        showline=False,  # x축 라인 제거\n",
    "    ),\n",
    "    yaxis=dict(\n",
    "        showgrid=False,\n",
    "        zeroline=False,\n",
    "        showticklabels=False,\n",
    "        showline=False,  # y축 라인 제거\n",
    "    ),\n",
    "    plot_bgcolor='white',  # 배경색을 하얀색으로 설정\n",
    ")\n",
    "\n",
    "# 그룹별 범례 추가\n",
    "for group, legend_label in group_legends.items():\n",
    "    fig.add_trace(go.Scatter(\n",
    "        x=[None],\n",
    "        y=[None],\n",
    "        mode='markers',\n",
    "        marker=dict(size=10, color='red' if group == 'X' else '#30c67c' if group == 'J' else '#40c9ff'),\n",
    "        showlegend=True,\n",
    "        name=legend_label,\n",
    "    ))\n",
    "\n",
    "fig.show()\n"
   ]
  },
  {
   "cell_type": "code",
   "execution_count": 113,
   "id": "6c4e69d9",
   "metadata": {},
   "outputs": [],
   "source": [
    "fig.write_html(\"bubble_chart2022.html\")"
   ]
  },
  {
   "cell_type": "code",
   "execution_count": null,
   "id": "ac26aa2a",
   "metadata": {},
   "outputs": [],
   "source": []
  },
  {
   "cell_type": "code",
   "execution_count": null,
   "id": "b6518fd5",
   "metadata": {},
   "outputs": [],
   "source": []
  },
  {
   "cell_type": "code",
   "execution_count": null,
   "id": "bf3d017e",
   "metadata": {},
   "outputs": [],
   "source": []
  },
  {
   "cell_type": "code",
   "execution_count": null,
   "id": "7a971d5e",
   "metadata": {},
   "outputs": [],
   "source": []
  }
 ],
 "metadata": {
  "kernelspec": {
   "display_name": "Python 3 (ipykernel)",
   "language": "python",
   "name": "python3"
  },
  "language_info": {
   "codemirror_mode": {
    "name": "ipython",
    "version": 3
   },
   "file_extension": ".py",
   "mimetype": "text/x-python",
   "name": "python",
   "nbconvert_exporter": "python",
   "pygments_lexer": "ipython3",
   "version": "3.10.9"
  }
 },
 "nbformat": 4,
 "nbformat_minor": 5
}
