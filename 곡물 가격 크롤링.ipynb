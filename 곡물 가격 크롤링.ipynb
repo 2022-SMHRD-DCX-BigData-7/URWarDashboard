{
 "cells": [
  {
   "cell_type": "code",
   "execution_count": 7,
   "id": "ab66d9d6",
   "metadata": {},
   "outputs": [],
   "source": [
    "# selenium 라이브러리 로딩\n",
    "\n",
    "import pandas as pd\n",
    "import time\n",
    "\n",
    "# 브라우저\n",
    "from selenium import webdriver as wb\n",
    "\n",
    "# 구분자\n",
    "from selenium.webdriver.common.by import By\n",
    "\n",
    "# 키보드\n",
    "from selenium.webdriver.common.keys import Keys\n",
    "\n",
    "# 파일 시스템을 위한 라이브러리(파일, 폴더를 생성/삭제 하는 역할)\n",
    "import os\n",
    "\n",
    "# url값을 파일로 저장해주는 라이브러리\n",
    "from urllib.request import urlretrieve\n",
    "\n",
    "from selenium.webdriver.common.action_chains import ActionChains\n",
    "from selenium.webdriver.support.ui import WebDriverWait\n",
    "from selenium.webdriver.support import expected_conditions as EC"
   ]
  },
  {
   "cell_type": "code",
   "execution_count": 8,
   "id": "9ec5ec38",
   "metadata": {},
   "outputs": [
    {
     "name": "stderr",
     "output_type": "stream",
     "text": [
      "Error getting version of chromedriver 115. Retrying with chromedriver 114 (attempt 1/5)\n"
     ]
    }
   ],
   "source": [
    "url=\"http://www.krei.re.kr:18181/new_sub01\"\n",
    "driver=wb.Chrome()\n",
    "driver.get(url)"
   ]
  },
  {
   "cell_type": "code",
   "execution_count": 17,
   "id": "86ea9345",
   "metadata": {},
   "outputs": [
    {
     "data": {
      "text/plain": [
       "10"
      ]
     },
     "execution_count": 17,
     "metadata": {},
     "output_type": "execute_result"
    }
   ],
   "source": [
    "# 1. date 데이터 수집\n",
    "date=driver.find_elements(By.CSS_SELECTOR, \"#displayTable > tbody > tr> td:nth-child(1)\")\n",
    "len(date)"
   ]
  },
  {
   "cell_type": "code",
   "execution_count": 18,
   "id": "e1c506b0",
   "metadata": {},
   "outputs": [
    {
     "data": {
      "text/plain": [
       "'2023-07-28'"
      ]
     },
     "execution_count": 18,
     "metadata": {},
     "output_type": "execute_result"
    }
   ],
   "source": [
    "date[0].text"
   ]
  },
  {
   "cell_type": "code",
   "execution_count": 19,
   "id": "7a573358",
   "metadata": {},
   "outputs": [
    {
     "data": {
      "text/plain": [
       "10"
      ]
     },
     "execution_count": 19,
     "metadata": {},
     "output_type": "execute_result"
    }
   ],
   "source": [
    "# 2. type 데이터 수집\n",
    "type=driver.find_elements(By.CSS_SELECTOR, \"#displayTable > tbody > tr> td:nth-child(2)\")\n",
    "len(type)"
   ]
  },
  {
   "cell_type": "code",
   "execution_count": 20,
   "id": "ca4eef2d",
   "metadata": {},
   "outputs": [
    {
     "data": {
      "text/plain": [
       "'Wheat'"
      ]
     },
     "execution_count": 20,
     "metadata": {},
     "output_type": "execute_result"
    }
   ],
   "source": [
    "type[0].text"
   ]
  },
  {
   "cell_type": "code",
   "execution_count": 21,
   "id": "5fd59d9a",
   "metadata": {},
   "outputs": [
    {
     "data": {
      "text/plain": [
       "10"
      ]
     },
     "execution_count": 21,
     "metadata": {},
     "output_type": "execute_result"
    }
   ],
   "source": [
    "# 3. open 데이터 수집\n",
    "open=driver.find_elements(By.CSS_SELECTOR, \"#displayTable > tbody > tr> td:nth-child(3)\")\n",
    "len(open)"
   ]
  },
  {
   "cell_type": "code",
   "execution_count": 22,
   "id": "748d2fa3",
   "metadata": {},
   "outputs": [
    {
     "data": {
      "text/plain": [
       "'262.62'"
      ]
     },
     "execution_count": 22,
     "metadata": {},
     "output_type": "execute_result"
    }
   ],
   "source": [
    "open[0].text"
   ]
  },
  {
   "cell_type": "code",
   "execution_count": 23,
   "id": "7c8d2abb",
   "metadata": {},
   "outputs": [
    {
     "data": {
      "text/plain": [
       "10"
      ]
     },
     "execution_count": 23,
     "metadata": {},
     "output_type": "execute_result"
    }
   ],
   "source": [
    "# 4. close 데이터 수집\n",
    "close=driver.find_elements(By.CSS_SELECTOR, \"#displayTable > tbody > tr> td:nth-child(4)\")\n",
    "len(close)"
   ]
  },
  {
   "cell_type": "code",
   "execution_count": 24,
   "id": "0599ee4d",
   "metadata": {},
   "outputs": [
    {
     "data": {
      "text/plain": [
       "'258.67'"
      ]
     },
     "execution_count": 24,
     "metadata": {},
     "output_type": "execute_result"
    }
   ],
   "source": [
    "close[0].text"
   ]
  },
  {
   "cell_type": "code",
   "execution_count": 25,
   "id": "98fbd410",
   "metadata": {},
   "outputs": [
    {
     "data": {
      "text/plain": [
       "10"
      ]
     },
     "execution_count": 25,
     "metadata": {},
     "output_type": "execute_result"
    }
   ],
   "source": [
    "# 5. settlement 데이터 수집\n",
    "settle=driver.find_elements(By.CSS_SELECTOR, \"#displayTable > tbody > tr> td:nth-child(5)\")\n",
    "len(settle)"
   ]
  },
  {
   "cell_type": "code",
   "execution_count": 26,
   "id": "214437c1",
   "metadata": {},
   "outputs": [
    {
     "data": {
      "text/plain": [
       "'258.76'"
      ]
     },
     "execution_count": 26,
     "metadata": {},
     "output_type": "execute_result"
    }
   ],
   "source": [
    "settle[0].text"
   ]
  },
  {
   "cell_type": "code",
   "execution_count": 27,
   "id": "cea353e9",
   "metadata": {},
   "outputs": [
    {
     "data": {
      "text/plain": [
       "10"
      ]
     },
     "execution_count": 27,
     "metadata": {},
     "output_type": "execute_result"
    }
   ],
   "source": [
    "# 6. volume 데이터 수집\n",
    "volume=driver.find_elements(By.CSS_SELECTOR, \"#displayTable > tbody > tr> td:nth-child(6)\")\n",
    "len(volume)"
   ]
  },
  {
   "cell_type": "code",
   "execution_count": 28,
   "id": "b57510e2",
   "metadata": {},
   "outputs": [
    {
     "data": {
      "text/plain": [
       "'131958'"
      ]
     },
     "execution_count": 28,
     "metadata": {},
     "output_type": "execute_result"
    }
   ],
   "source": [
    "volume[0].text"
   ]
  },
  {
   "cell_type": "code",
   "execution_count": 32,
   "id": "d0107b61",
   "metadata": {},
   "outputs": [],
   "source": [
    "# 7. 다음 버튼\n",
    "btn=driver.find_element(By.ID,\"displayTable_next\")\n",
    "btn.click()"
   ]
  },
  {
   "cell_type": "code",
   "execution_count": 34,
   "id": "fe83e1de",
   "metadata": {},
   "outputs": [
    {
     "data": {
      "text/plain": [
       "{'DATE': [], 'TYPE': [], 'OPEN': [], 'CLOSE': [], 'SETTLE': [], 'VOLUME': []}"
      ]
     },
     "execution_count": 34,
     "metadata": {},
     "output_type": "execute_result"
    }
   ],
   "source": [
    "dic={\"DATE\":[],\n",
    "     \"TYPE\":[],\n",
    "     \"OPEN\":[],\n",
    "     \"CLOSE\":[],\n",
    "     \"SETTLE\":[],\n",
    "     \"VOLUME\":[]}\n",
    "dic"
   ]
  },
  {
   "cell_type": "code",
   "execution_count": 35,
   "id": "2763f2fc",
   "metadata": {},
   "outputs": [
    {
     "ename": "KeyboardInterrupt",
     "evalue": "",
     "output_type": "error",
     "traceback": [
      "\u001b[1;31m---------------------------------------------------------------------------\u001b[0m",
      "\u001b[1;31mKeyboardInterrupt\u001b[0m                         Traceback (most recent call last)",
      "Cell \u001b[1;32mIn[35], line 34\u001b[0m\n\u001b[0;32m     32\u001b[0m     \u001b[38;5;28;01mexcept\u001b[39;00m:\n\u001b[0;32m     33\u001b[0m         dic[\u001b[38;5;124m\"\u001b[39m\u001b[38;5;124mVOLUME\u001b[39m\u001b[38;5;124m\"\u001b[39m]\u001b[38;5;241m.\u001b[39mappend(\u001b[38;5;124m\"\u001b[39m\u001b[38;5;124m\"\u001b[39m)\n\u001b[1;32m---> 34\u001b[0m     \u001b[43mtime\u001b[49m\u001b[38;5;241;43m.\u001b[39;49m\u001b[43msleep\u001b[49m\u001b[43m(\u001b[49m\u001b[38;5;241;43m0.5\u001b[39;49m\u001b[43m)\u001b[49m\n\u001b[0;32m     35\u001b[0m btn\u001b[38;5;241m=\u001b[39mdriver\u001b[38;5;241m.\u001b[39mfind_element(By\u001b[38;5;241m.\u001b[39mID,\u001b[38;5;124m\"\u001b[39m\u001b[38;5;124mdisplayTable_next\u001b[39m\u001b[38;5;124m\"\u001b[39m)\n\u001b[0;32m     36\u001b[0m btn\u001b[38;5;241m.\u001b[39mclick()\n",
      "\u001b[1;31mKeyboardInterrupt\u001b[0m: "
     ]
    }
   ],
   "source": [
    "# 반복 추출\n",
    "for j in range(300):\n",
    "    for i in range(10):\n",
    "        try:\n",
    "            date=driver.find_elements(By.CSS_SELECTOR, \"#displayTable > tbody > tr> td:nth-child(1)\")\n",
    "            dic[\"DATE\"].append(date[i].text)\n",
    "        except:\n",
    "            dic[\"DATE\"].append(\"\")\n",
    "        try:\n",
    "            type=driver.find_elements(By.CSS_SELECTOR, \"#displayTable > tbody > tr> td:nth-child(2)\")\n",
    "            dic[\"TYPE\"].append(type[i].text)\n",
    "        except:\n",
    "            dic[\"TYPE\"].append(\"\")\n",
    "        try:\n",
    "            open=driver.find_elements(By.CSS_SELECTOR, \"#displayTable > tbody > tr> td:nth-child(3)\")\n",
    "            dic[\"OPEN\"].append(open[i].text)\n",
    "        except:\n",
    "            dic[\"OPEN\"].append(\"\")\n",
    "        try:\n",
    "            close=driver.find_elements(By.CSS_SELECTOR, \"#displayTable > tbody > tr> td:nth-child(4)\")\n",
    "            dic[\"CLOSE\"].append(close[i].text)\n",
    "        except:\n",
    "            dic[\"CLOSE\"].append(\"\")\n",
    "        try:\n",
    "            settle=driver.find_elements(By.CSS_SELECTOR, \"#displayTable > tbody > tr> td:nth-child(5)\")\n",
    "            dic[\"SETTLE\"].append(settle[i].text)\n",
    "        except:\n",
    "            dic[\"SETTLE\"].append(\"\")\n",
    "        try:\n",
    "            volume=driver.find_elements(By.CSS_SELECTOR, \"#displayTable > tbody > tr> td:nth-child(6)\")\n",
    "            dic[\"VOLUME\"].append(volume.text)\n",
    "        except:\n",
    "            dic[\"VOLUME\"].append(\"\")\n",
    "        time.sleep(0.5)\n",
    "    btn=driver.find_element(By.ID,\"displayTable_next\")\n",
    "    btn.click()\n",
    "    time.sleep(0.5)"
   ]
  },
  {
   "cell_type": "code",
   "execution_count": 36,
   "id": "3d2be287",
   "metadata": {},
   "outputs": [
    {
     "ename": "NameError",
     "evalue": "name 'news_dic' is not defined",
     "output_type": "error",
     "traceback": [
      "\u001b[1;31m---------------------------------------------------------------------------\u001b[0m",
      "\u001b[1;31mNameError\u001b[0m                                 Traceback (most recent call last)",
      "Cell \u001b[1;32mIn[36], line 1\u001b[0m\n\u001b[1;32m----> 1\u001b[0m df\u001b[38;5;241m=\u001b[39mpd\u001b[38;5;241m.\u001b[39mDataFrame(\u001b[43mnews_dic\u001b[49m)\n\u001b[0;32m      2\u001b[0m df\n",
      "\u001b[1;31mNameError\u001b[0m: name 'news_dic' is not defined"
     ]
    }
   ],
   "source": [
    "df=pd.DataFrame(news_dic)\n",
    "df"
   ]
  },
  {
   "cell_type": "code",
   "execution_count": 37,
   "id": "4f3a70f0",
   "metadata": {},
   "outputs": [],
   "source": [
    "#df.to_csv(r\"C:\\Users\\smart\\Desktop\\곡물가격.csv\",encoding=\"utf-8-sig\")"
   ]
  },
  {
   "cell_type": "code",
   "execution_count": null,
   "id": "4157e002",
   "metadata": {},
   "outputs": [],
   "source": []
  },
  {
   "cell_type": "code",
   "execution_count": null,
   "id": "5a995c52",
   "metadata": {},
   "outputs": [],
   "source": []
  },
  {
   "cell_type": "code",
   "execution_count": null,
   "id": "9fc58f06",
   "metadata": {},
   "outputs": [],
   "source": []
  },
  {
   "cell_type": "code",
   "execution_count": null,
   "id": "36375147",
   "metadata": {},
   "outputs": [],
   "source": []
  },
  {
   "cell_type": "code",
   "execution_count": null,
   "id": "4ff2cbf4",
   "metadata": {},
   "outputs": [],
   "source": []
  },
  {
   "cell_type": "code",
   "execution_count": null,
   "id": "eb5323e6",
   "metadata": {},
   "outputs": [],
   "source": []
  },
  {
   "cell_type": "code",
   "execution_count": null,
   "id": "e7f8ddc1",
   "metadata": {},
   "outputs": [],
   "source": []
  }
 ],
 "metadata": {
  "kernelspec": {
   "display_name": "Python 3 (ipykernel)",
   "language": "python",
   "name": "python3"
  },
  "language_info": {
   "codemirror_mode": {
    "name": "ipython",
    "version": 3
   },
   "file_extension": ".py",
   "mimetype": "text/x-python",
   "name": "python",
   "nbconvert_exporter": "python",
   "pygments_lexer": "ipython3",
   "version": "3.10.9"
  }
 },
 "nbformat": 4,
 "nbformat_minor": 5
}
